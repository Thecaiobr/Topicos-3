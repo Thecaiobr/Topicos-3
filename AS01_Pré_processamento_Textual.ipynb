{
  "nbformat": 4,
  "nbformat_minor": 0,
  "metadata": {
    "colab": {
      "provenance": [],
      "authorship_tag": "ABX9TyMfkyxiflr8IqfEf87yTntp",
      "include_colab_link": true
    },
    "kernelspec": {
      "name": "python3",
      "display_name": "Python 3"
    },
    "language_info": {
      "name": "python"
    }
  },
  "cells": [
    {
      "cell_type": "markdown",
      "metadata": {
        "id": "view-in-github",
        "colab_type": "text"
      },
      "source": [
        "<a href=\"https://colab.research.google.com/github/Thecaiobr/Topicos-3/blob/main/AS01_Pr%C3%A9_processamento_Textual.ipynb\" target=\"_parent\"><img src=\"https://colab.research.google.com/assets/colab-badge.svg\" alt=\"Open In Colab\"/></a>"
      ]
    },
    {
      "cell_type": "markdown",
      "source": [
        "# 1. Normalização"
      ],
      "metadata": {
        "id": "8f8l7SxesAJq"
      }
    },
    {
      "cell_type": "markdown",
      "source": [
        "# Importando o texto"
      ],
      "metadata": {
        "id": "j6LFBbB0sJFI"
      }
    },
    {
      "cell_type": "code",
      "execution_count": null,
      "metadata": {
        "colab": {
          "base_uri": "https://localhost:8080/"
        },
        "id": "zWrzdemNgEIK",
        "outputId": "489b2d75-8a33-42a5-de7c-1583e306a99c"
      },
      "outputs": [
        {
          "output_type": "stream",
          "name": "stdout",
          "text": [
            "That, poor contempt, or claim'd thou slept so faithful,\n",
            "I may contrive our father; and, in their defeated queen,\n",
            "Her flesh broke me and puttance of expedition house,\n",
            "And in that same that ever I lament this stomach,\n",
            "And he, nor Butly and my fury, knowing everything\n",
            "Grew daily ever, his great strength and thought\n",
            "The bright buds of mine own.\n",
            "\n",
            "BIONDELLO:\n",
            "Marry, that it may not pray their patience.'\n",
            "\n",
            "KING LEAR:\n",
            "The instant common maid, as we may less be\n",
            "a brave gentleman and joiner: he that finds us with wax\n",
            "And owe so full of presence and our fooder at our\n",
            "staves. It is remorsed the bridal's man his grace\n",
            "for every business in my tongue, but I was thinking\n",
            "that he contends, he hath respected thee.\n",
            "\n",
            "BIRON:\n",
            "She left thee on, I'll die to blessed and most reasonable\n",
            "Nature in this honour, and her bosom is safe, some\n",
            "others from his speedy-birth, a bill and as\n",
            "Forestem with Richard in your heart\n",
            "Be question'd on, nor that I was enough:\n",
            "Which of a partier forth the obsers d'punish'd the hate\n",
            "T\n"
          ]
        }
      ],
      "source": [
        "with open(\"Shakespeare.txt\", \"r\") as f:\n",
        "    text = f.read()\n",
        "#text = \"It's true, Ms. Martha Töpfer! $3.00 on 3/21/2023 in cash for an ice-cream in the U.S. market? :-( #Truth\"\n",
        "\n",
        "print(text[:1000])\n",
        "\n",
        "text = globals()['text']\n",
        "\n"
      ]
    },
    {
      "cell_type": "markdown",
      "source": [
        "# Lower Case reduction"
      ],
      "metadata": {
        "id": "LOlVwjF5sOT-"
      }
    },
    {
      "cell_type": "code",
      "source": [
        "# prompt: transforme todo o texto da variavel text para lower case\n",
        "\n",
        "lower_text = text.lower()\n",
        "print(lower_text[:500])"
      ],
      "metadata": {
        "colab": {
          "base_uri": "https://localhost:8080/"
        },
        "id": "RC_5PYcgi4Di",
        "outputId": "c97405d2-e020-4c7c-942f-7ceaae7af1c0"
      },
      "execution_count": null,
      "outputs": [
        {
          "output_type": "stream",
          "name": "stdout",
          "text": [
            "that, poor contempt, or claim'd thou slept so faithful,\n",
            "i may contrive our father; and, in their defeated queen,\n",
            "her flesh broke me and puttance of expedition house,\n",
            "and in that same that ever i lament this stomach,\n",
            "and he, nor butly and my fury, knowing everything\n",
            "grew daily ever, his great strength and thought\n",
            "the bright buds of mine own.\n",
            "\n",
            "biondello:\n",
            "marry, that it may not pray their patience.'\n",
            "\n",
            "king lear:\n",
            "the instant common maid, as we may less be\n",
            "a brave gentleman and joiner: he that finds u\n"
          ]
        }
      ]
    },
    {
      "cell_type": "markdown",
      "source": [
        "# Accent and diacritic removal"
      ],
      "metadata": {
        "id": "CaTVkVaes1xD"
      }
    },
    {
      "cell_type": "code",
      "source": [
        "# prompt:  Accent and diacritic removal\n",
        "\n",
        "import re\n",
        "\n",
        "def remove_accents_and_diacritics(text):\n",
        "\n",
        "  text = re.sub(r\"[àáâãäå]\", \"a\", text)\n",
        "  text = re.sub(r\"[èéêë]\", \"e\", text)\n",
        "  text = re.sub(r\"[ìíîï]\", \"i\", text)\n",
        "  text = re.sub(r\"[òóôõö]\", \"o\", text)\n",
        "  text = re.sub(r\"[ùúûü]\", \"u\", text)\n",
        "  text = re.sub(r\"[ýÿ]\", \"y\", text)\n",
        "  text = re.sub(r\"[ç]\", \"c\", text)\n",
        "\n",
        "  return text\n",
        "\n",
        "accentless_text = remove_accents_and_diacritics(lower_text)\n",
        "print(accentless_text[:500])\n"
      ],
      "metadata": {
        "colab": {
          "base_uri": "https://localhost:8080/"
        },
        "id": "DSE9iQtDkEfS",
        "outputId": "318bd6e7-b0bd-4566-be9d-f9aa29eb4460"
      },
      "execution_count": null,
      "outputs": [
        {
          "output_type": "stream",
          "name": "stdout",
          "text": [
            "that, poor contempt, or claim'd thou slept so faithful,\n",
            "i may contrive our father; and, in their defeated queen,\n",
            "her flesh broke me and puttance of expedition house,\n",
            "and in that same that ever i lament this stomach,\n",
            "and he, nor butly and my fury, knowing everything\n",
            "grew daily ever, his great strength and thought\n",
            "the bright buds of mine own.\n",
            "\n",
            "biondello:\n",
            "marry, that it may not pray their patience.'\n",
            "\n",
            "king lear:\n",
            "the instant common maid, as we may less be\n",
            "a brave gentleman and joiner: he that finds u\n"
          ]
        }
      ]
    },
    {
      "cell_type": "markdown",
      "source": [
        "# Canonicalizing of acronyms, currency, date and hyphenated words"
      ],
      "metadata": {
        "id": "3oP-njyCsbQe"
      }
    },
    {
      "cell_type": "code",
      "source": [
        "#Canonicalizing of acronyms, currency, date and hyphenated words\n",
        "import re\n",
        "\n",
        "acronymus_removal = re.sub('\\.{?!(\\S[^. ])|\\d}', '', accentless_text)\n",
        "print(acronymus_removal[:500])"
      ],
      "metadata": {
        "colab": {
          "base_uri": "https://localhost:8080/"
        },
        "id": "_dhVAXf_mc2j",
        "outputId": "bf0b9c5a-e7bc-4677-a940-45fdf61c2a89"
      },
      "execution_count": null,
      "outputs": [
        {
          "output_type": "stream",
          "name": "stdout",
          "text": [
            "that, poor contempt, or claim'd thou slept so faithful,\n",
            "i may contrive our father; and, in their defeated queen,\n",
            "her flesh broke me and puttance of expedition house,\n",
            "and in that same that ever i lament this stomach,\n",
            "and he, nor butly and my fury, knowing everything\n",
            "grew daily ever, his great strength and thought\n",
            "the bright buds of mine own.\n",
            "\n",
            "biondello:\n",
            "marry, that it may not pray their patience.'\n",
            "\n",
            "king lear:\n",
            "the instant common maid, as we may less be\n",
            "a brave gentleman and joiner: he that finds u\n"
          ]
        }
      ]
    },
    {
      "cell_type": "markdown",
      "source": [
        "# Punctuation removal (except currency and date)."
      ],
      "metadata": {
        "id": "OtuNMVvdtEhx"
      }
    },
    {
      "cell_type": "code",
      "source": [
        "# prompt: Punctuation removal (except currency and date).\n",
        "\n",
        "import re\n",
        "\n",
        "def remove_punctuation(text):\n",
        "  punctuation_pattern = r\"[^\\w\\s\\$\\%\\&\\+\\-\\/\\=\\?\\^\\`\\{\\|\\}\\~]\"\n",
        "\n",
        "  text_without_punctuation = re.sub(punctuation_pattern, \"\", text)\n",
        "\n",
        "  return text_without_punctuation\n",
        "\n",
        "text_without_punctuation = remove_punctuation(acronymus_removal)\n",
        "print(text_without_punctuation[:500])\n"
      ],
      "metadata": {
        "colab": {
          "base_uri": "https://localhost:8080/"
        },
        "id": "3M91rpMLtJ7a",
        "outputId": "9b59039c-4ce1-4f18-c9fb-8b96fb6b71dc"
      },
      "execution_count": null,
      "outputs": [
        {
          "output_type": "stream",
          "name": "stdout",
          "text": [
            "that poor contempt or claimd thou slept so faithful\n",
            "i may contrive our father and in their defeated queen\n",
            "her flesh broke me and puttance of expedition house\n",
            "and in that same that ever i lament this stomach\n",
            "and he nor butly and my fury knowing everything\n",
            "grew daily ever his great strength and thought\n",
            "the bright buds of mine own\n",
            "\n",
            "biondello\n",
            "marry that it may not pray their patience\n",
            "\n",
            "king lear\n",
            "the instant common maid as we may less be\n",
            "a brave gentleman and joiner he that finds us with wax\n",
            "and owe s\n"
          ]
        }
      ]
    },
    {
      "cell_type": "markdown",
      "source": [
        "# Special character removal"
      ],
      "metadata": {
        "id": "kg9vJrQ4sx97"
      }
    },
    {
      "cell_type": "code",
      "source": [
        "#special character removal\n",
        "import re\n",
        "special_characters = r'[!@#$%^&*()\\-_=+\\[\\]{};:\\'\\\"\\\\|,.<>?\\/]'\n",
        "nospecial_text = re.sub(special_characters, '', text_without_punctuation)\n",
        "nospecial_text = re.sub(' +', ' ', nospecial_text)\n",
        "\n",
        "print(nospecial_text[:500])\n"
      ],
      "metadata": {
        "colab": {
          "base_uri": "https://localhost:8080/"
        },
        "id": "Wt6RDiaFnwif",
        "outputId": "2a795983-6846-4ed5-d4d0-63340181c93a"
      },
      "execution_count": null,
      "outputs": [
        {
          "output_type": "stream",
          "name": "stdout",
          "text": [
            "that poor contempt or claimd thou slept so faithful\n",
            "i may contrive our father and in their defeated queen\n",
            "her flesh broke me and puttance of expedition house\n",
            "and in that same that ever i lament this stomach\n",
            "and he nor butly and my fury knowing everything\n",
            "grew daily ever his great strength and thought\n",
            "the bright buds of mine own\n",
            "\n",
            "biondello\n",
            "marry that it may not pray their patience\n",
            "\n",
            "king lear\n",
            "the instant common maid as we may less be\n",
            "a brave gentleman and joiner he that finds us with wax\n",
            "and owe s\n"
          ]
        }
      ]
    },
    {
      "cell_type": "markdown",
      "source": [
        "# 2. Tokenização"
      ],
      "metadata": {
        "id": "7xYsGdNQti1v"
      }
    },
    {
      "cell_type": "markdown",
      "source": [
        "# White Space Tokenization"
      ],
      "metadata": {
        "id": "pz5XDB1wtqey"
      }
    },
    {
      "cell_type": "code",
      "source": [
        "tokenized_text = nospecial_text.split()\n",
        "\n",
        "with open(\"Shakespeare_Normalized_Tokenized01.txt\", \"w\") as f_out:\n",
        "    for token in tokenized_text:\n",
        "        f_out.write(token + \"\\n\")\n",
        "\n",
        "\n",
        "print(tokenized_text[:500])\n"
      ],
      "metadata": {
        "id": "oa6q7SbcuJEf",
        "colab": {
          "base_uri": "https://localhost:8080/"
        },
        "outputId": "7dd63a9e-1b75-4902-c3b5-921c48839831"
      },
      "execution_count": null,
      "outputs": [
        {
          "output_type": "stream",
          "name": "stdout",
          "text": [
            "['that', 'poor', 'contempt', 'or', 'claimd', 'thou', 'slept', 'so', 'faithful', 'i', 'may', 'contrive', 'our', 'father', 'and', 'in', 'their', 'defeated', 'queen', 'her', 'flesh', 'broke', 'me', 'and', 'puttance', 'of', 'expedition', 'house', 'and', 'in', 'that', 'same', 'that', 'ever', 'i', 'lament', 'this', 'stomach', 'and', 'he', 'nor', 'butly', 'and', 'my', 'fury', 'knowing', 'everything', 'grew', 'daily', 'ever', 'his', 'great', 'strength', 'and', 'thought', 'the', 'bright', 'buds', 'of', 'mine', 'own', 'biondello', 'marry', 'that', 'it', 'may', 'not', 'pray', 'their', 'patience', 'king', 'lear', 'the', 'instant', 'common', 'maid', 'as', 'we', 'may', 'less', 'be', 'a', 'brave', 'gentleman', 'and', 'joiner', 'he', 'that', 'finds', 'us', 'with', 'wax', 'and', 'owe', 'so', 'full', 'of', 'presence', 'and', 'our', 'fooder', 'at', 'our', 'staves', 'it', 'is', 'remorsed', 'the', 'bridals', 'man', 'his', 'grace', 'for', 'every', 'business', 'in', 'my', 'tongue', 'but', 'i', 'was', 'thinking', 'that', 'he', 'contends', 'he', 'hath', 'respected', 'thee', 'biron', 'she', 'left', 'thee', 'on', 'ill', 'die', 'to', 'blessed', 'and', 'most', 'reasonable', 'nature', 'in', 'this', 'honour', 'and', 'her', 'bosom', 'is', 'safe', 'some', 'others', 'from', 'his', 'speedybirth', 'a', 'bill', 'and', 'as', 'forestem', 'with', 'richard', 'in', 'your', 'heart', 'be', 'questiond', 'on', 'nor', 'that', 'i', 'was', 'enough', 'which', 'of', 'a', 'partier', 'forth', 'the', 'obsers', 'dpunishd', 'the', 'hate', 'to', 'my', 'restraints', 'would', 'not', 'then', 'be', 'got', 'as', 'i', 'partly', 'autolycus', 'hath', 'sat', 'her', 'love', 'within', 'this', 'man', 'that', 'was', 'foul', 'prayers', 'which', 'are', 'much', 'thus', 'from', 'them', 'with', 'thee', 'i', 'am', 'not', 'ever', 'thought', 'to', 'make', 'that', 'with', 'a', 'wise', 'exclaim', 'as', 'i', 'am', 'sure', 'to', 'say', 'well', 'like', 'a', 'dotage', 'on', 'the', 'fixed', 'cease', 'and', 'let', 'mine', 'eyes', 'may', 'straight', 'sole', 'sword', 'conveyard', 'that', 'dustconfounded', 'by', 'a', 'land', 'to', 'their', 'command', 'then', 'puissant', 'with', 'a', 'griefs', 'it', 'should', 'be', 'so', 'and', 'dead', 'till', 'he', 'shall', 'fail', 'his', 'sister', 'and', 'in', 'true', 'and', 'good', 'to', 'see', 'me', 'for', 'the', 'other', 'hath', 'not', 'heard', 'a', 'midwife', 'loud', 'from', 'my', 'service', 'and', 'thy', 'sweetly', 'daughter', 'got', 'the', 'single', 'strange', 'words', 'pent', 'is', 'all', 'his', 'steed', 'stay', 'from', 'us', 'in', 'as', 'he', 'hath', 'we', 'brought', 'me', 'into', 'the', 'milthiness', 'guiderius', 'why', 'my', 'lord', 'shall', 'not', 'part', 'well', 'but', 'it', 'shall', 'have', 'my', 'hands', 'let', 'us', 'be', 'taken', 'that', 'thou', 'weights', 'return', 'to', 'mine', 'ring', 'ere', 'i', 'should', 'be', 'dangerous', 'with', 'a', 'good', 'way', 'to', 'swear', 'it', 'for', 'the', 'bears', 'now', 'he', 'was', 'kin', 'to', 'him', 'but', 'then', 'his', 'own', 'islands', 'sisters', 'all', 'speech', 'would', 'deny', 'and', 'force', 'i', 'grant', 'it', 'abhorson', 'thou', 'art', 'a', 'very', 'earth', 'villain', 'reserves', 'my', 'keeping', 'talbot', 'king', 'henry', 'viii', 'now', 'to', 'have', 'lead', 'for', 'me', 'kent', 'but', 'yet', 'ease', 'yourself', 'truly', 'in', 'the', 'numbers', 'if', 'he', 'be', 'no', 'talk', 'at', 'my', 'death', 'in', 'the', 'name', 'of', 'hot', 'years', 'then', 'that', 'had', 'not', 'so', 'far', 'good', 'general', 'to', 'make', 'with', 'buried', 'vacus', 'arrest', 'them', 'timon', 'stay', 'and', 'the', 'sere', 'hath', 'dangerous', 'too', 'grace', 'a', 'sail', 'the', 'breath', 'of', 'knees', 'broke', 'deeds', 'would', 'do', 'thy', 'husband', 'and', 'alack', 'to', 'speak', 'and', 'pluck', 'their', 'men', 'at', 'thy', 'abroad', 'doth', 'go', 'cassius', 'and', 'in', 'desire', 'and', 'calld', 'me', 'ballant', 'cassius', 'bardolph', 'tost', 'in', 'it', 'what', 'then', 'take', 'your', 'madder', 'duke', 'of', 'york', 'she', 'would', 'be', 'ready', 'this']\n"
          ]
        }
      ]
    },
    {
      "cell_type": "markdown",
      "source": [
        "# NLTK: Word Tokenizer"
      ],
      "metadata": {
        "id": "6eytFElh3Lgi"
      }
    },
    {
      "cell_type": "code",
      "source": [
        "import nltk\n",
        "nltk.download('punkt')\n",
        "import nltk.tokenize as to\n",
        "\n",
        "word_tokenizer_text = to.word_tokenize(nospecial_text)\n",
        "\n",
        "with open(\"Shakespeare_Normalized_Tokenized02.txt\", \"w\") as f_out:\n",
        "    for token in tokenized_text:\n",
        "        f_out.write(token + \"\\n\")\n",
        "\n",
        "print(word_tokenizer_text[:500])"
      ],
      "metadata": {
        "colab": {
          "base_uri": "https://localhost:8080/"
        },
        "id": "gIIzF2J53L0f",
        "outputId": "c6288022-2845-45cf-dbb8-86c854acff72"
      },
      "execution_count": null,
      "outputs": [
        {
          "output_type": "stream",
          "name": "stdout",
          "text": [
            "['that', 'poor', 'contempt', 'or', 'claimd', 'thou', 'slept', 'so', 'faithful', 'i', 'may', 'contrive', 'our', 'father', 'and', 'in', 'their', 'defeated', 'queen', 'her', 'flesh', 'broke', 'me', 'and', 'puttance', 'of', 'expedition', 'house', 'and', 'in', 'that', 'same', 'that', 'ever', 'i', 'lament', 'this', 'stomach', 'and', 'he', 'nor', 'butly', 'and', 'my', 'fury', 'knowing', 'everything', 'grew', 'daily', 'ever', 'his', 'great', 'strength', 'and', 'thought', 'the', 'bright', 'buds', 'of', 'mine', 'own', 'biondello', 'marry', 'that', 'it', 'may', 'not', 'pray', 'their', 'patience', 'king', 'lear', 'the', 'instant', 'common', 'maid', 'as', 'we', 'may', 'less', 'be', 'a', 'brave', 'gentleman', 'and', 'joiner', 'he', 'that', 'finds', 'us', 'with', 'wax', 'and', 'owe', 'so', 'full', 'of', 'presence', 'and', 'our', 'fooder', 'at', 'our', 'staves', 'it', 'is', 'remorsed', 'the', 'bridals', 'man', 'his', 'grace', 'for', 'every', 'business', 'in', 'my', 'tongue', 'but', 'i', 'was', 'thinking', 'that', 'he', 'contends', 'he', 'hath', 'respected', 'thee', 'biron', 'she', 'left', 'thee', 'on', 'ill', 'die', 'to', 'blessed', 'and', 'most', 'reasonable', 'nature', 'in', 'this', 'honour', 'and', 'her', 'bosom', 'is', 'safe', 'some', 'others', 'from', 'his', 'speedybirth', 'a', 'bill', 'and', 'as', 'forestem', 'with', 'richard', 'in', 'your', 'heart', 'be', 'questiond', 'on', 'nor', 'that', 'i', 'was', 'enough', 'which', 'of', 'a', 'partier', 'forth', 'the', 'obsers', 'dpunishd', 'the', 'hate', 'to', 'my', 'restraints', 'would', 'not', 'then', 'be', 'got', 'as', 'i', 'partly', 'autolycus', 'hath', 'sat', 'her', 'love', 'within', 'this', 'man', 'that', 'was', 'foul', 'prayers', 'which', 'are', 'much', 'thus', 'from', 'them', 'with', 'thee', 'i', 'am', 'not', 'ever', 'thought', 'to', 'make', 'that', 'with', 'a', 'wise', 'exclaim', 'as', 'i', 'am', 'sure', 'to', 'say', 'well', 'like', 'a', 'dotage', 'on', 'the', 'fixed', 'cease', 'and', 'let', 'mine', 'eyes', 'may', 'straight', 'sole', 'sword', 'conveyard', 'that', 'dustconfounded', 'by', 'a', 'land', 'to', 'their', 'command', 'then', 'puissant', 'with', 'a', 'griefs', 'it', 'should', 'be', 'so', 'and', 'dead', 'till', 'he', 'shall', 'fail', 'his', 'sister', 'and', 'in', 'true', 'and', 'good', 'to', 'see', 'me', 'for', 'the', 'other', 'hath', 'not', 'heard', 'a', 'midwife', 'loud', 'from', 'my', 'service', 'and', 'thy', 'sweetly', 'daughter', 'got', 'the', 'single', 'strange', 'words', 'pent', 'is', 'all', 'his', 'steed', 'stay', 'from', 'us', 'in', 'as', 'he', 'hath', 'we', 'brought', 'me', 'into', 'the', 'milthiness', 'guiderius', 'why', 'my', 'lord', 'shall', 'not', 'part', 'well', 'but', 'it', 'shall', 'have', 'my', 'hands', 'let', 'us', 'be', 'taken', 'that', 'thou', 'weights', 'return', 'to', 'mine', 'ring', 'ere', 'i', 'should', 'be', 'dangerous', 'with', 'a', 'good', 'way', 'to', 'swear', 'it', 'for', 'the', 'bears', 'now', 'he', 'was', 'kin', 'to', 'him', 'but', 'then', 'his', 'own', 'islands', 'sisters', 'all', 'speech', 'would', 'deny', 'and', 'force', 'i', 'grant', 'it', 'abhorson', 'thou', 'art', 'a', 'very', 'earth', 'villain', 'reserves', 'my', 'keeping', 'talbot', 'king', 'henry', 'viii', 'now', 'to', 'have', 'lead', 'for', 'me', 'kent', 'but', 'yet', 'ease', 'yourself', 'truly', 'in', 'the', 'numbers', 'if', 'he', 'be', 'no', 'talk', 'at', 'my', 'death', 'in', 'the', 'name', 'of', 'hot', 'years', 'then', 'that', 'had', 'not', 'so', 'far', 'good', 'general', 'to', 'make', 'with', 'buried', 'vacus', 'arrest', 'them', 'timon', 'stay', 'and', 'the', 'sere', 'hath', 'dangerous', 'too', 'grace', 'a', 'sail', 'the', 'breath', 'of', 'knees', 'broke', 'deeds', 'would', 'do', 'thy', 'husband', 'and', 'alack', 'to', 'speak', 'and', 'pluck', 'their', 'men', 'at', 'thy', 'abroad', 'doth', 'go', 'cassius', 'and', 'in', 'desire', 'and', 'calld', 'me', 'ballant', 'cassius', 'bardolph', 'tost', 'in', 'it', 'what', 'then', 'take', 'your', 'madder', 'duke', 'of', 'york', 'she', 'would', 'be', 'ready', 'this']\n"
          ]
        },
        {
          "output_type": "stream",
          "name": "stderr",
          "text": [
            "[nltk_data] Downloading package punkt to /root/nltk_data...\n",
            "[nltk_data]   Package punkt is already up-to-date!\n"
          ]
        }
      ]
    },
    {
      "cell_type": "markdown",
      "source": [
        "# NLTK: Tree Bank Tokenizer"
      ],
      "metadata": {
        "id": "dmU1hZN44YAP"
      }
    },
    {
      "cell_type": "code",
      "source": [
        "tree_tokenizer_text = to.TreebankWordTokenizer().tokenize(nospecial_text)\n",
        "\n",
        "with open(\"Shakespeare_Normalized_Tokenized03.txt\", \"w\") as f_out:\n",
        "    for token in tokenized_text:\n",
        "        f_out.write(token + \"\\n\")\n",
        "\n",
        "print(tree_tokenizer_text[:500])"
      ],
      "metadata": {
        "colab": {
          "base_uri": "https://localhost:8080/"
        },
        "id": "zCajAv2v4YIo",
        "outputId": "1135c194-d600-47ff-979c-a7fe96105bc6"
      },
      "execution_count": null,
      "outputs": [
        {
          "output_type": "stream",
          "name": "stdout",
          "text": [
            "['that', 'poor', 'contempt', 'or', 'claimd', 'thou', 'slept', 'so', 'faithful', 'i', 'may', 'contrive', 'our', 'father', 'and', 'in', 'their', 'defeated', 'queen', 'her', 'flesh', 'broke', 'me', 'and', 'puttance', 'of', 'expedition', 'house', 'and', 'in', 'that', 'same', 'that', 'ever', 'i', 'lament', 'this', 'stomach', 'and', 'he', 'nor', 'butly', 'and', 'my', 'fury', 'knowing', 'everything', 'grew', 'daily', 'ever', 'his', 'great', 'strength', 'and', 'thought', 'the', 'bright', 'buds', 'of', 'mine', 'own', 'biondello', 'marry', 'that', 'it', 'may', 'not', 'pray', 'their', 'patience', 'king', 'lear', 'the', 'instant', 'common', 'maid', 'as', 'we', 'may', 'less', 'be', 'a', 'brave', 'gentleman', 'and', 'joiner', 'he', 'that', 'finds', 'us', 'with', 'wax', 'and', 'owe', 'so', 'full', 'of', 'presence', 'and', 'our', 'fooder', 'at', 'our', 'staves', 'it', 'is', 'remorsed', 'the', 'bridals', 'man', 'his', 'grace', 'for', 'every', 'business', 'in', 'my', 'tongue', 'but', 'i', 'was', 'thinking', 'that', 'he', 'contends', 'he', 'hath', 'respected', 'thee', 'biron', 'she', 'left', 'thee', 'on', 'ill', 'die', 'to', 'blessed', 'and', 'most', 'reasonable', 'nature', 'in', 'this', 'honour', 'and', 'her', 'bosom', 'is', 'safe', 'some', 'others', 'from', 'his', 'speedybirth', 'a', 'bill', 'and', 'as', 'forestem', 'with', 'richard', 'in', 'your', 'heart', 'be', 'questiond', 'on', 'nor', 'that', 'i', 'was', 'enough', 'which', 'of', 'a', 'partier', 'forth', 'the', 'obsers', 'dpunishd', 'the', 'hate', 'to', 'my', 'restraints', 'would', 'not', 'then', 'be', 'got', 'as', 'i', 'partly', 'autolycus', 'hath', 'sat', 'her', 'love', 'within', 'this', 'man', 'that', 'was', 'foul', 'prayers', 'which', 'are', 'much', 'thus', 'from', 'them', 'with', 'thee', 'i', 'am', 'not', 'ever', 'thought', 'to', 'make', 'that', 'with', 'a', 'wise', 'exclaim', 'as', 'i', 'am', 'sure', 'to', 'say', 'well', 'like', 'a', 'dotage', 'on', 'the', 'fixed', 'cease', 'and', 'let', 'mine', 'eyes', 'may', 'straight', 'sole', 'sword', 'conveyard', 'that', 'dustconfounded', 'by', 'a', 'land', 'to', 'their', 'command', 'then', 'puissant', 'with', 'a', 'griefs', 'it', 'should', 'be', 'so', 'and', 'dead', 'till', 'he', 'shall', 'fail', 'his', 'sister', 'and', 'in', 'true', 'and', 'good', 'to', 'see', 'me', 'for', 'the', 'other', 'hath', 'not', 'heard', 'a', 'midwife', 'loud', 'from', 'my', 'service', 'and', 'thy', 'sweetly', 'daughter', 'got', 'the', 'single', 'strange', 'words', 'pent', 'is', 'all', 'his', 'steed', 'stay', 'from', 'us', 'in', 'as', 'he', 'hath', 'we', 'brought', 'me', 'into', 'the', 'milthiness', 'guiderius', 'why', 'my', 'lord', 'shall', 'not', 'part', 'well', 'but', 'it', 'shall', 'have', 'my', 'hands', 'let', 'us', 'be', 'taken', 'that', 'thou', 'weights', 'return', 'to', 'mine', 'ring', 'ere', 'i', 'should', 'be', 'dangerous', 'with', 'a', 'good', 'way', 'to', 'swear', 'it', 'for', 'the', 'bears', 'now', 'he', 'was', 'kin', 'to', 'him', 'but', 'then', 'his', 'own', 'islands', 'sisters', 'all', 'speech', 'would', 'deny', 'and', 'force', 'i', 'grant', 'it', 'abhorson', 'thou', 'art', 'a', 'very', 'earth', 'villain', 'reserves', 'my', 'keeping', 'talbot', 'king', 'henry', 'viii', 'now', 'to', 'have', 'lead', 'for', 'me', 'kent', 'but', 'yet', 'ease', 'yourself', 'truly', 'in', 'the', 'numbers', 'if', 'he', 'be', 'no', 'talk', 'at', 'my', 'death', 'in', 'the', 'name', 'of', 'hot', 'years', 'then', 'that', 'had', 'not', 'so', 'far', 'good', 'general', 'to', 'make', 'with', 'buried', 'vacus', 'arrest', 'them', 'timon', 'stay', 'and', 'the', 'sere', 'hath', 'dangerous', 'too', 'grace', 'a', 'sail', 'the', 'breath', 'of', 'knees', 'broke', 'deeds', 'would', 'do', 'thy', 'husband', 'and', 'alack', 'to', 'speak', 'and', 'pluck', 'their', 'men', 'at', 'thy', 'abroad', 'doth', 'go', 'cassius', 'and', 'in', 'desire', 'and', 'calld', 'me', 'ballant', 'cassius', 'bardolph', 'tost', 'in', 'it', 'what', 'then', 'take', 'your', 'madder', 'duke', 'of', 'york', 'she', 'would', 'be', 'ready', 'this']\n"
          ]
        }
      ]
    },
    {
      "cell_type": "markdown",
      "source": [
        "# NLTK: Word Punctuation Tokenizer"
      ],
      "metadata": {
        "id": "3UoYMRo55CSL"
      }
    },
    {
      "cell_type": "code",
      "source": [
        "punctuation_tokenizer_text = to.WordPunctTokenizer().tokenize(nospecial_text)\n",
        "\n",
        "with open(\"Shakespeare_Normalized_Tokenized04.txt\", \"w\") as f_out:\n",
        "    for token in tokenized_text:\n",
        "        f_out.write(token + \"\\n\")\n",
        "\n",
        "print(punctuation_tokenizer_text[:500])"
      ],
      "metadata": {
        "colab": {
          "base_uri": "https://localhost:8080/"
        },
        "id": "WVqOuZ8r5CdQ",
        "outputId": "384ca516-3cc8-4426-a294-6b25d30f8b65"
      },
      "execution_count": null,
      "outputs": [
        {
          "output_type": "stream",
          "name": "stdout",
          "text": [
            "['that', 'poor', 'contempt', 'or', 'claimd', 'thou', 'slept', 'so', 'faithful', 'i', 'may', 'contrive', 'our', 'father', 'and', 'in', 'their', 'defeated', 'queen', 'her', 'flesh', 'broke', 'me', 'and', 'puttance', 'of', 'expedition', 'house', 'and', 'in', 'that', 'same', 'that', 'ever', 'i', 'lament', 'this', 'stomach', 'and', 'he', 'nor', 'butly', 'and', 'my', 'fury', 'knowing', 'everything', 'grew', 'daily', 'ever', 'his', 'great', 'strength', 'and', 'thought', 'the', 'bright', 'buds', 'of', 'mine', 'own', 'biondello', 'marry', 'that', 'it', 'may', 'not', 'pray', 'their', 'patience', 'king', 'lear', 'the', 'instant', 'common', 'maid', 'as', 'we', 'may', 'less', 'be', 'a', 'brave', 'gentleman', 'and', 'joiner', 'he', 'that', 'finds', 'us', 'with', 'wax', 'and', 'owe', 'so', 'full', 'of', 'presence', 'and', 'our', 'fooder', 'at', 'our', 'staves', 'it', 'is', 'remorsed', 'the', 'bridals', 'man', 'his', 'grace', 'for', 'every', 'business', 'in', 'my', 'tongue', 'but', 'i', 'was', 'thinking', 'that', 'he', 'contends', 'he', 'hath', 'respected', 'thee', 'biron', 'she', 'left', 'thee', 'on', 'ill', 'die', 'to', 'blessed', 'and', 'most', 'reasonable', 'nature', 'in', 'this', 'honour', 'and', 'her', 'bosom', 'is', 'safe', 'some', 'others', 'from', 'his', 'speedybirth', 'a', 'bill', 'and', 'as', 'forestem', 'with', 'richard', 'in', 'your', 'heart', 'be', 'questiond', 'on', 'nor', 'that', 'i', 'was', 'enough', 'which', 'of', 'a', 'partier', 'forth', 'the', 'obsers', 'dpunishd', 'the', 'hate', 'to', 'my', 'restraints', 'would', 'not', 'then', 'be', 'got', 'as', 'i', 'partly', 'autolycus', 'hath', 'sat', 'her', 'love', 'within', 'this', 'man', 'that', 'was', 'foul', 'prayers', 'which', 'are', 'much', 'thus', 'from', 'them', 'with', 'thee', 'i', 'am', 'not', 'ever', 'thought', 'to', 'make', 'that', 'with', 'a', 'wise', 'exclaim', 'as', 'i', 'am', 'sure', 'to', 'say', 'well', 'like', 'a', 'dotage', 'on', 'the', 'fixed', 'cease', 'and', 'let', 'mine', 'eyes', 'may', 'straight', 'sole', 'sword', 'conveyard', 'that', 'dustconfounded', 'by', 'a', 'land', 'to', 'their', 'command', 'then', 'puissant', 'with', 'a', 'griefs', 'it', 'should', 'be', 'so', 'and', 'dead', 'till', 'he', 'shall', 'fail', 'his', 'sister', 'and', 'in', 'true', 'and', 'good', 'to', 'see', 'me', 'for', 'the', 'other', 'hath', 'not', 'heard', 'a', 'midwife', 'loud', 'from', 'my', 'service', 'and', 'thy', 'sweetly', 'daughter', 'got', 'the', 'single', 'strange', 'words', 'pent', 'is', 'all', 'his', 'steed', 'stay', 'from', 'us', 'in', 'as', 'he', 'hath', 'we', 'brought', 'me', 'into', 'the', 'milthiness', 'guiderius', 'why', 'my', 'lord', 'shall', 'not', 'part', 'well', 'but', 'it', 'shall', 'have', 'my', 'hands', 'let', 'us', 'be', 'taken', 'that', 'thou', 'weights', 'return', 'to', 'mine', 'ring', 'ere', 'i', 'should', 'be', 'dangerous', 'with', 'a', 'good', 'way', 'to', 'swear', 'it', 'for', 'the', 'bears', 'now', 'he', 'was', 'kin', 'to', 'him', 'but', 'then', 'his', 'own', 'islands', 'sisters', 'all', 'speech', 'would', 'deny', 'and', 'force', 'i', 'grant', 'it', 'abhorson', 'thou', 'art', 'a', 'very', 'earth', 'villain', 'reserves', 'my', 'keeping', 'talbot', 'king', 'henry', 'viii', 'now', 'to', 'have', 'lead', 'for', 'me', 'kent', 'but', 'yet', 'ease', 'yourself', 'truly', 'in', 'the', 'numbers', 'if', 'he', 'be', 'no', 'talk', 'at', 'my', 'death', 'in', 'the', 'name', 'of', 'hot', 'years', 'then', 'that', 'had', 'not', 'so', 'far', 'good', 'general', 'to', 'make', 'with', 'buried', 'vacus', 'arrest', 'them', 'timon', 'stay', 'and', 'the', 'sere', 'hath', 'dangerous', 'too', 'grace', 'a', 'sail', 'the', 'breath', 'of', 'knees', 'broke', 'deeds', 'would', 'do', 'thy', 'husband', 'and', 'alack', 'to', 'speak', 'and', 'pluck', 'their', 'men', 'at', 'thy', 'abroad', 'doth', 'go', 'cassius', 'and', 'in', 'desire', 'and', 'calld', 'me', 'ballant', 'cassius', 'bardolph', 'tost', 'in', 'it', 'what', 'then', 'take', 'your', 'madder', 'duke', 'of', 'york', 'she', 'would', 'be', 'ready', 'this']\n"
          ]
        }
      ]
    },
    {
      "cell_type": "markdown",
      "source": [
        "# NLTK: Tweet Tokenizer"
      ],
      "metadata": {
        "id": "oRRz2wng5kCU"
      }
    },
    {
      "cell_type": "code",
      "source": [
        "tweet_tokenizer_text = to.TweetTokenizer().tokenize(nospecial_text)\n",
        "with open(\"Shakespeare_Normalized_Tokenized05.txt\", \"w\") as f_out:\n",
        "    for token in tokenized_text:\n",
        "        f_out.write(token + \"\\n\")\n",
        "\n",
        "print(tweet_tokenizer_text[:500])"
      ],
      "metadata": {
        "colab": {
          "base_uri": "https://localhost:8080/"
        },
        "id": "IyCPvG-n5jxs",
        "outputId": "ad42c80e-f7ed-45a6-f815-adc592c2573b"
      },
      "execution_count": null,
      "outputs": [
        {
          "output_type": "stream",
          "name": "stdout",
          "text": [
            "['that', 'poor', 'contempt', 'or', 'claimd', 'thou', 'slept', 'so', 'faithful', 'i', 'may', 'contrive', 'our', 'father', 'and', 'in', 'their', 'defeated', 'queen', 'her', 'flesh', 'broke', 'me', 'and', 'puttance', 'of', 'expedition', 'house', 'and', 'in', 'that', 'same', 'that', 'ever', 'i', 'lament', 'this', 'stomach', 'and', 'he', 'nor', 'butly', 'and', 'my', 'fury', 'knowing', 'everything', 'grew', 'daily', 'ever', 'his', 'great', 'strength', 'and', 'thought', 'the', 'bright', 'buds', 'of', 'mine', 'own', 'biondello', 'marry', 'that', 'it', 'may', 'not', 'pray', 'their', 'patience', 'king', 'lear', 'the', 'instant', 'common', 'maid', 'as', 'we', 'may', 'less', 'be', 'a', 'brave', 'gentleman', 'and', 'joiner', 'he', 'that', 'finds', 'us', 'with', 'wax', 'and', 'owe', 'so', 'full', 'of', 'presence', 'and', 'our', 'fooder', 'at', 'our', 'staves', 'it', 'is', 'remorsed', 'the', 'bridals', 'man', 'his', 'grace', 'for', 'every', 'business', 'in', 'my', 'tongue', 'but', 'i', 'was', 'thinking', 'that', 'he', 'contends', 'he', 'hath', 'respected', 'thee', 'biron', 'she', 'left', 'thee', 'on', 'ill', 'die', 'to', 'blessed', 'and', 'most', 'reasonable', 'nature', 'in', 'this', 'honour', 'and', 'her', 'bosom', 'is', 'safe', 'some', 'others', 'from', 'his', 'speedybirth', 'a', 'bill', 'and', 'as', 'forestem', 'with', 'richard', 'in', 'your', 'heart', 'be', 'questiond', 'on', 'nor', 'that', 'i', 'was', 'enough', 'which', 'of', 'a', 'partier', 'forth', 'the', 'obsers', 'dpunishd', 'the', 'hate', 'to', 'my', 'restraints', 'would', 'not', 'then', 'be', 'got', 'as', 'i', 'partly', 'autolycus', 'hath', 'sat', 'her', 'love', 'within', 'this', 'man', 'that', 'was', 'foul', 'prayers', 'which', 'are', 'much', 'thus', 'from', 'them', 'with', 'thee', 'i', 'am', 'not', 'ever', 'thought', 'to', 'make', 'that', 'with', 'a', 'wise', 'exclaim', 'as', 'i', 'am', 'sure', 'to', 'say', 'well', 'like', 'a', 'dotage', 'on', 'the', 'fixed', 'cease', 'and', 'let', 'mine', 'eyes', 'may', 'straight', 'sole', 'sword', 'conveyard', 'that', 'dustconfounded', 'by', 'a', 'land', 'to', 'their', 'command', 'then', 'puissant', 'with', 'a', 'griefs', 'it', 'should', 'be', 'so', 'and', 'dead', 'till', 'he', 'shall', 'fail', 'his', 'sister', 'and', 'in', 'true', 'and', 'good', 'to', 'see', 'me', 'for', 'the', 'other', 'hath', 'not', 'heard', 'a', 'midwife', 'loud', 'from', 'my', 'service', 'and', 'thy', 'sweetly', 'daughter', 'got', 'the', 'single', 'strange', 'words', 'pent', 'is', 'all', 'his', 'steed', 'stay', 'from', 'us', 'in', 'as', 'he', 'hath', 'we', 'brought', 'me', 'into', 'the', 'milthiness', 'guiderius', 'why', 'my', 'lord', 'shall', 'not', 'part', 'well', 'but', 'it', 'shall', 'have', 'my', 'hands', 'let', 'us', 'be', 'taken', 'that', 'thou', 'weights', 'return', 'to', 'mine', 'ring', 'ere', 'i', 'should', 'be', 'dangerous', 'with', 'a', 'good', 'way', 'to', 'swear', 'it', 'for', 'the', 'bears', 'now', 'he', 'was', 'kin', 'to', 'him', 'but', 'then', 'his', 'own', 'islands', 'sisters', 'all', 'speech', 'would', 'deny', 'and', 'force', 'i', 'grant', 'it', 'abhorson', 'thou', 'art', 'a', 'very', 'earth', 'villain', 'reserves', 'my', 'keeping', 'talbot', 'king', 'henry', 'viii', 'now', 'to', 'have', 'lead', 'for', 'me', 'kent', 'but', 'yet', 'ease', 'yourself', 'truly', 'in', 'the', 'numbers', 'if', 'he', 'be', 'no', 'talk', 'at', 'my', 'death', 'in', 'the', 'name', 'of', 'hot', 'years', 'then', 'that', 'had', 'not', 'so', 'far', 'good', 'general', 'to', 'make', 'with', 'buried', 'vacus', 'arrest', 'them', 'timon', 'stay', 'and', 'the', 'sere', 'hath', 'dangerous', 'too', 'grace', 'a', 'sail', 'the', 'breath', 'of', 'knees', 'broke', 'deeds', 'would', 'do', 'thy', 'husband', 'and', 'alack', 'to', 'speak', 'and', 'pluck', 'their', 'men', 'at', 'thy', 'abroad', 'doth', 'go', 'cassius', 'and', 'in', 'desire', 'and', 'calld', 'me', 'ballant', 'cassius', 'bardolph', 'tost', 'in', 'it', 'what', 'then', 'take', 'your', 'madder', 'duke', 'of', 'york', 'she', 'would', 'be', 'ready', 'this']\n"
          ]
        }
      ]
    },
    {
      "cell_type": "markdown",
      "source": [
        "# NLTK: MWE Tokenizer"
      ],
      "metadata": {
        "id": "bz6fgrma50SJ"
      }
    },
    {
      "cell_type": "code",
      "source": [
        "mwe_tokenizer_text = to.MWETokenizer().tokenize(nospecial_text)\n",
        "with open(\"Shakespeare_Normalized_Tokenized06.txt\", \"w\") as f_out:\n",
        "    for token in tokenized_text:\n",
        "        f_out.write(token + \"\\n\")\n",
        "\n",
        "print(mwe_tokenizer_text[:500])"
      ],
      "metadata": {
        "colab": {
          "base_uri": "https://localhost:8080/"
        },
        "id": "GwyeG4o050Yz",
        "outputId": "f6ea9bb6-403d-4dc8-bc9f-54d8c6fadab9"
      },
      "execution_count": null,
      "outputs": [
        {
          "output_type": "stream",
          "name": "stdout",
          "text": [
            "['t', 'h', 'a', 't', ' ', 'p', 'o', 'o', 'r', ' ', 'c', 'o', 'n', 't', 'e', 'm', 'p', 't', ' ', 'o', 'r', ' ', 'c', 'l', 'a', 'i', 'm', 'd', ' ', 't', 'h', 'o', 'u', ' ', 's', 'l', 'e', 'p', 't', ' ', 's', 'o', ' ', 'f', 'a', 'i', 't', 'h', 'f', 'u', 'l', '\\n', 'i', ' ', 'm', 'a', 'y', ' ', 'c', 'o', 'n', 't', 'r', 'i', 'v', 'e', ' ', 'o', 'u', 'r', ' ', 'f', 'a', 't', 'h', 'e', 'r', ' ', 'a', 'n', 'd', ' ', 'i', 'n', ' ', 't', 'h', 'e', 'i', 'r', ' ', 'd', 'e', 'f', 'e', 'a', 't', 'e', 'd', ' ', 'q', 'u', 'e', 'e', 'n', '\\n', 'h', 'e', 'r', ' ', 'f', 'l', 'e', 's', 'h', ' ', 'b', 'r', 'o', 'k', 'e', ' ', 'm', 'e', ' ', 'a', 'n', 'd', ' ', 'p', 'u', 't', 't', 'a', 'n', 'c', 'e', ' ', 'o', 'f', ' ', 'e', 'x', 'p', 'e', 'd', 'i', 't', 'i', 'o', 'n', ' ', 'h', 'o', 'u', 's', 'e', '\\n', 'a', 'n', 'd', ' ', 'i', 'n', ' ', 't', 'h', 'a', 't', ' ', 's', 'a', 'm', 'e', ' ', 't', 'h', 'a', 't', ' ', 'e', 'v', 'e', 'r', ' ', 'i', ' ', 'l', 'a', 'm', 'e', 'n', 't', ' ', 't', 'h', 'i', 's', ' ', 's', 't', 'o', 'm', 'a', 'c', 'h', '\\n', 'a', 'n', 'd', ' ', 'h', 'e', ' ', 'n', 'o', 'r', ' ', 'b', 'u', 't', 'l', 'y', ' ', 'a', 'n', 'd', ' ', 'm', 'y', ' ', 'f', 'u', 'r', 'y', ' ', 'k', 'n', 'o', 'w', 'i', 'n', 'g', ' ', 'e', 'v', 'e', 'r', 'y', 't', 'h', 'i', 'n', 'g', '\\n', 'g', 'r', 'e', 'w', ' ', 'd', 'a', 'i', 'l', 'y', ' ', 'e', 'v', 'e', 'r', ' ', 'h', 'i', 's', ' ', 'g', 'r', 'e', 'a', 't', ' ', 's', 't', 'r', 'e', 'n', 'g', 't', 'h', ' ', 'a', 'n', 'd', ' ', 't', 'h', 'o', 'u', 'g', 'h', 't', '\\n', 't', 'h', 'e', ' ', 'b', 'r', 'i', 'g', 'h', 't', ' ', 'b', 'u', 'd', 's', ' ', 'o', 'f', ' ', 'm', 'i', 'n', 'e', ' ', 'o', 'w', 'n', '\\n', '\\n', 'b', 'i', 'o', 'n', 'd', 'e', 'l', 'l', 'o', '\\n', 'm', 'a', 'r', 'r', 'y', ' ', 't', 'h', 'a', 't', ' ', 'i', 't', ' ', 'm', 'a', 'y', ' ', 'n', 'o', 't', ' ', 'p', 'r', 'a', 'y', ' ', 't', 'h', 'e', 'i', 'r', ' ', 'p', 'a', 't', 'i', 'e', 'n', 'c', 'e', '\\n', '\\n', 'k', 'i', 'n', 'g', ' ', 'l', 'e', 'a', 'r', '\\n', 't', 'h', 'e', ' ', 'i', 'n', 's', 't', 'a', 'n', 't', ' ', 'c', 'o', 'm', 'm', 'o', 'n', ' ', 'm', 'a', 'i', 'd', ' ', 'a', 's', ' ', 'w', 'e', ' ', 'm', 'a', 'y', ' ', 'l', 'e', 's', 's', ' ', 'b', 'e', '\\n', 'a', ' ', 'b', 'r', 'a', 'v', 'e', ' ', 'g', 'e', 'n', 't', 'l', 'e', 'm', 'a', 'n', ' ', 'a', 'n', 'd', ' ', 'j', 'o', 'i', 'n', 'e', 'r', ' ', 'h', 'e', ' ', 't', 'h', 'a', 't', ' ', 'f', 'i', 'n', 'd', 's', ' ', 'u', 's', ' ', 'w', 'i', 't', 'h', ' ', 'w', 'a', 'x', '\\n', 'a', 'n', 'd', ' ', 'o', 'w', 'e', ' ', 's']\n"
          ]
        }
      ]
    },
    {
      "cell_type": "markdown",
      "source": [
        "# TextBlob Word Tokenizer"
      ],
      "metadata": {
        "id": "9Vt-lIya5_uX"
      }
    },
    {
      "cell_type": "code",
      "source": [
        "from textblob import TextBlob\n",
        "\n",
        "blob = TextBlob(nospecial_text)\n",
        "textblob_tokenizer = blob.words\n",
        "with open(\"Shakespeare_Normalized_Tokenized07.txt\", \"w\") as f_out:\n",
        "    for token in tokenized_text:\n",
        "        f_out.write(token + \"\\n\")\n",
        "\n",
        "print(textblob_tokenizer[:500])"
      ],
      "metadata": {
        "id": "5zPzbxhl5_zK",
        "colab": {
          "base_uri": "https://localhost:8080/"
        },
        "outputId": "f1f18807-b8dd-4a96-9310-4ca0df4c53bb"
      },
      "execution_count": null,
      "outputs": [
        {
          "output_type": "stream",
          "name": "stdout",
          "text": [
            "['that', 'poor', 'contempt', 'or', 'claimd', 'thou', 'slept', 'so', 'faithful', 'i', 'may', 'contrive', 'our', 'father', 'and', 'in', 'their', 'defeated', 'queen', 'her', 'flesh', 'broke', 'me', 'and', 'puttance', 'of', 'expedition', 'house', 'and', 'in', 'that', 'same', 'that', 'ever', 'i', 'lament', 'this', 'stomach', 'and', 'he', 'nor', 'butly', 'and', 'my', 'fury', 'knowing', 'everything', 'grew', 'daily', 'ever', 'his', 'great', 'strength', 'and', 'thought', 'the', 'bright', 'buds', 'of', 'mine', 'own', 'biondello', 'marry', 'that', 'it', 'may', 'not', 'pray', 'their', 'patience', 'king', 'lear', 'the', 'instant', 'common', 'maid', 'as', 'we', 'may', 'less', 'be', 'a', 'brave', 'gentleman', 'and', 'joiner', 'he', 'that', 'finds', 'us', 'with', 'wax', 'and', 'owe', 'so', 'full', 'of', 'presence', 'and', 'our', 'fooder', 'at', 'our', 'staves', 'it', 'is', 'remorsed', 'the', 'bridals', 'man', 'his', 'grace', 'for', 'every', 'business', 'in', 'my', 'tongue', 'but', 'i', 'was', 'thinking', 'that', 'he', 'contends', 'he', 'hath', 'respected', 'thee', 'biron', 'she', 'left', 'thee', 'on', 'ill', 'die', 'to', 'blessed', 'and', 'most', 'reasonable', 'nature', 'in', 'this', 'honour', 'and', 'her', 'bosom', 'is', 'safe', 'some', 'others', 'from', 'his', 'speedybirth', 'a', 'bill', 'and', 'as', 'forestem', 'with', 'richard', 'in', 'your', 'heart', 'be', 'questiond', 'on', 'nor', 'that', 'i', 'was', 'enough', 'which', 'of', 'a', 'partier', 'forth', 'the', 'obsers', 'dpunishd', 'the', 'hate', 'to', 'my', 'restraints', 'would', 'not', 'then', 'be', 'got', 'as', 'i', 'partly', 'autolycus', 'hath', 'sat', 'her', 'love', 'within', 'this', 'man', 'that', 'was', 'foul', 'prayers', 'which', 'are', 'much', 'thus', 'from', 'them', 'with', 'thee', 'i', 'am', 'not', 'ever', 'thought', 'to', 'make', 'that', 'with', 'a', 'wise', 'exclaim', 'as', 'i', 'am', 'sure', 'to', 'say', 'well', 'like', 'a', 'dotage', 'on', 'the', 'fixed', 'cease', 'and', 'let', 'mine', 'eyes', 'may', 'straight', 'sole', 'sword', 'conveyard', 'that', 'dustconfounded', 'by', 'a', 'land', 'to', 'their', 'command', 'then', 'puissant', 'with', 'a', 'griefs', 'it', 'should', 'be', 'so', 'and', 'dead', 'till', 'he', 'shall', 'fail', 'his', 'sister', 'and', 'in', 'true', 'and', 'good', 'to', 'see', 'me', 'for', 'the', 'other', 'hath', 'not', 'heard', 'a', 'midwife', 'loud', 'from', 'my', 'service', 'and', 'thy', 'sweetly', 'daughter', 'got', 'the', 'single', 'strange', 'words', 'pent', 'is', 'all', 'his', 'steed', 'stay', 'from', 'us', 'in', 'as', 'he', 'hath', 'we', 'brought', 'me', 'into', 'the', 'milthiness', 'guiderius', 'why', 'my', 'lord', 'shall', 'not', 'part', 'well', 'but', 'it', 'shall', 'have', 'my', 'hands', 'let', 'us', 'be', 'taken', 'that', 'thou', 'weights', 'return', 'to', 'mine', 'ring', 'ere', 'i', 'should', 'be', 'dangerous', 'with', 'a', 'good', 'way', 'to', 'swear', 'it', 'for', 'the', 'bears', 'now', 'he', 'was', 'kin', 'to', 'him', 'but', 'then', 'his', 'own', 'islands', 'sisters', 'all', 'speech', 'would', 'deny', 'and', 'force', 'i', 'grant', 'it', 'abhorson', 'thou', 'art', 'a', 'very', 'earth', 'villain', 'reserves', 'my', 'keeping', 'talbot', 'king', 'henry', 'viii', 'now', 'to', 'have', 'lead', 'for', 'me', 'kent', 'but', 'yet', 'ease', 'yourself', 'truly', 'in', 'the', 'numbers', 'if', 'he', 'be', 'no', 'talk', 'at', 'my', 'death', 'in', 'the', 'name', 'of', 'hot', 'years', 'then', 'that', 'had', 'not', 'so', 'far', 'good', 'general', 'to', 'make', 'with', 'buried', 'vacus', 'arrest', 'them', 'timon', 'stay', 'and', 'the', 'sere', 'hath', 'dangerous', 'too', 'grace', 'a', 'sail', 'the', 'breath', 'of', 'knees', 'broke', 'deeds', 'would', 'do', 'thy', 'husband', 'and', 'alack', 'to', 'speak', 'and', 'pluck', 'their', 'men', 'at', 'thy', 'abroad', 'doth', 'go', 'cassius', 'and', 'in', 'desire', 'and', 'calld', 'me', 'ballant', 'cassius', 'bardolph', 'tost', 'in', 'it', 'what', 'then', 'take', 'your', 'madder', 'duke', 'of', 'york', 'she', 'would', 'be', 'ready', 'this']\n"
          ]
        }
      ]
    },
    {
      "cell_type": "markdown",
      "source": [
        "# SpaCy Tokenizer"
      ],
      "metadata": {
        "id": "CCpEROscO7ww"
      }
    },
    {
      "cell_type": "code",
      "source": [
        "import spacy\n",
        "\n",
        "nlp = spacy.load(\"en_core_web_sm\")\n",
        "doc = nlp(nospecial_text)\n",
        "spacy_tokenizer_text = [token.text for token in doc]\n",
        "\n",
        "\n",
        "with open(\"Shakespeare_Normalized_Tokenized08.txt\", \"w\") as f_out:\n",
        "    for token in tokenized_text:\n",
        "        f_out.write(token + \"\\n\")\n",
        "\n",
        "print(spacy_tokenizer_text[:500])"
      ],
      "metadata": {
        "colab": {
          "base_uri": "https://localhost:8080/"
        },
        "id": "Q9QVYgLCO8AK",
        "outputId": "ccfb0f3d-ed5a-4b8c-e4d4-263b1f214f8a"
      },
      "execution_count": null,
      "outputs": [
        {
          "output_type": "stream",
          "name": "stdout",
          "text": [
            "['that', 'poor', 'contempt', 'or', 'claimd', 'thou', 'slept', 'so', 'faithful', '\\n', 'i', 'may', 'contrive', 'our', 'father', 'and', 'in', 'their', 'defeated', 'queen', '\\n', 'her', 'flesh', 'broke', 'me', 'and', 'puttance', 'of', 'expedition', 'house', '\\n', 'and', 'in', 'that', 'same', 'that', 'ever', 'i', 'lament', 'this', 'stomach', '\\n', 'and', 'he', 'nor', 'butly', 'and', 'my', 'fury', 'knowing', 'everything', '\\n', 'grew', 'daily', 'ever', 'his', 'great', 'strength', 'and', 'thought', '\\n', 'the', 'bright', 'buds', 'of', 'mine', 'own', '\\n\\n', 'biondello', '\\n', 'marry', 'that', 'it', 'may', 'not', 'pray', 'their', 'patience', '\\n\\n', 'king', 'lear', '\\n', 'the', 'instant', 'common', 'maid', 'as', 'we', 'may', 'less', 'be', '\\n', 'a', 'brave', 'gentleman', 'and', 'joiner', 'he', 'that', 'finds', 'us', 'with', 'wax', '\\n', 'and', 'owe', 'so', 'full', 'of', 'presence', 'and', 'our', 'fooder', 'at', 'our', '\\n', 'staves', 'it', 'is', 'remorsed', 'the', 'bridals', 'man', 'his', 'grace', '\\n', 'for', 'every', 'business', 'in', 'my', 'tongue', 'but', 'i', 'was', 'thinking', '\\n', 'that', 'he', 'contends', 'he', 'hath', 'respected', 'thee', '\\n\\n', 'biron', '\\n', 'she', 'left', 'thee', 'on', 'ill', 'die', 'to', 'blessed', 'and', 'most', 'reasonable', '\\n', 'nature', 'in', 'this', 'honour', 'and', 'her', 'bosom', 'is', 'safe', 'some', '\\n', 'others', 'from', 'his', 'speedybirth', 'a', 'bill', 'and', 'as', '\\n', 'forestem', 'with', 'richard', 'in', 'your', 'heart', '\\n', 'be', 'questiond', 'on', 'nor', 'that', 'i', 'was', 'enough', '\\n', 'which', 'of', 'a', 'partier', 'forth', 'the', 'obsers', 'dpunishd', 'the', 'hate', '\\n', 'to', 'my', 'restraints', 'would', 'not', 'then', 'be', 'got', 'as', 'i', 'partly', '\\n\\n', 'autolycus', '\\n', 'hath', 'sat', 'her', 'love', 'within', 'this', 'man', 'that', 'was', 'foul', 'prayers', '\\n', 'which', 'are', 'much', 'thus', 'from', 'them', 'with', 'thee', 'i', 'am', 'not', 'ever', 'thought', '\\n', 'to', 'make', 'that', 'with', 'a', 'wise', 'exclaim', 'as', 'i', 'am', 'sure', '\\n', 'to', 'say', 'well', 'like', 'a', 'dotage', 'on', 'the', 'fixed', 'cease', '\\n', 'and', 'let', 'mine', 'eyes', 'may', 'straight', 'sole', 'sword', 'conveyard', '\\n', 'that', 'dustconfounded', 'by', 'a', 'land', 'to', 'their', 'command', '\\n', 'then', 'puissant', 'with', 'a', 'griefs', 'it', 'should', 'be', 'so', 'and', 'dead', '\\n', 'till', 'he', 'shall', 'fail', 'his', 'sister', 'and', 'in', 'true', 'and', 'good', '\\n', 'to', 'see', 'me', 'for', 'the', 'other', 'hath', 'not', 'heard', 'a', 'midwife', '\\n', 'loud', 'from', 'my', 'service', 'and', 'thy', 'sweetly', 'daughter', 'got', '\\n', 'the', 'single', 'strange', 'words', 'pent', 'is', 'all', 'his', 'steed', '\\n', 'stay', 'from', 'us', 'in', 'as', 'he', 'hath', 'we', 'brought', 'me', 'into', 'the', 'milthiness', '\\n\\n', 'guiderius', '\\n', 'why', 'my', 'lord', '\\n', 'shall', 'not', 'part', 'well', 'but', 'it', 'shall', 'have', 'my', 'hands', '\\n', 'let', 'us', 'be', 'taken', 'that', 'thou', 'weights', 'return', '\\n', 'to', 'mine', 'ring', 'ere', 'i', 'should', 'be', 'dangerous', 'with', 'a', 'good', 'way', '\\n', 'to', 'swear', 'it', 'for', 'the', 'bears', 'now', 'he', 'was', 'kin', 'to', 'him', '\\n', 'but', 'then', 'his', 'own', 'islands', 'sisters', 'all', 'speech', 'would', 'deny', '\\n', 'and', 'force', 'i', 'grant', 'it', '\\n\\n', 'abhorson', '\\n', 'thou', 'art', 'a', 'very', 'earth', 'villain', 'reserves', 'my', 'keeping', '\\n\\n', 'talbot', '\\n\\n', 'king', 'henry', 'viii', '\\n', 'now', '\\n', 'to', 'have', 'lead', 'for', 'me', '\\n\\n', 'kent', '\\n', 'but', 'yet', 'ease', 'yourself', 'truly', 'in', 'the', 'numbers', '\\n', 'if', 'he', 'be', 'no', 'talk', 'at', 'my', 'death', 'in', 'the', 'name', 'of', 'hot', '\\n', 'years', 'then', 'that', 'had', 'not', 'so', 'far', 'good', 'general', '\\n', 'to', 'make', 'with', 'buried', 'vacus', 'arrest', 'them', '\\n\\n', 'timon', '\\n', 'stay', 'and']\n"
          ]
        }
      ]
    },
    {
      "cell_type": "markdown",
      "source": [
        "# Gensim Word Tokenizer"
      ],
      "metadata": {
        "id": "3Sy8TmDfQt5A"
      }
    },
    {
      "cell_type": "code",
      "source": [
        "from gensim.utils import simple_preprocess\n",
        "\n",
        "gensim_tokenizer = simple_preprocess(nospecial_text)\n",
        "\n",
        "with open(\"Shakespeare_Normalized_Tokenized09.txt\", \"w\") as f_out:\n",
        "    for token in tokenized_text:\n",
        "        f_out.write(token + \"\\n\")\n",
        "\n",
        "print(gensim_tokenizer[:500])"
      ],
      "metadata": {
        "colab": {
          "base_uri": "https://localhost:8080/"
        },
        "id": "WjjNF4tFQuJr",
        "outputId": "adfe6c8c-933b-442f-9b5e-c3057fadc6ae"
      },
      "execution_count": null,
      "outputs": [
        {
          "output_type": "stream",
          "name": "stdout",
          "text": [
            "['that', 'poor', 'contempt', 'or', 'claimd', 'thou', 'slept', 'so', 'faithful', 'may', 'contrive', 'our', 'father', 'and', 'in', 'their', 'defeated', 'queen', 'her', 'flesh', 'broke', 'me', 'and', 'puttance', 'of', 'expedition', 'house', 'and', 'in', 'that', 'same', 'that', 'ever', 'lament', 'this', 'stomach', 'and', 'he', 'nor', 'butly', 'and', 'my', 'fury', 'knowing', 'everything', 'grew', 'daily', 'ever', 'his', 'great', 'strength', 'and', 'thought', 'the', 'bright', 'buds', 'of', 'mine', 'own', 'biondello', 'marry', 'that', 'it', 'may', 'not', 'pray', 'their', 'patience', 'king', 'lear', 'the', 'instant', 'common', 'maid', 'as', 'we', 'may', 'less', 'be', 'brave', 'gentleman', 'and', 'joiner', 'he', 'that', 'finds', 'us', 'with', 'wax', 'and', 'owe', 'so', 'full', 'of', 'presence', 'and', 'our', 'fooder', 'at', 'our', 'staves', 'it', 'is', 'remorsed', 'the', 'bridals', 'man', 'his', 'grace', 'for', 'every', 'business', 'in', 'my', 'tongue', 'but', 'was', 'thinking', 'that', 'he', 'contends', 'he', 'hath', 'respected', 'thee', 'biron', 'she', 'left', 'thee', 'on', 'ill', 'die', 'to', 'blessed', 'and', 'most', 'reasonable', 'nature', 'in', 'this', 'honour', 'and', 'her', 'bosom', 'is', 'safe', 'some', 'others', 'from', 'his', 'speedybirth', 'bill', 'and', 'as', 'forestem', 'with', 'richard', 'in', 'your', 'heart', 'be', 'questiond', 'on', 'nor', 'that', 'was', 'enough', 'which', 'of', 'partier', 'forth', 'the', 'obsers', 'dpunishd', 'the', 'hate', 'to', 'my', 'restraints', 'would', 'not', 'then', 'be', 'got', 'as', 'partly', 'autolycus', 'hath', 'sat', 'her', 'love', 'within', 'this', 'man', 'that', 'was', 'foul', 'prayers', 'which', 'are', 'much', 'thus', 'from', 'them', 'with', 'thee', 'am', 'not', 'ever', 'thought', 'to', 'make', 'that', 'with', 'wise', 'exclaim', 'as', 'am', 'sure', 'to', 'say', 'well', 'like', 'dotage', 'on', 'the', 'fixed', 'cease', 'and', 'let', 'mine', 'eyes', 'may', 'straight', 'sole', 'sword', 'conveyard', 'that', 'dustconfounded', 'by', 'land', 'to', 'their', 'command', 'then', 'puissant', 'with', 'griefs', 'it', 'should', 'be', 'so', 'and', 'dead', 'till', 'he', 'shall', 'fail', 'his', 'sister', 'and', 'in', 'true', 'and', 'good', 'to', 'see', 'me', 'for', 'the', 'other', 'hath', 'not', 'heard', 'midwife', 'loud', 'from', 'my', 'service', 'and', 'thy', 'sweetly', 'daughter', 'got', 'the', 'single', 'strange', 'words', 'pent', 'is', 'all', 'his', 'steed', 'stay', 'from', 'us', 'in', 'as', 'he', 'hath', 'we', 'brought', 'me', 'into', 'the', 'milthiness', 'guiderius', 'why', 'my', 'lord', 'shall', 'not', 'part', 'well', 'but', 'it', 'shall', 'have', 'my', 'hands', 'let', 'us', 'be', 'taken', 'that', 'thou', 'weights', 'return', 'to', 'mine', 'ring', 'ere', 'should', 'be', 'dangerous', 'with', 'good', 'way', 'to', 'swear', 'it', 'for', 'the', 'bears', 'now', 'he', 'was', 'kin', 'to', 'him', 'but', 'then', 'his', 'own', 'islands', 'sisters', 'all', 'speech', 'would', 'deny', 'and', 'force', 'grant', 'it', 'abhorson', 'thou', 'art', 'very', 'earth', 'villain', 'reserves', 'my', 'keeping', 'talbot', 'king', 'henry', 'viii', 'now', 'to', 'have', 'lead', 'for', 'me', 'kent', 'but', 'yet', 'ease', 'yourself', 'truly', 'in', 'the', 'numbers', 'if', 'he', 'be', 'no', 'talk', 'at', 'my', 'death', 'in', 'the', 'name', 'of', 'hot', 'years', 'then', 'that', 'had', 'not', 'so', 'far', 'good', 'general', 'to', 'make', 'with', 'buried', 'vacus', 'arrest', 'them', 'timon', 'stay', 'and', 'the', 'sere', 'hath', 'dangerous', 'too', 'grace', 'sail', 'the', 'breath', 'of', 'knees', 'broke', 'deeds', 'would', 'do', 'thy', 'husband', 'and', 'alack', 'to', 'speak', 'and', 'pluck', 'their', 'men', 'at', 'thy', 'abroad', 'doth', 'go', 'cassius', 'and', 'in', 'desire', 'and', 'calld', 'me', 'ballant', 'cassius', 'bardolph', 'tost', 'in', 'it', 'what', 'then', 'take', 'your', 'madder', 'duke', 'of', 'york', 'she', 'would', 'be', 'ready', 'this', 'advice', 'say', 'you', 'chaste', 'second', 'neris', 'now', 'blessed', 'france', 'and', 'with', 'thy', 'speech', 'can', 'know', 'antipholus', 'of', 'ephesus', 'not', 'outlive']\n"
          ]
        }
      ]
    },
    {
      "cell_type": "markdown",
      "source": [
        "# NKeras Tokenization"
      ],
      "metadata": {
        "id": "l8tWO0gbQvAL"
      }
    },
    {
      "cell_type": "code",
      "source": [
        "from keras.preprocessing.text import Tokenizer\n",
        "\n",
        "tokenizer = Tokenizer()\n",
        "tokenizer.fit_on_texts([nospecial_text])\n",
        "keras_tokenizer_text = tokenizer.texts_to_sequences([nospecial_text])\n",
        "\n",
        "# Salvar as sequências de tokens em um arquivo de texto\n",
        "with open(\"Shakespeare_Normalized_Tokenized10.txt\", \"w\") as f_out:\n",
        "    for sequence in keras_tokenizer_text:\n",
        "        f_out.write(' '.join(map(str, sequence)) + \"\\n\")\n",
        "\n",
        "print(\"Sequências de tokens geradas pelo Keras Tokenizer salvas no arquivo.\")\n",
        "\n",
        "\n",
        "print(keras_tokenizer_text[:500])\n"
      ],
      "metadata": {
        "colab": {
          "base_uri": "https://localhost:8080/"
        },
        "id": "cr_cQRgHQvUB",
        "outputId": "835efe00-fe08-4f72-a8ef-fa24176f137f"
      },
      "execution_count": null,
      "outputs": [
        {
          "output_type": "stream",
          "name": "stdout",
          "text": [
            "Sequências de tokens geradas pelo Keras Tokenizer salvas no arquivo.\n",
            "[[10, 123, 662, 64, 1356, 26, 898, 25, 899, 3, 99, 1357, 43, 159, 1, 8, 52, 1358, 114, 28, 419, 518, 18, 1, 1359, 5, 1360, 236, 1, 8, 10, 280, 10, 133, 3, 1361, 24, 663, 1, 22, 160, 1362, 1, 7, 664, 900, 1363, 1364, 1365, 133, 23, 116, 350, 1, 314, 2, 1366, 901, 5, 124, 117, 1367, 255, 10, 12, 99, 11, 161, 52, 519, 51, 315, 2, 1368, 665, 666, 15, 39, 99, 667, 16, 6, 668, 190, 1, 1369, 22, 10, 902, 71, 14, 903, 1, 1370, 25, 237, 5, 1371, 1, 43, 1372, 60, 43, 1373, 12, 21, 1374, 2, 1375, 76, 23, 125, 20, 108, 351, 8, 7, 281, 17, 3, 40, 520, 10, 22, 1376, 22, 55, 1377, 35, 904, 54, 352, 35, 46, 61, 191, 4, 669, 1, 106, 670, 353, 8, 24, 151, 1, 28, 354, 21, 521, 80, 905, 44, 23, 1378, 6, 671, 1, 15, 1379, 14, 522, 8, 13, 118, 16, 1380, 46, 160, 10, 3, 40, 238, 65, 5, 6, 1381, 523, 2, 1382, 1383, 2, 906, 4, 7, 1384, 34, 11, 56, 16, 355, 15, 3, 1385, 1386, 55, 907, 28, 72, 420, 24, 76, 10, 40, 356, 908, 65, 29, 152, 134, 44, 50, 14, 35, 3, 57, 11, 133, 314, 4, 68, 10, 14, 6, 421, 1387, 15, 3, 57, 524, 4, 73, 53, 81, 6, 1388, 46, 2, 672, 525, 1, 78, 124, 153, 99, 316, 1389, 256, 1390, 10, 1391, 33, 6, 673, 4, 52, 218, 56, 1392, 14, 6, 1393, 12, 58, 16, 25, 1, 219, 168, 22, 32, 909, 23, 357, 1, 8, 94, 1, 47, 4, 66, 18, 20, 2, 179, 55, 11, 257, 6, 1394, 526, 44, 7, 422, 1, 30, 674, 180, 355, 2, 423, 527, 282, 1395, 21, 31, 23, 910, 258, 44, 71, 8, 15, 22, 55, 39, 203, 18, 259, 2, 1396, 1397, 95, 7, 36, 32, 11, 192, 53, 17, 12, 32, 19, 7, 193, 78, 71, 16, 1398, 10, 26, 1399, 675, 4, 124, 676, 220, 3, 58, 16, 528, 14, 6, 47, 126, 4, 221, 12, 20, 2, 677, 49, 22, 40, 1400, 4, 37, 17, 56, 23, 117, 1401, 678, 31, 679, 34, 680, 1, 911, 3, 681, 12, 1402, 26, 131, 6, 141, 283, 181, 1403, 7, 912, 284, 51, 169, 913, 49, 4, 19, 914, 20, 18, 424, 17, 88, 1404, 358, 529, 8, 2, 915, 38, 22, 16, 45, 359, 60, 7, 109, 8, 2, 170, 5, 425, 916, 56, 10, 83, 11, 25, 917, 47, 426, 4, 68, 14, 1405, 1406, 1407, 50, 360, 258, 1, 2, 1408, 55, 528, 119, 125, 6, 1409, 2, 530, 5, 682, 518, 918, 34, 41, 30, 162, 1, 919, 4, 100, 1, 427, 52, 110, 60, 30, 1410, 111, 70, 194, 1, 8, 428, 1, 429, 18, 1411, 194, 683, 1412, 8, 12, 42, 56, 89, 13, 1413, 90, 5, 163, 54, 34, 16, 531, 24, 1414, 73, 9, 6, 920, 91, 1415, 49, 669, 260, 1, 14, 30, 679, 127, 96, 684, 5, 1416, 11, 3, 921, 128, 922, 317, 84, 43, 685, 686, 3, 27, 11, 318, 4, 35, 44, 90, 5, 923, 170, 135, 35, 1, 35, 17, 319, 7, 1417, 1418, 361, 5, 6, 430, 1419, 55, 1420, 8, 1421, 101, 1, 1422, 1423, 5, 924, 431, 74, 1424, 92, 1425, 1426, 925, 12, 142, 20, 3, 83, 898, 7, 195, 4, 239, 3, 19, 362, 13, 432, 171, 182, 143, 85, 3, 19, 164, 50, 4, 9, 3, 34, 4, 1427, 6, 687, 10, 126, 21, 2, 1428, 1429, 1430, 105, 71, 4, 172, 12, 20, 3, 136, 11, 108, 926, 680, 35, 48, 3, 77, 154, 37, 4, 261, 61, 240, 37, 44, 528, 1, 433, 1431, 688, 59, 1432, 52, 1433, 14, 109, 204, 1, 89, 11, 23, 256, 927, 62, 70, 30, 1434, 20, 49, 928, 41, 3, 96, 17, 2, 262, 165, 115, 3, 222, 1, 68, 45, 223, 8, 1435, 929, 1, 689, 13, 241, 17, 14, 7, 434, 3, 41, 11, 1436, 9, 196, 51, 1437, 1438, 74, 56, 532, 26, 100, 14, 18, 1439, 123, 114, 263, 50, 930, 60, 931, 45, 47, 48, 1, 68, 6, 1440, 1, 1441, 142, 1442, 18, 63, 932, 12, 13, 533, 5, 137, 179, 363, 1443, 320, 2, 242, 534, 5, 6, 76, 535, 17, 20, 13, 435, 15, 2, 933, 5, 2, 131, 3, 19, 1444, 4, 70, 4, 9, 364, 48, 8, 365, 56, 105, 18, 65, 29, 155, 934, 183, 91, 243, 7, 36, 38, 536, 1445, 21, 47, 285, 4, 2, 436, 91, 243, 22, 21, 81, 4, 78, 28, 70, 264, 53, 62, 33, 30, 184, 205, 935, 82, 9, 16, 67, 22, 10, 21, 1446, 44, 1447, 936, 4, 37, 12, 21, 11, 5, 286, 38, 59, 13, 537, 6, 672, 1448, 185, 197, 87, 83, 1449, 224, 63, 8, 24, 531, 1450, 44, 65, 16, 164, 366, 107, 32, 23, 185, 1451, 1452, 46, 52, 1453, 937, 22, 82, 11, 62, 4, 171, 6, 1454, 1, 21, 2, 437, 56, 3, 690, 39, 29, 173, 938, 77, 11, 1455, 6, 1456, 5, 35, 59, 427, 52, 1457, 1, 142, 86, 1458, 72, 91, 190, 20, 260, 1, 1459, 34, 538, 43, 1460, 10, 96, 11, 3, 691, 9, 17, 15, 3, 27, 222, 4, 367, 174, 27, 3, 186, 136, 48, 539, 42, 7, 156, 99, 16, 939, 1, 8, 24, 1461, 187, 3, 940, 63, 206, 11, 42, 3, 58, 72, 175, 25, 1, 265, 4, 6, 1462, 10, 540, 27, 321, 86, 438, 132, 287, 73, 47, 48, 138, 69, 3, 40, 97, 112, 368, 17, 63, 21, 219, 287, 49, 54, 40, 288, 1463, 47, 38, 45, 173, 1464, 1, 16, 12, 81, 4, 19, 35, 541, 1, 941, 7, 156, 26, 1465, 86, 151, 107, 33, 1466, 9, 41, 70, 184, 542, 24, 39, 41, 11, 16, 289, 4, 71, 1467, 3, 41, 11, 1468, 61, 66, 207, 153, 7, 369, 176, 11, 1469, 2, 942, 14, 6, 241, 3, 27, 19, 7, 208, 7, 118, 14, 35, 36, 284, 1, 25, 543, 3, 34, 11, 154, 52, 1470, 20, 2, 165, 51, 138, 94, 290, 1, 31, 1, 6, 544, 236, 38, 7, 94, 943, 21, 237, 5, 225, 3, 32, 16, 1471, 44, 7, 162, 545, 113, 2, 692, 209, 17, 6, 693, 1472, 370, 12, 21, 2, 694, 10, 1473, 10, 1474, 226, 74, 2, 546, 5, 171, 322, 291, 56, 323, 17, 210, 5, 45, 1475, 371, 78, 50, 695, 44, 2, 439, 266, 156, 696, 74, 547, 9, 3, 34, 11, 697, 175, 98, 5, 1476, 8, 2, 1477, 45, 67, 110, 12, 21, 31, 204, 431, 3, 96, 11, 42, 698, 944, 18, 113, 1478, 63, 16, 11, 15, 22, 40, 267, 1479, 1, 83, 1480, 84, 18, 63, 33, 10, 25, 3, 58, 25, 1481, 52, 117, 64, 174, 945, 699, 20, 440, 34, 441, 8, 548, 946, 947, 113, 86, 700, 197, 9, 77, 244, 9, 107, 21, 80, 156, 1482, 227, 442, 50, 20, 30, 118, 268, 112, 29, 9, 171, 4, 363, 372, 78, 37, 70, 129, 25, 152, 12, 21, 1483, 40, 5, 101, 1, 3, 77, 1484, 6, 1485, 166, 292, 78, 71, 34, 66, 43, 1486, 182, 143, 3, 177, 19, 373, 1, 3, 549, 13, 1487, 324, 1, 8, 2, 165, 139, 1488, 10, 12, 79, 174, 701, 4, 948, 6, 1489, 4, 6, 949, 702, 374, 183, 6, 192, 4, 2, 950, 1490, 15, 3, 19, 31, 2, 141, 941, 10, 951, 18, 13, 550, 157, 9, 27, 136, 2, 423, 325, 5, 7, 351, 952, 142, 1491, 46, 13, 211, 1, 140, 1, 442, 14, 52, 117, 1492, 1, 520, 13, 703, 1493, 58, 551, 172, 953, 153, 3, 57, 123, 375, 443, 4, 68, 23, 285, 1, 1494, 1495, 1496, 552, 63, 170, 1, 444, 8, 954, 1497, 8, 293, 3, 239, 1498, 33, 86, 1499, 5, 12, 184, 1500, 13, 179, 376, 102, 6, 116, 1501, 34, 16, 261, 15, 24, 113, 377, 20, 50, 113, 359, 115, 1502, 51, 169, 378, 1, 3, 77, 11, 66, 28, 17, 1503, 14, 704, 955, 51, 138, 33, 548, 12, 40, 97, 445, 326, 61, 133, 956, 23, 151, 553, 47, 554, 943, 327, 4, 705, 2, 116, 706, 269, 13, 125, 65, 3, 32, 11, 1, 1504, 37, 26, 131, 6, 318, 1, 288, 25, 316, 51, 315, 87, 692, 5, 7, 72, 2, 1505, 1506, 35, 3, 161, 1507, 1, 1508, 2, 707, 176, 7, 708, 446, 15, 1509, 7, 361, 14, 80, 1510, 1511, 1512, 1513, 1, 1514, 50, 103, 17, 16, 957, 14, 555, 25, 1515, 112, 7, 958, 79, 25, 959, 3, 40, 238, 270, 56, 78, 37, 960, 50, 1516, 4, 961, 220, 137, 137, 101, 17, 4, 1517, 16, 962, 5, 6, 709, 281, 65, 2, 1518, 5, 1519, 135, 14, 52, 710, 51, 315, 10, 963, 1520, 7, 185, 60, 31, 1, 3, 964, 26, 66, 85, 1521, 18, 13, 192, 965, 111, 6, 1522, 1523, 14, 124, 1524, 2, 173, 228, 1525, 15, 23, 966, 99, 711, 712, 12, 11, 78, 9, 19, 713, 1526, 316, 65, 21, 6, 447, 58, 967, 139, 212, 1527, 55, 25, 1528, 64, 144, 23, 145, 29, 56, 54, 27, 16, 968, 14, 7, 282, 1, 22, 10, 969, 80, 1529, 8, 2, 933, 1, 8, 52, 118, 32, 172, 30, 173, 1530, 14, 448, 15, 108, 76, 21, 152, 229, 6, 970, 58, 245, 1531, 205, 74, 2, 702, 556, 39, 294, 33, 43, 1532, 971, 2, 714, 379, 557, 74, 16, 45, 67, 56, 972, 31, 715, 295, 16, 713, 44, 43, 97, 38, 11, 54, 380, 2, 97, 1, 352, 1533, 961, 6, 190, 25, 558, 29, 1534, 144, 52, 296, 33, 179, 17, 46, 10, 188, 3, 96, 2, 1535, 114, 1536, 95, 559, 76, 32, 15, 3, 57, 973, 4, 66, 12, 449, 353, 229, 1537, 59, 29, 6, 213, 5, 2, 371, 1, 1538, 716, 50, 134, 1, 28, 1539, 449, 39, 19, 146, 84, 23, 211, 717, 1540, 46, 30, 1541, 91, 450, 45, 93, 36, 1542, 3, 186, 100, 45, 698, 17, 4, 16, 974, 1543, 975, 193, 3, 96, 11, 1544, 29, 381, 560, 8, 2, 212, 147, 25, 718, 15, 87, 1, 1545, 162, 2, 561, 11, 87, 194, 1, 8, 30, 1546, 1547, 8, 976, 1548, 120, 58, 1549, 4, 18, 32, 41, 18, 1550, 20, 23, 1551, 8, 2, 294, 166, 17, 1552, 26, 271, 18, 7, 72, 79, 31, 92, 451, 218, 42, 83, 30, 147, 13, 977, 1, 1553, 267, 111, 12, 11, 244, 25, 59, 29, 119, 528, 69, 1554, 83, 22, 973, 1555, 160, 14, 13, 180, 75, 1556, 91, 36, 21, 31, 23, 719, 22, 10, 699, 452, 10, 89, 52, 1557, 54, 23, 170, 26, 562, 321, 1558, 4, 100, 4, 101, 295, 33, 7, 453, 36, 3, 96, 19, 563, 7, 382, 564, 10, 1559, 5, 2, 978, 324, 1560, 14, 294, 1561, 1562, 14, 28, 5, 69, 2, 132, 84, 52, 720, 293, 7, 1563, 1564, 22, 55, 454, 18, 69, 22, 83, 62, 11, 1565, 31, 1566, 979, 74, 26, 76, 6, 1567, 20, 175, 1, 1568, 1569, 377, 433, 145, 8, 980, 981, 1, 79, 6, 1570, 297, 4, 68, 721, 722, 24, 1571, 63, 7, 982, 1, 421, 565, 261, 14, 1572, 80, 723, 261, 455, 4, 16, 2, 456, 5, 2, 1573, 5, 6, 724, 383, 48, 61, 1574, 725, 3, 34, 11, 1575, 17, 13, 983, 1576, 9, 298, 190, 13, 324, 48, 138, 1577, 10, 566, 18, 53, 1, 12, 299, 384, 1, 106, 1578, 368, 361, 18, 322, 8, 369, 89, 12, 11, 4, 2, 726, 15, 1579, 663, 10, 95, 22, 380, 24, 15, 22, 1580, 2, 457, 4, 727, 385, 4, 68, 2, 1581, 5, 52, 1582, 1583, 427, 11, 6, 1584, 1585, 1586, 23, 458, 61, 567, 7, 193, 7, 118, 26, 1587, 44, 35, 90, 272, 984, 11, 31, 1588, 10, 26, 167, 22, 11, 459, 18, 1, 25, 985, 1, 174, 5, 43, 568, 48, 3, 273, 728, 8, 42, 21, 1589, 5, 1590, 569, 77, 1591, 4, 2, 460, 2, 1592, 154, 44, 986, 1593, 87, 21, 1594, 8, 166, 4, 68, 6, 461, 10, 3, 19, 1595, 42, 32, 19, 14, 179, 148, 104, 18, 30, 1596, 29, 98, 5, 109, 64, 386, 987, 119, 188, 1597, 85, 988, 35, 4, 218, 41, 12, 25, 462, 989, 44, 7, 170, 1598, 1599, 463, 2, 1600, 47, 183, 184, 47, 729, 1, 255, 14, 28, 282, 8, 30, 289, 464, 38, 22, 1601, 31, 704, 990, 570, 4, 16, 25, 387, 4, 9, 1, 151, 20, 7, 419, 431, 97, 991, 61, 155, 571, 2, 388, 389, 17, 572, 2, 1602, 33, 30, 1603, 1, 573, 67, 102, 225, 5, 102, 6, 297, 5, 730, 1, 2, 355, 51, 465, 166, 9, 83, 11, 2, 574, 1604, 575, 74, 48, 3, 57, 2, 236, 16, 63, 8, 2, 51, 91, 36, 10, 1605, 6, 1606, 9, 27, 68, 37, 6, 1607, 274, 75, 9, 29, 992, 112, 214, 6, 993, 10, 3, 99, 73, 9, 29, 108, 1608, 1, 994, 129, 45, 1609, 25, 1610, 5, 28, 187, 1, 10, 22, 99, 383, 137, 300, 3, 2, 1611, 63, 208, 23, 1612, 4, 1613, 84, 47, 193, 1614, 1, 1615, 98, 5, 43, 290, 1, 49, 83, 576, 5, 466, 1616, 95, 301, 26, 1617, 2, 212, 236, 8, 30, 731, 436, 1618, 8, 1619, 139, 732, 79, 995, 733, 8, 10, 1620, 1621, 67, 75, 29, 366, 64, 577, 2, 996, 14, 1622, 467, 74, 7, 211, 3, 34, 19, 1623, 1, 14, 35, 1, 124, 379, 17, 49, 2, 1624, 171, 27, 155, 716, 734, 1625, 5, 52, 1626, 10, 133, 578, 111, 46, 1627, 58, 19, 468, 4, 997, 2, 469, 328, 998, 302, 39, 579, 52, 1628, 1, 263, 35, 1, 215, 75, 58, 19, 28, 223, 246, 1629, 735, 736, 33, 470, 3, 27, 999, 144, 365, 329, 48, 9, 29, 240, 6, 1630, 374, 183, 62, 195, 198, 7, 1631, 115, 2, 1632, 5, 230, 556, 39, 99, 390, 89, 30, 391, 98, 5, 353, 1, 41, 9, 220, 62, 8, 199, 36, 1633, 471, 63, 299, 931, 194, 3, 186, 367, 9, 4, 7, 36, 9, 275, 1634, 276, 17, 8, 207, 117, 247, 16, 11, 17, 6, 330, 5, 7, 1635, 48, 1000, 1001, 94, 392, 78, 71, 737, 12, 119, 3, 127, 41, 15, 47, 6, 1636, 10, 1637, 15, 9, 29, 299, 738, 90, 5, 163, 106, 216, 3, 41, 11, 739, 7, 36, 160, 11, 33, 263, 112, 48, 128, 270, 12, 21, 11, 4, 16, 25, 331, 258, 332, 391, 22, 40, 333, 6, 365, 21, 1002, 519, 740, 50, 1, 3, 372, 317, 12, 206, 218, 33, 725, 17, 46, 10, 51, 55, 257, 71, 210, 120, 334, 4, 1003, 33, 741, 1638, 1639, 74, 1004, 214, 6, 1005, 1, 1640, 530, 47, 335, 46, 7, 76, 1006, 6, 159, 15, 23, 472, 54, 55, 30, 212, 1641, 1, 1642, 1007, 473, 2, 742, 938, 564, 26, 387, 366, 1, 468, 12, 33, 6, 580, 1643, 2, 1644, 32, 16, 1645, 44, 2, 1646, 14, 24, 1647, 69, 87, 21, 11, 1648, 15, 1008, 1009, 8, 743, 5, 24, 45, 67, 75, 15, 26, 562, 11, 154, 38, 54, 79, 155, 158, 33, 35, 2, 1010, 5, 1011, 5, 1012, 936, 140, 4, 2, 297, 2, 1649, 5, 336, 474, 1650, 467, 5, 47, 76, 20, 20, 1651, 10, 21, 303, 10, 22, 744, 24, 1652, 662, 115, 13, 1013, 209, 12, 21, 67, 1653, 4, 16, 581, 24, 81, 224, 3, 237, 115, 6, 1654, 1014, 1655, 4, 16, 460, 13, 151, 745, 121, 26, 131, 185, 45, 1656, 160, 1657, 228, 1, 82, 224, 239, 49, 17, 159, 335, 55, 146, 6, 582, 14, 393, 33, 74, 14, 7, 1015, 33, 2, 1016, 5, 389, 5, 264, 55, 1658, 1, 475, 10, 1659, 1660, 71, 1661, 2, 746, 5, 559, 1662, 5, 2, 283, 16, 121, 9, 1017, 18, 14, 2, 365, 1663, 1, 747, 7, 357, 103, 112, 30, 118, 59, 27, 154, 748, 20, 49, 749, 14, 35, 2, 1664, 1, 281, 439, 5, 12, 940, 33, 35, 10, 1665, 2, 1666, 1667, 5, 109, 5, 125, 15, 3, 697, 2, 123, 750, 4, 1018, 43, 461, 1668, 26, 115, 2, 1669, 1019, 14, 715, 98, 1, 304, 7, 1020, 29, 1021, 107, 29, 751, 219, 1, 1022, 583, 1023, 8, 102, 1024, 80, 1670, 139, 1025, 77, 16, 1671, 337, 717, 1026, 6, 1672, 5, 2, 1027, 48, 584, 585, 20, 31, 277, 26, 167, 1673, 15, 1674, 21, 429, 1675, 1, 145, 20, 1676, 752, 2, 126, 557, 155, 4, 1028, 9, 7, 156, 1029, 1677, 1678, 1679, 49, 753, 2, 754, 1680, 39, 99, 1681, 28, 178, 106, 755, 17, 6, 325, 5, 1682, 1030, 62, 7, 36, 85, 305, 2, 1031, 756, 185, 4, 2, 1032, 5, 586, 33, 1683, 112, 14, 24, 3, 19, 6, 195, 119, 10, 65, 719, 1033, 224, 8, 1684, 476, 119, 745, 3, 136, 438, 282, 20, 9, 10, 2, 587, 2, 1685, 97, 1034, 1686, 3, 222, 3, 57, 6, 1687, 22, 1035, 18, 42, 4, 9, 24, 21, 11, 477, 114, 248, 292, 10, 53, 11, 135, 9, 49, 263, 306, 1688, 277, 4, 41, 91, 1689, 2, 231, 29, 94, 48, 6, 106, 588, 589, 307, 13, 1690, 2, 1036, 64, 1691, 39, 367, 358, 157, 26, 1037, 459, 1692, 1038, 4, 119, 351, 1, 15, 394, 3, 57, 1693, 8, 6, 51, 10, 3, 1039, 24, 115, 59, 239, 2, 1040, 78, 11, 7, 212, 249, 4, 37, 14, 86, 478, 590, 149, 48, 2, 1016, 5, 24, 280, 94, 2, 338, 735, 1, 6, 1694, 111, 104, 23, 180, 4, 1695, 18, 4, 16, 15, 22, 368, 157, 21, 2, 339, 21, 23, 439, 153, 90, 272, 42, 21, 24, 91, 243, 2, 746, 5, 264, 757, 103, 1696, 76, 1, 154, 9, 708, 60, 1041, 160, 13, 977, 479, 86, 87, 48, 186, 19, 7, 458, 8, 6, 213, 1042, 88, 1697, 4, 171, 9, 27, 1043, 4, 43, 174, 1044, 1, 13, 1698, 1, 10, 1699, 167, 26, 136, 18, 123, 6, 171, 39, 1045, 1700, 3, 186, 19, 35, 1046, 70, 477, 480, 54, 111, 4, 292, 123, 972, 587, 7, 758, 222, 18, 45, 238, 17, 88, 12, 481, 44, 1701, 8, 1702, 8, 143, 2, 1047, 211, 3, 34, 59, 96, 7, 901, 280, 1703, 448, 364, 2, 90, 54, 27, 240, 46, 14, 52, 1704, 214, 10, 2, 1705, 5, 1706, 1, 899, 241, 591, 26, 16, 13, 375, 36, 14, 592, 74, 78, 71, 198, 7, 185, 2, 283, 47, 554, 20, 61, 66, 1707, 759, 214, 2, 76, 183, 3, 57, 524, 8, 108, 1708, 39, 1709, 6, 1710, 3, 19, 11, 760, 6, 1711, 4, 24, 95, 111, 2, 187, 66, 298, 395, 69, 6, 1712, 761, 3, 186, 245, 37, 482, 140, 8, 137, 300, 5, 1713, 176, 1714, 12, 40, 6, 1715, 1716, 162, 120, 79, 15, 762, 102, 674, 1717, 1, 335, 65, 9, 41, 206, 8, 2, 303, 1718, 27, 3, 1719, 1720, 278, 10, 214, 11, 17, 3, 72, 37, 53, 369, 593, 116, 7, 36, 3, 133, 463, 1721, 2, 1722, 5, 31, 7, 195, 17, 2, 290, 32, 1723, 13, 166, 4, 9, 1, 4, 2, 483, 27, 69, 3, 58, 19, 137, 282, 13, 447, 484, 4, 110, 5, 199, 1, 35, 9, 78, 7, 763, 21, 764, 3, 77, 11, 16, 112, 17, 1, 15, 47, 15, 16, 28, 1724, 1725, 3, 27, 1726, 12, 113, 1727, 1048, 14, 9, 38, 3, 41, 274, 66, 3, 34, 11, 535, 1, 8, 1728, 1729, 1730, 1, 4, 191, 181, 86, 1049, 11, 25, 1731, 17, 3, 27, 319, 9, 29, 1732, 1, 3, 57, 6, 376, 5, 1733, 1734, 12, 40, 6, 116, 1050, 518, 1, 203, 37, 4, 1051, 51, 465, 1, 38, 9, 96, 12, 38, 22, 765, 194, 308, 6, 195, 63, 8, 1735, 1736, 27, 9, 458, 250, 232, 26, 1052, 45, 1737, 14, 18, 4, 441, 37, 33, 37, 20, 249, 11, 44, 566, 119, 211, 4, 66, 2, 132, 10, 31, 2, 1738, 1739, 259, 30, 274, 178, 47, 10, 541, 84, 7, 184, 114, 15, 2, 51, 99, 78, 28, 1740, 14, 7, 1741, 1742, 15, 3, 27, 1743, 9, 62, 9, 29, 222, 485, 48, 23, 1744, 1745, 25, 1053, 15, 381, 15, 1746, 479, 26, 249, 1054, 27, 240, 20, 396, 7, 159, 17, 1747, 109, 86, 438, 1, 1748, 594, 275, 1749, 1, 6, 91, 1, 31, 4, 396, 1, 766, 23, 1750, 223, 129, 39, 41, 11, 89, 12, 457, 1751, 255, 66, 7, 1752, 47, 1753, 61, 11, 41, 44, 7, 486, 168, 422, 9, 77, 1754, 7, 180, 5, 1755, 397, 1756, 204, 320, 50, 11, 767, 34, 9, 20, 912, 59, 29, 140, 4, 1757, 7, 1055, 595, 66, 2, 81, 86, 1758, 1056, 327, 437, 129, 1759, 768, 33, 2, 165, 34, 54, 40, 1760, 5, 23, 354, 385, 129, 140, 4, 7, 1761, 1, 397, 596, 33, 18, 10, 1762, 34, 11, 96, 80, 1763, 46, 43, 1057, 1, 321, 10, 1058, 58, 3, 245, 50, 769, 7, 1059, 4, 1764, 87, 215, 59, 19, 1765, 33, 109, 1766, 49, 270, 1060, 6, 106, 1767, 1768, 107, 3, 770, 58, 16, 177, 1769, 50, 947, 38, 9, 27, 124, 176, 3, 99, 487, 16, 25, 1770, 3, 96, 43, 1002, 596, 564, 2, 771, 466, 3, 233, 84, 12, 58, 44, 1771, 990, 488, 50, 20, 48, 138, 122, 28, 211, 739, 1772, 26, 167, 11, 158, 6, 340, 391, 1, 192, 1, 198, 84, 7, 1061, 772, 1062, 2, 65, 61, 597, 80, 432, 8, 7, 256, 1, 1773, 16, 17, 7, 294, 769, 64, 33, 23, 1774, 1063, 214, 67, 1775, 20, 2, 165, 15, 3, 27, 89, 24, 441, 229, 45, 76, 10, 224, 21, 1776, 80, 461, 284, 26, 598, 240, 309, 271, 98, 23, 1777, 398, 3, 96, 11, 599, 20, 2, 106, 1778, 40, 1779, 709, 1780, 1781, 12, 1, 3, 57, 15, 1064, 4, 1782, 12, 47, 15, 1065, 52, 1066, 21, 1783, 139, 1784, 55, 333, 4, 7, 256, 34, 114, 21, 49, 1785, 582, 21, 6, 1067, 1, 15, 6, 94, 64, 172, 45, 200, 6, 536, 249, 43, 1786, 1787, 1788, 42, 721, 364, 600, 7, 36, 773, 11, 70, 399, 33, 1068, 1, 15, 325, 1, 1789, 81, 6, 527, 1069, 151, 22, 58, 275, 12, 63, 1, 105, 50, 4, 4, 2, 1790, 1070, 1071, 201, 27, 11, 100, 42, 2, 1791, 1072, 1792, 41, 1793, 53, 774, 6, 141, 1794, 1795, 76, 1, 102, 6, 544, 692, 1796, 170, 1797, 12, 91, 395, 1798, 1799, 9, 32, 11, 104, 145, 4, 68, 2, 1800, 110, 63, 5, 7, 1073, 5, 601, 400, 322, 24, 280, 127, 389, 7, 196, 156, 1074, 10, 137, 76, 120, 310, 31, 775, 38, 108, 76, 83, 11, 1801, 44, 2, 1802, 1, 3, 27, 1803, 13, 1804, 14, 2, 283, 19, 14, 6, 398, 10, 34, 11, 1805, 14, 489, 84, 10, 1075, 1806, 1807, 64, 3, 27, 602, 1808, 5, 490, 1, 377, 3, 40, 1809, 4, 1810, 6, 1811, 374, 183, 38, 9, 1076, 278, 10, 1812, 1, 1077, 18, 48, 226, 167, 26, 1813, 14, 1814, 1078, 120, 299, 184, 1815, 64, 43, 1014, 29, 103, 2, 1816, 5, 1079, 32, 11, 16, 289, 4, 451, 1, 73, 176, 46, 37, 48, 1, 56, 572, 25, 1080, 5, 6, 354, 65, 9, 8, 43, 212, 228, 21, 102, 1817, 159, 8, 28, 1818, 5, 2, 776, 561, 1, 1819, 51, 315, 74, 260, 8, 1081, 25, 1820, 13, 1082, 59, 697, 28, 20, 43, 1821, 151, 4, 30, 543, 27, 777, 71, 1822, 8, 2, 303, 1823, 603, 64, 491, 5, 1083, 1824, 83, 28, 72, 75, 105, 18, 56, 61, 444, 7, 126, 139, 604, 21, 17, 8, 18, 10, 3, 5, 12, 40, 1825, 122, 8, 7, 383, 1826, 8, 80, 132, 5, 37, 287, 15, 3, 72, 50, 197, 13, 193, 39, 172, 80, 605, 169, 778, 85, 58, 3, 1827, 185, 21, 107, 45, 223, 87, 1084, 67, 75, 28, 1828, 40, 492, 1, 25, 40, 338, 15, 4, 16, 1085, 33, 2, 101, 1829, 7, 36, 12, 79, 2, 1830, 36, 471, 1, 20, 7, 742, 82, 8, 6, 493, 703, 10, 132, 99, 145, 13, 452, 4, 2, 676, 5, 714, 1, 240, 50, 341, 52, 1086, 1, 14, 35, 1831, 3, 5, 1832, 1833, 1, 1834, 5, 1835, 40, 1836, 1837, 277, 60, 18, 298, 190, 54, 55, 164, 2, 1087, 10, 494, 20, 54, 366, 74, 11, 4, 161, 1, 121, 3, 19, 146, 1088, 144, 201, 277, 779, 178, 124, 360, 307, 7, 780, 55, 45, 606, 88, 1838, 4, 2, 47, 428, 1, 188, 4, 42, 26, 1037, 8, 2, 401, 25, 97, 3, 41, 136, 3, 563, 20, 35, 1, 136, 18, 11, 342, 88, 607, 62, 8, 93, 608, 160, 609, 3, 27, 92, 29, 495, 2, 195, 5, 12, 1839, 22, 58, 16, 1089, 14, 25, 22, 32, 271, 610, 251, 25, 1840, 20, 2, 343, 611, 90, 272, 48, 30, 185, 32, 1841, 7, 274, 22, 21, 99, 14, 6, 1842, 15, 6, 1843, 4, 50, 1844, 26, 96, 11, 781, 566, 48, 138, 1, 1845, 148, 32, 612, 23, 148, 1, 104, 6, 782, 5, 1846, 14, 1847, 1848, 95, 402, 17, 6, 51, 21, 741, 24, 1849, 1850, 252, 71, 97, 722, 1851, 20, 3, 136, 7, 180, 69, 39, 19, 782, 46, 1040, 1, 1852, 4, 23, 1853, 1, 32, 22, 234, 11, 8, 2, 279, 5, 264, 311, 102, 188, 7, 281, 32, 16, 1854, 8, 2, 344, 10, 1855, 1856, 6, 1090, 613, 40, 13, 1091, 138, 5, 1092, 56, 38, 59, 32, 11, 1857, 5, 35, 38, 22, 16, 1858, 10, 34, 1859, 174, 1860, 115, 26, 167, 11, 4, 68, 18, 15, 22, 4, 1093, 1861, 14, 2, 435, 38, 3, 41, 49, 10, 3, 32, 1, 614, 98, 5, 1862, 783, 784, 1, 2, 1863, 280, 694, 1, 2, 51, 13, 1094, 4, 383, 18, 599, 41, 9, 496, 473, 397, 1864, 1095, 10, 1865, 40, 250, 232, 64, 4, 263, 4, 1866, 65, 785, 14, 336, 1, 786, 150, 8, 2, 343, 1867, 787, 160, 1868, 15, 1869, 2, 1870, 8, 2, 51, 1, 31, 8, 788, 201, 789, 27, 8, 260, 46, 38, 107, 15, 26, 598, 172, 6, 1096, 168, 21, 2, 344, 5, 165, 4, 790, 35, 4, 52, 145, 10, 3, 19, 1871, 28, 1097, 791, 4, 1098, 326, 150, 1872, 107, 29, 15, 1873, 1, 442, 15, 615, 8, 2, 228, 27, 1874, 52, 1875, 4, 52, 350, 144, 1099, 792, 3, 58, 133, 154, 2, 1876, 147, 6, 397, 156, 793, 11, 20, 403, 17, 3, 57, 81, 6, 1877, 1878, 176, 37, 16, 116, 8, 207, 117, 603, 14, 1879, 497, 345, 39, 362, 1100, 10, 1880, 40, 389, 1, 147, 1881, 8, 2, 794, 1882, 1, 2, 1883, 10, 1884, 108, 1885, 576, 55, 1886, 23, 162, 1887, 1, 520, 1101, 14, 276, 106, 359, 5, 596, 12, 58, 16, 1888, 774, 74, 25, 73, 9, 53, 295, 22, 32, 11, 124, 117, 166, 951, 9, 6, 217, 1889, 243, 53, 59, 73, 591, 26, 25, 3, 77, 321, 35, 62, 114, 160, 140, 15, 38, 9, 206, 4, 261, 122, 11, 795, 20, 23, 1890, 15, 3, 32, 154, 202, 2, 1891, 3, 41, 691, 9, 38, 9, 34, 616, 617, 6, 1892, 1893, 122, 297, 1894, 14, 9, 90, 5, 163, 3, 273, 278, 1102, 5, 199, 10, 764, 20, 35, 1895, 115, 2, 434, 204, 13, 187, 154, 7, 1896, 17, 469, 404, 21, 1897, 224, 4, 1898, 5, 28, 1899, 103, 2, 1103, 120, 82, 1900, 18, 14, 2, 1901, 120, 186, 1104, 1, 16, 2, 1902, 17, 11, 1903, 80, 196, 1, 1904, 5, 1905, 1, 1906, 10, 9, 34, 28, 17, 753, 22, 81, 6, 1907, 3, 221, 320, 9, 498, 106, 531, 3, 57, 25, 1908, 103, 618, 49, 33, 7, 453, 113, 439, 46, 2, 188, 1909, 619, 74, 76, 250, 232, 32, 3, 1032, 18, 4, 104, 46, 43, 200, 144, 116, 478, 264, 1, 105, 18, 932, 28, 47, 284, 3, 100, 220, 9, 27, 271, 18, 26, 70, 14, 18, 70, 107, 14, 24, 1910, 6, 430, 1105, 322, 6, 796, 1911, 14, 13, 1912, 5, 6, 1913, 1106, 440, 1914, 134, 900, 24, 17, 1107, 1915, 1916, 4, 104, 7, 797, 128, 1, 39, 245, 2, 798, 1917, 5, 41, 15, 1918, 8, 1919, 123, 499, 13, 332, 36, 799, 13, 350, 32, 1920, 12, 284, 405, 14, 37, 287, 268, 11, 5, 31, 2, 500, 5, 92, 1921, 4, 246, 1072, 435, 1922, 8, 1923, 10, 470, 319, 9, 8, 2, 312, 32, 122, 1924, 4, 62, 1925, 121, 46, 24, 39, 217, 44, 137, 580, 6, 1926, 1927, 5, 13, 117, 1108, 8, 1928, 3, 27, 253, 229, 35, 55, 1929, 20, 12, 46, 2, 123, 800, 1930, 10, 801, 2, 678, 4, 2, 209, 5, 1931, 473, 1, 73, 12, 252, 50, 1932, 1, 318, 112, 2, 401, 210, 259, 30, 47, 205, 1, 34, 501, 102, 124, 620, 14, 106, 621, 7, 156, 203, 35, 8, 23, 446, 20, 46, 2, 622, 575, 4, 2, 1109, 230, 29, 369, 27, 89, 30, 802, 803, 8, 114, 47, 554, 804, 248, 317, 78, 71, 19, 67, 502, 4, 9, 227, 33, 13, 432, 69, 286, 55, 1933, 37, 1, 56, 22, 55, 11, 1934, 43, 1935, 502, 101, 623, 232, 295, 323, 13, 27, 1, 23, 1073, 1110, 74, 542, 25, 404, 3, 155, 805, 10, 108, 87, 79, 158, 23, 568, 2, 421, 5, 72, 51, 169, 913, 127, 9, 11, 270, 16, 11, 94, 30, 308, 5, 260, 55, 7, 503, 72, 4, 19, 18, 15, 21, 13, 196, 9, 27, 806, 9, 1, 134, 4, 222, 10, 21, 8, 108, 1936, 399, 149, 1937, 1938, 42, 155, 739, 807, 808, 7, 758, 5, 13, 117, 187, 2, 1939, 290, 28, 1940, 79, 5, 13, 290, 197, 59, 29, 3, 57, 1941, 8, 7, 706, 10, 588, 1942, 40, 11, 13, 504, 1943, 1111, 204, 60, 503, 6, 1944, 10, 22, 77, 921, 112, 4, 467, 1, 13, 241, 4, 624, 35, 4, 625, 3, 130, 62, 10, 3, 40, 1945, 1, 59, 19, 333, 70, 14, 18, 88, 329, 17, 3, 27, 68, 2, 505, 48, 1946, 149, 48, 138, 1, 24, 40, 25, 201, 15, 2, 461, 15, 3, 41, 7, 276, 27, 16, 189, 251, 3, 127, 45, 809, 60, 30, 147, 2, 1947, 475, 1948, 5, 6, 1112, 2, 179, 483, 75, 9, 29, 1949, 31, 462, 205, 78, 18, 68, 9, 2, 1020, 105, 9, 85, 79, 9, 2, 170, 5, 227, 33, 52, 110, 1113, 151, 1114, 56, 3, 1115, 204, 1, 20, 2, 1116, 704, 1950, 1117, 35, 78, 11, 385, 455, 115, 13, 682, 41, 11, 1, 244, 6, 670, 1118, 177, 16, 13, 626, 22, 55, 1951, 1119, 1, 369, 1952, 4, 54, 40, 12, 91, 406, 485, 307, 88, 459, 17, 121, 155, 571, 616, 268, 627, 1120, 810, 1953, 192, 457, 149, 38, 9, 41, 1091, 1, 25, 9, 41, 1121, 3, 41, 11, 579, 358, 7, 36, 3, 690, 2, 27, 7, 241, 21, 53, 95, 32, 13, 1954, 144, 24, 464, 90, 5, 163, 113, 1955, 204, 445, 5, 163, 1, 346, 18, 97, 10, 1122, 1956, 137, 300, 131, 26, 94, 51, 138, 2, 1957, 5, 350, 3, 273, 50, 1958, 4, 230, 80, 1959, 811, 44, 9, 20, 13, 141, 1960, 1, 72, 20, 12, 618, 61, 66, 13, 1961, 347, 39, 27, 1962, 128, 270, 19, 9, 987, 1963, 10, 3, 82, 258, 38, 54, 177, 244, 4, 495, 24, 1964, 53, 15, 78, 50, 499, 28, 43, 1123, 38, 26, 532, 1124, 112, 1965, 94, 74, 3, 161, 506, 457, 161, 9, 41, 9, 27, 1125, 565, 1966, 19, 164, 491, 5, 812, 468, 18, 33, 43, 1049, 151, 14, 35, 20, 113, 25, 1967, 3, 273, 35, 350, 308, 628, 1968, 2, 1126, 5, 13, 330, 54, 34, 11, 16, 13, 629, 630, 1, 62, 4, 96, 53, 1969, 3, 463, 2, 1970, 17, 23, 1127, 5, 28, 101, 15, 813, 33, 13, 97, 153, 65, 23, 223, 1128, 38, 92, 1070, 1129, 62, 8, 30, 758, 14, 150, 631, 4, 563, 14, 28, 232, 48, 12, 40, 6, 666, 31, 3, 161, 9, 14, 28, 1971, 521, 1972, 1, 121, 41, 3, 63, 17, 1130, 79, 119, 1973, 39, 29, 814, 33, 1131, 480, 3, 27, 11, 960, 1, 4, 815, 30, 1132, 632, 51, 169, 1974, 62, 7, 47, 36, 1133, 1082, 1975, 564, 3, 571, 3, 41, 112, 4, 16, 1976, 1977, 17, 78, 18, 96, 11, 17, 20, 13, 117, 187, 163, 3, 105, 9, 307, 1978, 62, 3, 19, 589, 92, 1979, 10, 1006, 166, 17, 15, 38, 3, 58, 70, 144, 289, 707, 22, 1980, 83, 146, 407, 4, 16, 134, 1981, 424, 1, 22, 328, 4, 1982, 13, 1983, 17, 3, 171, 3, 40, 46, 18, 507, 17, 38, 39, 49, 16, 54, 1984, 144, 23, 109, 64, 124, 1, 162, 22, 40, 1985, 112, 23, 408, 16, 1986, 14, 2, 1134, 5, 2, 1987, 69, 140, 26, 131, 784, 1, 15, 173, 135, 1988, 4, 52, 1135, 1136, 195, 26, 131, 81, 1989, 5, 76, 1, 99, 3, 191, 1043, 25, 17, 428, 35, 1990, 1, 816, 2, 245, 8, 472, 132, 6, 508, 15, 59, 19, 63, 64, 817, 1, 633, 20, 9, 8, 125, 5, 1991, 381, 139, 478, 366, 5, 106, 818, 177, 16, 1992, 208, 17, 337, 1993, 3, 1137, 60, 1994, 40, 63, 15, 3, 58, 1067, 62, 8, 24, 190, 17, 815, 45, 806, 14, 18, 93, 4, 1995, 5, 634, 65, 29, 1996, 33, 1997, 4, 7, 791, 139, 141, 1138, 74, 2, 1103, 59, 1998, 1, 107, 40, 1999, 90, 5, 163, 3, 130, 42, 179, 128, 32, 39, 130, 2, 106, 15, 536, 14, 80, 2000, 4, 35, 501, 12, 409, 22, 51, 522, 819, 262, 128, 3, 19, 257, 2, 2001, 2002, 5, 1127, 1, 1139, 1, 2003, 23, 117, 820, 14, 23, 2004, 1, 2005, 3, 40, 94, 1, 2006, 25, 3, 34, 689, 124, 1140, 125, 4, 109, 1141, 1, 3, 34, 681, 35, 61, 11, 41, 37, 11, 251, 3, 77, 16, 25, 1, 56, 13, 2007, 104, 18, 6, 509, 83, 50, 2008, 23, 1142, 65, 252, 6, 2009, 2010, 5, 387, 2011, 8, 821, 3, 1143, 49, 4, 240, 2012, 4, 6, 2013, 5, 7, 211, 39, 29, 20, 109, 255, 107, 40, 241, 510, 2, 1144, 36, 46, 23, 110, 48, 78, 37, 790, 341, 31, 30, 209, 3, 2014, 4, 35, 10, 77, 16, 7, 1114, 14, 86, 1145, 2015, 65, 3, 57, 2016, 58, 11, 1146, 46, 635, 2, 2017, 29, 53, 153, 5, 24, 148, 445, 5, 163, 90, 2018, 1147, 18, 4, 10, 330, 256, 24, 297, 6, 430, 29, 2, 2019, 344, 17, 86, 1025, 1, 2020, 5, 7, 1148, 21, 2021, 4, 9, 17, 88, 3, 32, 70, 197, 1, 367, 13, 636, 90, 5, 163, 61, 822, 2022, 3, 171, 3, 40, 6, 2023, 64, 301, 19, 158, 31, 47, 1149, 1, 7, 313, 3, 171, 4, 72, 9, 17, 63, 12, 122, 11, 56, 129, 67, 75, 2, 1150, 5, 2024, 2025, 15, 9, 34, 25, 16, 2026, 2027, 104, 18, 2, 637, 38, 137, 192, 20, 2028, 1, 33, 2029, 1, 2030, 7, 36, 41, 9, 135, 9, 14, 13, 2031, 17, 13, 290, 77, 73, 3, 314, 5, 212, 433, 2032, 490, 93, 190, 3, 372, 2033, 506, 2, 1151, 5, 72, 38, 39, 29, 823, 109, 4, 293, 12, 638, 4, 105, 18, 63, 246, 824, 510, 81, 6, 347, 10, 761, 28, 31, 5, 2, 2034, 1, 4, 92, 422, 2035, 18, 13, 1152, 249, 168, 9, 1153, 29, 1, 1063, 10, 202, 2, 2036, 377, 5, 720, 14, 13, 629, 331, 323, 2037, 6, 371, 48, 1154, 2038, 2039, 8, 23, 2040, 22, 21, 17, 2, 803, 5, 7, 94, 2041, 51, 5, 183, 328, 38, 6, 385, 79, 11, 141, 717, 79, 54, 11, 25, 152, 1093, 6, 750, 120, 111, 105, 37, 22, 55, 14, 6, 425, 20, 23, 125, 4, 2042, 12, 46, 114, 1, 734, 71, 20, 6, 399, 1, 134, 82, 9, 11, 19, 53, 2043, 37, 17, 11, 1155, 170, 617, 107, 29, 2, 118, 5, 92, 9, 2044, 135, 825, 1156, 9, 32, 244, 12, 14, 2045, 9, 19, 203, 18, 20, 22, 4, 463, 13, 2046, 3, 32, 221, 85, 201, 621, 177, 210, 2047, 198, 2, 701, 44, 2, 370, 5, 110, 1, 56, 2048, 1, 3, 2049, 23, 2050, 826, 21, 2051, 1, 1157, 23, 353, 1, 2052, 72, 40, 2053, 5, 2, 1158, 51, 138, 21, 12, 13, 639, 985, 445, 2054, 19, 45, 2055, 2056, 827, 298, 406, 2057, 14, 129, 34, 22, 79, 6, 552, 1, 2058, 2059, 140, 8, 14, 108, 213, 828, 1, 51, 69, 640, 55, 814, 2, 829, 65, 40, 306, 25, 79, 26, 2060, 1, 27, 16, 2, 2061, 17, 12, 1, 15, 30, 2062, 125, 21, 137, 641, 77, 16, 360, 1159, 6, 357, 45, 667, 75, 3, 58, 2063, 46, 37, 38, 39, 2064, 11, 124, 15, 2065, 219, 81, 72, 12, 40, 133, 923, 2066, 22, 82, 508, 4, 16, 11, 20, 92, 2067, 5, 2, 1160, 5, 2068, 90, 5, 928, 198, 18, 2069, 35, 42, 2070, 216, 2071, 2072, 2073, 47, 48, 3, 73, 1, 81, 6, 1161, 5, 308, 7, 118, 104, 37, 30, 2074, 47, 48, 3, 34, 11, 20, 43, 180, 104, 52, 2075, 504, 505, 577, 18, 35, 22, 305, 125, 4, 2, 2076, 2077, 2078, 1162, 98, 5, 10, 132, 206, 930, 3, 186, 427, 14, 35, 14, 2, 1122, 2079, 190, 368, 6, 76, 2080, 1, 89, 12, 506, 25, 2, 2081, 107, 60, 2, 766, 5, 2, 391, 534, 2, 242, 387, 157, 3, 66, 24, 2082, 24, 2083, 44, 33, 2084, 1, 2, 1163, 1162, 2085, 111, 2086, 43, 230, 17, 69, 3, 34, 154, 30, 1164, 292, 53, 3, 57, 2087, 60, 13, 636, 2088, 95, 2089, 18, 15, 8, 2, 379, 56, 2090, 86, 2091, 5, 2, 123, 1165, 8, 2, 266, 13, 821, 1, 1077, 2092, 188, 220, 22, 31, 2, 1166, 4, 66, 261, 14, 31, 24, 17, 747, 4, 154, 7, 118, 9, 19, 25, 2093, 2094, 10, 27, 104, 9, 44, 201, 789, 642, 1165, 27, 1019, 8, 31, 13, 830, 8, 13, 51, 507, 1, 11, 86, 2095, 287, 392, 3, 27, 73, 599, 553, 104, 18, 2, 1167, 8, 2, 148, 7, 36, 1, 96, 2, 643, 1168, 29, 8, 12, 329, 6, 762, 2096, 93, 730, 121, 166, 479, 1, 78, 30, 2097, 14, 37, 273, 1169, 39, 258, 9, 31, 5, 13, 668, 2098, 2099, 120, 9, 27, 233, 18, 10, 9, 77, 48, 138, 48, 584, 585, 74, 255, 61, 2100, 20, 109, 24, 56, 2101, 410, 21, 13, 2102, 2, 123, 2103, 335, 60, 2104, 111, 2105, 2, 2106, 1170, 5, 199, 175, 4, 66, 13, 154, 4, 2107, 23, 831, 144, 7, 827, 3, 57, 929, 1, 2108, 39, 29, 2109, 64, 3, 19, 832, 6, 508, 119, 3, 411, 13, 126, 298, 36, 382, 412, 26, 16, 134, 2110, 10, 119, 1171, 477, 480, 302, 19, 383, 24, 15, 2111, 20, 277, 4, 245, 10, 2112, 37, 59, 73, 3, 27, 51, 169, 378, 238, 87, 644, 171, 16, 189, 48, 9, 77, 319, 9, 4, 2113, 4, 2, 90, 5, 2114, 2115, 52, 187, 55, 1172, 168, 2116, 5, 6, 829, 1, 43, 286, 21, 11, 189, 8, 2117, 4, 31, 24, 495, 1173, 21, 24, 420, 92, 277, 20, 6, 422, 833, 10, 126, 21, 11, 3, 77, 16, 2118, 1, 20, 2, 568, 20, 3, 57, 2119, 113, 764, 1, 88, 2, 274, 2120, 5, 2, 145, 2121, 2122, 204, 2123, 600, 392, 19, 3, 2124, 2125, 63, 1, 201, 5, 2, 2126, 176, 2, 706, 3, 82, 834, 14, 6, 2127, 44, 7, 180, 15, 13, 151, 2128, 2, 162, 67, 5, 2129, 2, 228, 264, 48, 34, 9, 41, 208, 23, 290, 89, 45, 444, 2130, 68, 10, 2131, 8, 2, 339, 5, 313, 67, 2132, 15, 4, 73, 23, 97, 125, 25, 1174, 5, 35, 113, 2133, 620, 1, 61, 234, 2134, 1175, 398, 485, 22, 1176, 45, 1177, 20, 31, 24, 1104, 5, 440, 93, 190, 167, 26, 189, 141, 97, 2135, 565, 424, 1, 68, 37, 221, 81, 6, 162, 2136, 1, 39, 2137, 13, 125, 5, 555, 14, 6, 2138, 140, 49, 6, 228, 4, 13, 835, 23, 236, 1, 157, 54, 511, 172, 81, 6, 126, 81, 2139, 1, 2140, 363, 46, 7, 36, 234, 12, 2, 809, 1178, 5, 336, 4, 70, 23, 2141, 1, 2142, 2143, 600, 156, 2144, 225, 6, 1044, 1179, 38, 22, 16, 1180, 11, 4, 265, 46, 207, 478, 112, 2, 2145, 2146, 2147, 820, 39, 58, 16, 2148, 2149, 1, 87, 126, 10, 28, 629, 1181, 5, 31, 2, 2150, 2151, 2152, 2153, 111, 47, 2154, 586, 248, 88, 100, 72, 6, 356, 10, 2155, 14, 1109, 836, 143, 62, 26, 131, 2156, 64, 23, 2157, 1, 59, 19, 146, 6, 76, 40, 11, 63, 310, 39, 6, 162, 56, 2158, 30, 133, 1182, 204, 3, 27, 19, 4, 105, 28, 495, 69, 7, 776, 36, 487, 22, 32, 221, 90, 272, 25, 437, 64, 3, 27, 68, 37, 8, 87, 300, 8, 2, 639, 63, 299, 2, 2159, 110, 112, 2160, 2161, 6, 1183, 551, 82, 89, 18, 609, 87, 215, 2, 590, 13, 147, 21, 62, 4, 18, 2162, 85, 49, 91, 608, 53, 1, 12, 21, 14, 28, 707, 28, 786, 16, 189, 1121, 79, 751, 48, 2163, 233, 37, 8, 4, 225, 17, 26, 20, 9, 29, 837, 17, 11, 13, 1184, 250, 232, 184, 1166, 318, 184, 492, 2164, 44, 13, 2165, 2166, 19, 129, 1, 4, 10, 2167, 17, 12, 34, 11, 41, 9, 160, 838, 2, 1185, 147, 10, 2168, 13, 216, 2169, 459, 9, 198, 46, 9, 836, 1, 13, 644, 5, 72, 21, 4, 795, 1186, 86, 839, 1, 45, 76, 663, 4, 7, 2170, 21, 81, 4, 2171, 4, 2172, 91, 36, 121, 61, 2173, 14, 7, 494, 12, 21, 4, 154, 43, 1056, 1, 11, 19, 146, 2174, 20, 11, 1009, 64, 2175, 44, 13, 2176, 6, 2177, 17, 49, 13, 125, 40, 2178, 8, 7, 109, 17, 9, 174, 1187, 231, 50, 334, 4, 16, 2179, 5, 7, 2180, 112, 24, 39, 8, 6, 76, 811, 3, 34, 16, 6, 840, 75, 41, 9, 70, 4, 9, 2181, 47, 7, 36, 13, 2182, 263, 9, 487, 2183, 3, 130, 9, 32, 16, 158, 9, 32, 68, 50, 2184, 51, 315, 3, 57, 2185, 145, 39, 77, 680, 2, 2186, 93, 471, 326, 39, 1188, 71, 48, 17, 24, 347, 9, 29, 48, 25, 3, 40, 6, 2187, 10, 26, 155, 2188, 4, 2189, 69, 22, 310, 2, 2190, 1189, 4, 66, 42, 21, 2191, 6, 2192, 817, 456, 14, 6, 605, 10, 2, 413, 44, 2193, 2194, 23, 2195, 2196, 4, 2197, 726, 966, 8, 23, 2198, 2199, 65, 26, 17, 2200, 150, 637, 1, 2201, 2202, 10, 38, 22, 2203, 2, 2204, 5, 2205, 90, 272, 2206, 7, 1150, 200, 103, 1, 128, 9, 19, 976, 31, 2207, 2208, 74, 86, 3, 66, 12, 34, 496, 49, 216, 169, 3, 161, 13, 1190, 48, 54, 32, 16, 2209, 474, 54, 27, 645, 18, 1, 12, 646, 84, 24, 2210, 1, 2211, 71, 44, 18, 50, 49, 33, 7, 196, 1, 737, 2, 503, 69, 3, 40, 17, 333, 86, 2212, 21, 631, 1, 439, 26, 2213, 83, 2214, 4, 775, 4, 2, 51, 42, 131, 26, 1191, 251, 2, 413, 3, 82, 841, 85, 49, 1192, 65, 158, 2, 93, 2215, 98, 5, 30, 2216, 647, 103, 7, 126, 46, 35, 1, 2217, 26, 8, 30, 2218, 170, 139, 282, 29, 8, 2, 266, 5, 24, 2219, 1, 8, 102, 2220, 32, 155, 842, 1, 2, 179, 104, 18, 648, 752, 1, 2221, 843, 984, 149, 196, 3, 41, 11, 198, 7, 159, 33, 28, 756, 1193, 33, 336, 1, 2, 2222, 2223, 88, 43, 423, 279, 1, 27, 218, 2, 101, 5, 31, 2, 193, 161, 3, 7, 36, 3, 27, 11, 100, 91, 36, 294, 39, 32, 16, 2224, 1, 3, 130, 150, 189, 142, 102, 6, 2225, 3, 77, 496, 358, 4, 200, 649, 45, 48, 1, 89, 37, 46, 844, 25, 15, 9, 41, 398, 7, 36, 131, 26, 67, 75, 2, 101, 736, 33, 7, 453, 3, 19, 23, 384, 2226, 560, 390, 115, 22, 2227, 37, 24, 766, 95, 9, 82, 488, 25, 158, 6, 650, 20, 45, 256, 1, 845, 44, 35, 1, 13, 106, 2228, 804, 2229, 147, 55, 152, 2230, 1, 42, 6, 642, 481, 29, 2231, 1, 134, 6, 76, 10, 442, 7, 47, 2232, 120, 1194, 120, 846, 278, 1195, 1169, 233, 2233, 5, 12, 1, 297, 52, 2234, 84, 2, 132, 42, 785, 8, 23, 2235, 86, 2236, 645, 2, 2237, 910, 345, 45, 2238, 2239, 4, 1148, 50, 844, 61, 847, 13, 1196, 799, 95, 24, 3, 57, 219, 2, 76, 5, 336, 178, 60, 2, 2240, 157, 3, 239, 33, 153, 60, 2241, 202, 2, 340, 491, 5, 400, 16, 116, 98, 1, 2242, 2243, 56, 304, 20, 52, 537, 44, 2, 665, 1102, 15, 4, 35, 612, 120, 21, 2244, 208, 23, 848, 1, 108, 743, 5, 293, 39, 954, 1, 2245, 2246, 2, 2247, 157, 12, 11, 40, 65, 49, 79, 238, 17, 1197, 8, 24, 76, 69, 3, 34, 1124, 593, 2248, 229, 634, 74, 7, 533, 81, 6, 76, 182, 143, 53, 784, 473, 92, 174, 51, 63, 40, 171, 4, 45, 754, 42, 2249, 82, 3, 57, 1198, 130, 905, 4, 24, 414, 76, 1199, 3, 19, 15, 201, 1200, 4, 16, 2250, 59, 19, 2251, 3, 257, 12, 808, 23, 188, 1, 78, 37, 70, 216, 169, 3, 32, 16, 60, 13, 147, 48, 4, 16, 2252, 33, 2, 2253, 5, 116, 434, 400, 405, 1201, 18, 2, 192, 5, 7, 1202, 1, 306, 61, 306, 16, 203, 619, 32, 367, 9, 2254, 3, 19, 2255, 7, 1152, 277, 64, 32, 9, 2256, 53, 113, 9, 32, 25, 512, 2, 279, 65, 177, 217, 6, 1190, 115, 9, 58, 16, 1022, 15, 9, 19, 8, 472, 292, 390, 2257, 616, 9, 507, 9, 2258, 4, 73, 323, 6, 106, 173, 363, 3, 83, 247, 16, 158, 388, 1, 59, 66, 79, 25, 103, 121, 114, 3, 136, 37, 4, 130, 22, 299, 3, 57, 849, 320, 278, 31, 214, 429, 17, 39, 77, 2259, 17, 69, 82, 22, 73, 24, 101, 254, 1, 33, 3, 257, 1057, 2260, 26, 43, 2261, 121, 716, 12, 81, 4, 624, 30, 1203, 14, 6, 2262, 15, 120, 12, 2263, 2, 2264, 64, 2, 2265, 462, 70, 2266, 30, 2267, 850, 169, 778, 4, 18, 3, 19, 6, 94, 796, 5, 23, 2268, 4, 353, 10, 2269, 2, 147, 32, 253, 95, 160, 6, 2270, 3, 221, 6, 2271, 594, 8, 43, 2272, 1, 2273, 2274, 15, 87, 5, 2275, 2276, 2277, 70, 33, 6, 851, 852, 4, 2278, 1, 628, 62, 1, 650, 31, 26, 598, 16, 12, 21, 116, 308, 39, 27, 11, 2279, 35, 31, 64, 2280, 98, 121, 65, 1153, 373, 7, 2281, 1, 78, 71, 68, 37, 629, 1, 39, 32, 16, 496, 25, 404, 2282, 38, 11, 7, 148, 3, 136, 54, 27, 135, 2283, 1, 68, 2, 853, 1, 234, 44, 2284, 2285, 1, 2, 2286, 5, 52, 925, 2287, 56, 826, 2, 566, 5, 1204, 47, 181, 1, 25, 229, 39, 27, 31, 1205, 10, 252, 6, 356, 1, 148, 234, 2, 230, 20, 2, 13, 1206, 89, 26, 45, 279, 42, 596, 3, 454, 1, 68, 86, 644, 22, 34, 2288, 106, 1207, 829, 2289, 45, 67, 38, 26, 167, 11, 146, 15, 22, 206, 24, 2290, 2291, 1, 47, 132, 534, 8, 2292, 2, 245, 5, 2293, 5, 30, 476, 541, 28, 210, 1, 110, 41, 12, 415, 60, 43, 2294, 2295, 24, 2296, 227, 59, 29, 20, 43, 455, 1208, 2297, 6, 475, 202, 43, 2298, 4, 28, 854, 160, 2299, 4, 2300, 1, 3, 57, 524, 2, 298, 13, 408, 51, 465, 7, 36, 855, 619, 919, 1, 217, 4, 2, 309, 1, 856, 31, 20, 42, 14, 493, 2301, 2302, 64, 651, 252, 2303, 10, 2304, 30, 324, 64, 2305, 857, 43, 117, 700, 202, 2, 2306, 241, 65, 2307, 7, 2308, 858, 84, 43, 2309, 17, 4, 2, 2310, 76, 1, 145, 1209, 1, 210, 1, 142, 1, 510, 29, 22, 2311, 395, 102, 6, 2312, 135, 2313, 35, 720, 90, 149, 3, 2314, 43, 2315, 416, 285, 75, 13, 2316, 357, 2317, 4, 258, 4, 102, 6, 2318, 5, 444, 52, 530, 51, 522, 819, 89, 12, 2, 441, 1, 78, 13, 173, 2319, 2320, 2321, 3, 134, 749, 13, 2322, 2323, 557, 85, 2324, 19, 3, 2325, 9, 19, 6, 94, 2326, 34, 363, 2, 2327, 134, 4, 35, 38, 54, 19, 203, 1210, 4, 7, 170, 25, 115, 113, 119, 291, 42, 73, 9, 26, 131, 137, 1129, 93, 243, 178, 80, 17, 425, 2328, 2329, 3, 72, 175, 7, 36, 9, 77, 6, 27, 1211, 29, 9, 10, 324, 93, 395, 3, 105, 9, 529, 107, 40, 1212, 3, 231, 12, 77, 511, 1051, 18, 53, 2330, 3, 257, 17, 382, 37, 1, 2331, 2332, 21, 158, 59, 34, 11, 66, 24, 190, 113, 46, 854, 12, 252, 513, 2333, 6, 1213, 4, 2, 335, 7, 200, 3, 34, 790, 46, 7, 2334, 611, 46, 633, 33, 71, 6, 2335, 5, 385, 88, 3, 275, 37, 42, 26, 532, 740, 30, 65, 495, 4, 24, 140, 128, 270, 26, 562, 16, 2336, 3, 66, 512, 37, 417, 2337, 23, 1214, 56, 177, 62, 4, 35, 251, 38, 12, 16, 3, 19, 2338, 244, 35, 178, 11, 6, 641, 8, 7, 2339, 10, 2340, 5, 1215, 2341, 175, 19, 6, 389, 20, 86, 800, 101, 74, 225, 2342, 8, 7, 636, 65, 677, 53, 335, 17, 46, 2, 297, 5, 109, 25, 116, 15, 1216, 41, 68, 18, 859, 10, 956, 18, 14, 7, 2343, 376, 10, 116, 5, 1215, 2344, 204, 287, 326, 2345, 81, 6, 2346, 2, 351, 150, 470, 404, 21, 2347, 103, 174, 2348, 1, 23, 47, 2349, 29, 11, 10, 3, 41, 626, 2350, 14, 37, 647, 12, 142, 28, 1047, 1217, 84, 50, 51, 138, 62, 11, 4, 2351, 62, 46, 48, 15, 53, 373, 77, 2352, 25, 8, 35, 15, 2353, 2354, 47, 215, 3, 314, 341, 175, 305, 496, 1017, 2, 228, 31, 15, 2355, 24, 267, 2356, 95, 10, 21, 2, 2357, 5, 2358, 4, 2359, 18, 8, 60, 30, 370, 122, 11, 244, 2360, 16, 2361, 88, 26, 413, 395, 62, 20, 128, 382, 4, 143, 292, 78, 37, 319, 12, 205, 767, 2362, 37, 3, 261, 2363, 15, 3, 32, 73, 3, 19, 6, 181, 75, 49, 2364, 245, 18, 218, 52, 719, 23, 246, 38, 6, 2365, 67, 2366, 2367, 21, 12, 777, 226, 2368, 805, 2, 2369, 945, 259, 92, 1218, 8, 87, 215, 4, 7, 97, 2370, 2371, 11, 24, 2372, 2373, 76, 2374, 16, 12, 2, 594, 90, 5, 652, 842, 37, 104, 18, 994, 1, 74, 653, 79, 52, 2375, 284, 460, 684, 2376, 3, 27, 11, 547, 13, 583, 41, 2377, 6, 544, 205, 1, 2378, 308, 696, 74, 606, 600, 100, 9, 332, 36, 154, 103, 30, 2379, 8, 43, 860, 1, 13, 452, 127, 198, 6, 413, 5, 71, 15, 110, 269, 1, 8, 2, 2380, 1, 2381, 5, 13, 351, 34, 66, 37, 33, 2, 2382, 5, 199, 73, 50, 10, 458, 131, 26, 5, 80, 330, 2383, 24, 76, 32, 995, 11, 107, 10, 2384, 11, 7, 436, 255, 42, 49, 1219, 23, 156, 390, 39, 177, 914, 37, 184, 128, 91, 608, 149, 39, 77, 191, 4, 43, 1090, 286, 2385, 26, 1052, 19, 146, 849, 38, 331, 38, 133, 2386, 15, 2387, 108, 2388, 1, 861, 2389, 323, 8, 6, 780, 399, 107, 29, 43, 132, 32, 19, 43, 537, 52, 2390, 149, 214, 509, 11, 2391, 53, 14, 43, 2392, 1, 6, 195, 15, 1220, 2393, 2394, 63, 93, 2395, 60, 31, 291, 94, 241, 276, 31, 473, 18, 78, 71, 16, 33, 43, 384, 347, 649, 20, 2, 2396, 3, 19, 355, 28, 264, 2, 486, 22, 111, 2397, 12, 44, 18, 341, 1, 254, 33, 23, 789, 168, 13, 494, 1, 2398, 504, 1, 2399, 2400, 3, 154, 30, 348, 1221, 514, 208, 12, 3, 41, 11, 66, 9, 99, 269, 799, 9, 19, 105, 71, 106, 173, 153, 92, 2401, 83, 146, 407, 33, 2, 338, 101, 494, 99, 16, 2402, 4, 2, 2403, 83, 515, 6, 313, 15, 152, 15, 24, 4, 210, 50, 75, 60, 18, 88, 127, 417, 3, 265, 7, 2404, 4, 2405, 106, 426, 2406, 88, 16, 63, 17, 108, 281, 935, 45, 61, 19, 35, 31, 24, 594, 2407, 284, 74, 24, 21, 24, 91, 36, 17, 3, 34, 261, 4, 525, 9, 207, 117, 117, 1222, 160, 22, 7, 36, 3, 27, 2408, 4, 9, 194, 162, 3, 73, 182, 143, 31, 2409, 1, 2410, 9, 4, 1223, 431, 12, 21, 67, 2411, 3, 27, 11, 2412, 67, 75, 2413, 862, 16, 54, 61, 410, 43, 1096, 1224, 405, 2, 165, 40, 133, 6, 2414, 460, 6, 2415, 118, 2416, 813, 863, 38, 3, 16, 63, 3, 57, 51, 9, 19, 45, 970, 8, 102, 6, 388, 3, 161, 35, 226, 92, 2417, 121, 1198, 3, 57, 1128, 3, 641, 13, 2418, 2419, 68, 45, 141, 2420, 1141, 748, 39, 29, 31, 8, 13, 864, 1154, 2421, 3, 171, 12, 77, 100, 38, 39, 83, 2, 1225, 10, 16, 194, 7, 36, 5, 284, 133, 219, 14, 6, 605, 3, 105, 20, 2, 1116, 2422, 186, 16, 288, 268, 1, 25, 865, 29, 142, 2423, 17, 643, 235, 25, 198, 50, 142, 3, 41, 11, 130, 47, 249, 4, 28, 47, 2424, 1, 1226, 266, 1, 56, 535, 6, 2425, 55, 28, 267, 2426, 10, 87, 2427, 381, 2428, 129, 6, 840, 302, 275, 2, 235, 8, 586, 2429, 839, 4, 68, 35, 1194, 10, 3, 40, 67, 2430, 45, 4, 628, 319, 50, 1227, 37, 291, 42, 21, 22, 90, 5, 163, 3, 19, 983, 14, 9, 12, 21, 53, 856, 31, 7, 375, 205, 55, 146, 352, 12, 88, 56, 2431, 610, 103, 7, 228, 418, 4, 512, 50, 136, 12, 64, 386, 7, 340, 1, 434, 40, 53, 2432, 182, 33, 6, 597, 394, 1, 332, 110, 82, 788, 91, 450, 178, 45, 67, 1228, 31, 179, 2433, 110, 250, 232, 61, 11, 11, 254, 14, 42, 39, 43, 2434, 97, 150, 705, 15, 22, 55, 581, 64, 68, 102, 6, 223, 5, 43, 141, 2435, 2436, 16, 175, 15, 2437, 2438, 1, 356, 621, 25, 111, 6, 1164, 1, 23, 117, 72, 38, 22, 16, 2439, 1, 2440, 4, 2441, 85, 959, 25, 111, 44, 1081, 14, 6, 397, 2442, 90, 272, 95, 25, 402, 2443, 7, 350, 85, 866, 52, 2444, 1, 2445, 2446, 246, 916, 2447, 7, 1229, 1, 760, 23, 325, 8, 30, 281, 150, 1172, 20, 1230, 140, 49, 20, 39, 70, 147, 144, 64, 32, 1231, 84, 18, 1, 538, 2448, 2449, 1232, 37, 8, 2450, 1, 2, 2451, 22, 305, 11, 16, 14, 18, 1, 53, 2452, 17, 254, 15, 467, 93, 10, 39, 1, 18, 32, 66, 12, 268, 44, 42, 188, 783, 46, 2453, 474, 3, 273, 248, 164, 1, 104, 35, 50, 482, 69, 30, 568, 2454, 276, 151, 10, 2, 114, 5, 182, 21, 15, 87, 259, 500, 307, 2455, 1, 1233, 502, 2456, 150, 189, 29, 25, 152, 349, 4, 2457, 113, 165, 208, 37, 38, 12, 359, 5, 2458, 14, 102, 2459, 1218, 2460, 498, 1033, 54, 58, 68, 2461, 14, 43, 170, 1, 3, 41, 73, 1234, 17, 278, 10, 3, 2462, 242, 1092, 2, 283, 4, 133, 38, 59, 234, 37, 1, 4, 358, 384, 2463, 501, 18, 4, 7, 2464, 1, 31, 2465, 12, 2466, 17, 129, 40, 637, 14, 2, 1235, 196, 2467, 14, 18, 49, 254, 582, 4, 7, 805, 327, 74, 30, 180, 380, 120, 20, 6, 2468, 144, 47, 231, 61, 100, 1, 68, 28, 191, 17, 73, 24, 192, 5, 6, 181, 82, 2, 427, 785, 10, 577, 28, 448, 18, 2469, 16, 653, 33, 7, 47, 2470, 1, 1236, 18, 97, 428, 54, 2471, 16, 536, 75, 2, 276, 2472, 226, 45, 2, 216, 59, 29, 15, 201, 196, 327, 6, 83, 146, 6, 216, 42, 3, 58, 114, 33, 7, 453, 22, 34, 16, 416, 138, 291, 20, 50, 9, 56, 105, 18, 3, 1237, 9, 120, 27, 269, 30, 285, 93, 2473, 1, 3, 19, 558, 4, 13, 47, 36, 44, 24, 44, 28, 60, 2474, 29, 409, 77, 11, 62, 2475, 61, 217, 14, 80, 67, 962, 162, 39, 127, 654, 50, 20, 53, 15, 38, 12, 2476, 18, 14, 7, 2477, 73, 521, 553, 1176, 4, 683, 1, 15, 22, 40, 1238, 98, 5, 6, 1239, 5, 224, 10, 2, 173, 2478, 5, 2, 312, 3, 66, 2, 1240, 5, 137, 2479, 1, 1241, 126, 1, 33, 7, 118, 63, 3, 23, 2480, 21, 86, 379, 5, 278, 102, 200, 20, 2481, 15, 2482, 1055, 42, 177, 26, 2483, 238, 42, 2484, 39, 79, 11, 6, 2485, 118, 88, 867, 164, 2, 65, 2, 1099, 3, 57, 2486, 44, 2487, 52, 2488, 1, 2, 2489, 216, 5, 2490, 122, 811, 20, 25, 23, 296, 1, 1100, 15, 187, 39, 19, 2491, 20, 407, 50, 8, 43, 145, 1, 153, 1, 478, 7, 1242, 2492, 22, 40, 10, 2493, 2494, 451, 15, 1243, 247, 75, 7, 530, 78, 78, 18, 66, 12, 1, 100, 4, 86, 43, 2495, 69, 59, 11, 618, 25, 21, 11, 54, 26, 2496, 161, 9, 7, 982, 3, 19, 569, 31, 7, 159, 1244, 217, 14, 2, 179, 1, 2497, 80, 1106, 2498, 69, 986, 8, 6, 338, 58, 2499, 181, 39, 99, 115, 71, 498, 653, 19, 362, 37, 14, 12, 10, 76, 79, 81, 15, 53, 1, 10, 25, 101, 29, 674, 1, 229, 7, 153, 3, 34, 16, 67, 421, 75, 23, 7, 376, 21, 1241, 87, 5, 283, 2, 1245, 2500, 33, 110, 6, 132, 349, 10, 2, 2501, 114, 122, 2502, 8, 192, 4, 192, 52, 1086, 112, 93, 243, 15, 9, 99, 633, 35, 2, 2503, 5, 2, 141, 225, 58, 121, 2504, 52, 868, 19, 2505, 25, 2506, 22, 127, 567, 46, 17, 120, 21, 63, 48, 2507, 5, 1246, 95, 95, 65, 21, 25, 42, 58, 3, 113, 2508, 69, 9, 127, 221, 140, 4, 2, 497, 15, 22, 2509, 44, 2, 397, 285, 1175, 42, 655, 1247, 32, 253, 6, 2510, 1248, 3, 34, 104, 35, 6, 780, 74, 181, 539, 3, 57, 5, 2, 2511, 2512, 31, 56, 311, 271, 1249, 14, 28, 422, 4, 24, 546, 17, 3, 27, 16, 67, 17, 6, 2513, 17, 61, 2514, 37, 20, 28, 516, 44, 756, 2515, 38, 143, 15, 12, 21, 4, 66, 2, 403, 10, 2516, 3, 733, 106, 25, 2517, 17, 1250, 320, 28, 781, 2518, 10, 265, 142, 656, 2, 2519, 25, 97, 19, 137, 300, 44, 1251, 517, 46, 2, 915, 655, 85, 237, 5, 2520, 178, 31, 1159, 2, 2521, 213, 502, 143, 869, 390, 3, 57, 998, 51, 138, 623, 47, 2, 285, 975, 14, 37, 870, 3, 19, 14, 2, 2522, 195, 251, 22, 55, 50, 47, 1, 2523, 2524, 342, 412, 26, 11, 233, 13, 118, 129, 624, 728, 2, 2525, 2526, 240, 46, 2, 123, 806, 1, 45, 67, 505, 56, 3, 57, 349, 6, 101, 15, 414, 54, 58, 614, 4, 285, 833, 74, 7, 36, 22, 21, 7, 2527, 1230, 63, 2, 871, 5, 2, 1013, 187, 178, 67, 12, 21, 375, 2528, 15, 39, 19, 2529, 4, 2530, 28, 339, 3, 130, 39, 597, 623, 183, 38, 22, 82, 1252, 410, 1253, 205, 3, 175, 27, 254, 2531, 10, 55, 907, 98, 38, 31, 7, 2532, 2533, 2, 2534, 5, 1034, 1, 15, 12, 203, 307, 25, 152, 274, 47, 8, 30, 794, 85, 73, 30, 159, 46, 2, 1210, 5, 28, 216, 38, 26, 412, 967, 35, 107, 44, 2, 1192, 92, 2535, 1254, 1, 2536, 5, 2537, 129, 7, 36, 9, 34, 68, 9, 62, 4, 2538, 556, 3, 645, 35, 76, 2539, 17, 9, 10, 19, 28, 2540, 289, 24, 101, 111, 41, 23, 588, 872, 2541, 2542, 224, 4, 23, 873, 54, 32, 16, 362, 1, 2543, 24, 818, 4, 2544, 37, 10, 2545, 3, 4, 186, 16, 2, 93, 4, 1255, 6, 2546, 24, 126, 2547, 18, 34, 508, 25, 2548, 20, 52, 786, 15, 78, 2549, 31, 2, 145, 5, 24, 48, 138, 2550, 94, 2551, 5, 762, 2552, 2553, 1256, 17, 61, 66, 1, 82, 695, 28, 4, 96, 10, 31, 24, 401, 251, 56, 11, 34, 104, 71, 10, 23, 283, 8, 108, 874, 2554, 1, 3, 1257, 859, 3, 695, 7, 1178, 1, 1258, 8, 31, 2, 555, 5, 13, 2555, 327, 168, 3, 57, 45, 675, 1, 3, 27, 500, 60, 7, 125, 8, 423, 926, 1, 23, 2556, 403, 22, 334, 31, 87, 3, 83, 11, 2557, 36, 38, 833, 10, 31, 24, 802, 196, 3, 19, 59, 257, 12, 17, 59, 29, 173, 33, 31, 2558, 2559, 20, 2560, 15, 875, 611, 27, 172, 302, 68, 6, 2561, 14, 1158, 1, 2562, 343, 23, 2563, 630, 2564, 299, 490, 9, 172, 2, 2565, 72, 259, 2566, 2567, 825, 1259, 28, 525, 120, 31, 1199, 61, 136, 9, 29, 1, 28, 2568, 574, 38, 26, 2569, 18, 84, 43, 231, 1, 606, 31, 2, 876, 5, 86, 2570, 6, 2571, 210, 1021, 72, 1163, 36, 683, 792, 185, 1260, 337, 13, 2572, 115, 9, 655, 6, 877, 2573, 33, 10, 228, 75, 13, 2574, 62, 328, 2575, 4, 123, 2576, 2577, 7, 1261, 84, 2, 2578, 10, 711, 172, 6, 666, 17, 99, 22, 842, 4, 723, 24, 110, 4, 2579, 878, 13, 1058, 114, 248, 326, 15, 178, 763, 3, 66, 28, 2580, 112, 15, 46, 30, 687, 17, 2, 803, 5, 2, 141, 497, 83, 8, 6, 515, 215, 300, 44, 50, 398, 53, 120, 310, 11, 2581, 5, 28, 3, 27, 70, 20, 837, 22, 46, 2582, 75, 1206, 107, 21, 2583, 2584, 69, 58, 3, 16, 2585, 23, 72, 801, 2586, 46, 2, 2587, 10, 2588, 109, 10, 139, 371, 2589, 21, 2, 2590, 10, 3, 57, 2591, 30, 550, 334, 4, 233, 28, 141, 574, 202, 6, 2592, 81, 2593, 558, 8, 1031, 2594, 179, 276, 2595, 17, 213, 1205, 65, 2596, 111, 23, 2597, 7, 36, 3, 161, 1, 96, 4, 288, 97, 452, 27, 16, 2598, 1, 42, 21, 12, 79, 402, 2599, 1238, 135, 8, 50, 2600, 2601, 33, 23, 262, 817, 78, 18, 16, 509, 2602, 161, 9, 19, 7, 147, 60, 7, 841, 81, 6, 2603, 1, 2604, 111, 2, 231, 5, 2605, 1188, 5, 7, 193, 74, 3, 58, 4, 101, 43, 423, 185, 2606, 1, 56, 14, 23, 669, 170, 8, 30, 47, 554, 10, 9, 79, 86, 1262, 767, 45, 47, 156, 394, 38, 9, 83, 6, 668, 36, 5, 13, 1263, 10, 2, 873, 93, 190, 81, 235, 48, 202, 28, 657, 14, 28, 2607, 400, 3, 130, 2, 249, 310, 106, 2608, 46, 50, 51, 169, 378, 3, 273, 728, 2609, 246, 2610, 2611, 46, 2, 426, 51, 169, 378, 11, 10, 17, 6, 114, 293, 59, 27, 41, 225, 2612, 405, 48, 49, 7, 47, 36, 5, 163, 20, 69, 2, 309, 242, 2613, 372, 9, 99, 2614, 2615, 19, 1264, 84, 13, 109, 17, 22, 2616, 549, 15, 2617, 7, 2618, 3, 41, 579, 52, 193, 4, 2619, 2, 344, 1, 2620, 5, 114, 4, 468, 1, 282, 2621, 202, 37, 307, 2622, 17, 20, 139, 109, 27, 109, 14, 2623, 538, 4, 151, 388, 17, 2624, 44, 2, 1212, 69, 22, 305, 968, 4, 7, 1112, 489, 2625, 1, 2626, 494, 13, 2627, 484, 1, 8, 2, 2628, 443, 61, 41, 44, 2629, 338, 112, 14, 2630, 2631, 2, 47, 59, 32, 16, 796, 471, 53, 135, 9, 632, 4, 677, 23, 348, 223, 4, 3, 17, 48, 216, 250, 1265, 211, 1, 116, 110, 31, 3, 19, 2632, 1, 20, 1266, 27, 2633, 2, 1267, 779, 3, 19, 83, 2, 2634, 5, 71, 1, 733, 4, 18, 4, 2635, 28, 14, 656, 51, 879, 2636, 6, 2637, 560, 127, 765, 120, 158, 13, 391, 2638, 453, 420, 7, 2639, 135, 44, 80, 2640, 249, 292, 1030, 9, 29, 4, 727, 2, 650, 93, 331, 9, 58, 16, 14, 2, 188, 2641, 19, 3, 11, 1268, 77, 191, 25, 1264, 8, 24, 2642, 553, 880, 6, 76, 17, 3, 127, 41, 12, 4, 19, 12, 119, 823, 597, 610, 7, 197, 2643, 1, 2644, 252, 12, 845, 20, 559, 2645, 1177, 15, 54, 387, 49, 4, 191, 52, 2646, 8, 12, 329, 6, 2647, 8, 30, 187, 17, 42, 21, 23, 2648, 1, 6, 47, 2649, 27, 66, 2650, 71, 64, 30, 267, 446, 667, 107, 463, 37, 103, 4, 487, 17, 61, 675, 12, 64, 386, 80, 339, 25, 388, 10, 12, 711, 33, 2, 2651, 38, 415, 100, 11, 53, 1269, 15, 7, 2652, 122, 7, 36, 217, 98, 8, 6, 1233, 2653, 78, 71, 1028, 738, 20, 2, 165, 1, 713, 184, 414, 448, 13, 126, 1, 744, 4, 2654, 10, 2655, 71, 128, 270, 42, 301, 26, 56, 19, 63, 232, 89, 124, 2656, 615, 20, 207, 296, 29, 2, 469, 2657, 174, 193, 1, 98, 5, 35, 227, 965, 53, 7, 47, 36, 233, 37, 11, 999, 85, 49, 129, 6, 2658, 27, 316, 89, 881, 5, 2659, 2660, 277, 1, 417, 1, 41, 751, 386, 556, 349, 5, 2661, 8, 2662, 1, 200, 19, 2663, 177, 31, 17, 1223, 924, 1138, 3, 57, 11, 1270, 118, 123, 408, 1039, 20, 28, 64, 2, 882, 2664, 3, 2665, 7, 2666, 12, 2667, 18, 5, 12, 1234, 16, 2668, 828, 8, 2669, 109, 1, 440, 4, 9, 2670, 437, 73, 37, 6, 2671, 2672, 1, 2673, 207, 153, 11, 6, 2674, 128, 3, 58, 11, 16, 3, 411, 69, 6, 613, 79, 11, 92, 277, 8, 2675, 414, 17, 346, 2, 2676, 5, 2677, 33, 24, 2678, 1271, 33, 31, 2679, 402, 197, 59, 673, 65, 29, 581, 14, 1272, 7, 174, 64, 449, 54, 2, 2680, 44, 2681, 2682, 29, 2683, 768, 1, 7, 2684, 17, 3, 77, 1273, 37, 44, 2, 2685, 1173, 1274, 9, 63, 42, 72, 32, 62, 4, 1275, 2686, 78, 28, 64, 2687, 551, 211, 145, 168, 26, 160, 517, 33, 2688, 1276, 304, 4, 513, 9, 1, 3, 66, 2, 114, 22, 23, 51, 169, 378, 38, 22, 82, 48, 2, 106, 533, 1277, 13, 866, 67, 75, 301, 26, 535, 105, 13, 219, 1278, 4, 28, 862, 121, 626, 18, 7, 36, 863, 307, 2689, 4, 66, 35, 7, 36, 1074, 45, 3, 489, 2690, 4, 2, 2691, 42, 2692, 2693, 45, 3, 40, 6, 345, 1, 735, 3, 34, 94, 14, 43, 2694, 10, 32, 11, 1279, 112, 4, 41, 140, 26, 491, 5, 812, 98, 5, 28, 187, 7, 123, 1066, 13, 2695, 29, 2696, 8, 28, 2697, 217, 33, 7, 156, 7, 332, 603, 53, 2698, 255, 7, 36, 9, 19, 164, 31, 10, 9, 34, 16, 13, 125, 99, 645, 6, 145, 75, 59, 41, 2699, 366, 69, 9, 96, 1269, 130, 21, 2700, 3, 34, 269, 18, 20, 6, 864, 69, 22, 79, 20, 47, 51, 328, 57, 3, 369, 237, 5, 1256, 519, 1, 123, 20, 2701, 4, 2702, 52, 2703, 5, 110, 8, 97, 282, 31, 1, 9, 19, 2704, 6, 370, 271, 12, 60, 212, 345, 7, 2705, 2706, 78, 2707, 2708, 971, 10, 757, 18, 2709, 36, 2710, 61, 100, 14, 37, 7, 36, 1, 63, 16, 20, 2, 396, 3, 41, 883, 45, 296, 424, 3, 27, 11, 89, 2, 2711, 46, 2, 2712, 129, 2713, 386, 56, 40, 1171, 53, 759, 42, 252, 9, 11, 7, 148, 91, 243, 28, 476, 255, 9, 19, 146, 630, 1, 884, 4, 2, 2714, 5, 43, 2715, 10, 22, 1279, 13, 853, 1, 101, 33, 28, 117, 171, 542, 2716, 2, 223, 157, 1048, 2717, 330, 8, 559, 1280, 2718, 1, 177, 847, 507, 870, 78, 18, 70, 1281, 32, 16, 102, 124, 2719, 2720, 834, 33, 13, 865, 9, 19, 2721, 18, 49, 8, 35, 617, 3, 34, 3, 73, 2722, 1282, 14, 37, 356, 918, 29, 338, 4, 538, 26, 133, 38, 7, 874, 487, 234, 4, 2, 885, 2723, 7, 570, 15, 3, 41, 217, 115, 2, 1283, 27, 9, 19, 7, 854, 40, 15, 6, 2724, 1284, 395, 13, 639, 21, 2725, 10, 5, 642, 469, 110, 70, 2726, 28, 804, 2727, 24, 2728, 2729, 2730, 103, 43, 996, 17, 2731, 121, 70, 39, 60, 2732, 135, 9, 1, 27, 3, 254, 1029, 138, 97, 296, 21, 2733, 20, 23, 303, 147, 2734, 46, 2735, 30, 2736, 5, 595, 8, 2737, 324, 400, 8, 477, 822, 2738, 139, 2739, 481, 2740, 14, 102, 86, 2741, 174, 2742, 2, 101, 77, 258, 1, 16, 25, 425, 3, 216, 41, 2743, 3, 1182, 224, 6, 679, 4, 1252, 103, 13, 2744, 8, 2, 2745, 9, 32, 269, 37, 12, 2746, 12, 75, 6, 213, 1280, 4, 70, 415, 7, 36, 13, 1284, 3, 34, 25, 2747, 5, 1262, 446, 1, 61, 104, 124, 1, 2748, 246, 7, 1285, 150, 11, 97, 54, 2749, 18, 8, 7, 2750, 2751, 42, 54, 21, 2752, 113, 231, 5, 18, 498, 25, 2753, 15, 2, 426, 969, 29, 850, 160, 2754, 83, 103, 9, 875, 10, 12, 21, 773, 2755, 8, 6, 574, 304, 143, 135, 3, 27, 210, 1, 468, 12, 103, 142, 144, 875, 95, 184, 106, 1286, 2756, 12, 21, 46, 23, 1221, 1193, 470, 149, 100, 398, 12, 58, 16, 1088, 7, 36, 2, 464, 2757, 44, 7, 183, 26, 2758, 45, 2759, 558, 1, 886, 161, 9, 8, 2760, 486, 8, 588, 2761, 181, 322, 3, 27, 887, 2762, 78, 18, 66, 7, 36, 48, 2763, 869, 298, 243, 178, 2764, 1282, 41, 89, 881, 448, 28, 4, 25, 7, 290, 2765, 141, 53, 7, 36, 42, 29, 9, 45, 3, 19, 146, 207, 848, 9, 29, 515, 215, 2766, 26, 2767, 85, 49, 2768, 69, 3, 19, 1, 493, 71, 2, 769, 1, 616, 9, 8, 30, 788, 17, 6, 21, 6, 821, 84, 7, 153, 9, 34, 1287, 53, 238, 2769, 129, 42, 1004, 2770, 168, 212, 635, 4, 139, 601, 2771, 286, 5, 101, 23, 379, 19, 934, 98, 5, 13, 145, 8, 24, 466, 8, 80, 2772, 25, 1, 8, 2, 882, 886, 5, 2, 441, 5, 12, 22, 186, 1288, 9, 220, 24, 2773, 1, 389, 22, 58, 254, 12, 111, 888, 78, 24, 51, 122, 66, 1, 74, 504, 128, 1, 25, 316, 723, 58, 16, 2774, 878, 108, 76, 15, 59, 29, 531, 33, 280, 107, 55, 415, 417, 4, 2775, 2776, 10, 288, 19, 47, 10, 993, 884, 20, 72, 2777, 98, 84, 520, 92, 2778, 771, 727, 13, 2779, 67, 4, 2780, 889, 4, 13, 2781, 1289, 28, 166, 20, 1220, 2782, 10, 3, 32, 510, 7, 1050, 22, 32, 16, 2783, 1, 247, 130, 120, 21, 52, 2784, 29, 133, 59, 73, 202, 80, 2785, 316, 89, 9, 83, 609, 207, 153, 20, 24, 2786, 750, 17, 346, 84, 7, 162, 182, 143, 309, 253, 6, 209, 93, 450, 33, 199, 7, 36, 3, 27, 424, 12, 21, 482, 17, 11, 2787, 141, 807, 2788, 17, 32, 3, 275, 13, 731, 2789, 44, 13, 222, 2790, 28, 5, 18, 472, 420, 2, 632, 1, 2791, 30, 348, 180, 1, 4, 18, 85, 49, 64, 499, 63, 12, 747, 31, 890, 2792, 5, 455, 871, 5, 2, 793, 294, 2793, 286, 14, 42, 2794, 2795, 109, 7, 36, 52, 2796, 29, 31, 61, 517, 43, 281, 4, 1290, 182, 143, 4, 68, 18, 221, 8, 2, 141, 710, 1, 4, 253, 2797, 4, 335, 2798, 14, 23, 15, 28, 603, 60, 28, 1278, 390, 38, 12, 2799, 4, 188, 13, 644, 10, 19, 569, 2, 1291, 354, 5, 13, 209, 17, 88, 265, 9, 10, 2800, 2801, 56, 4, 62, 63, 299, 45, 195, 65, 4, 68, 2802, 168, 52, 151, 46, 2, 403, 360, 6, 709, 1, 7, 231, 1, 172, 2, 165, 1, 8, 47, 339, 2803, 25, 32, 45, 67, 6, 2804, 5, 7, 1203, 98, 5, 24, 2805, 1076, 881, 86, 9, 288, 740, 13, 125, 14, 9, 4, 2806, 60, 1292, 2807, 16, 155, 81, 168, 87, 251, 2, 701, 19, 3, 2808, 309, 2809, 54, 83, 428, 4, 62, 208, 18, 38, 26, 2810, 8, 23, 2811, 2812, 3, 35, 41, 481, 46, 2, 2813, 2814, 414, 5, 685, 8, 24, 17, 88, 3, 58, 16, 886, 1, 14, 12, 22, 21, 189, 20, 175, 4, 19, 6, 365, 10, 262, 60, 23, 205, 260, 265, 8, 30, 658, 141, 1227, 6, 798, 989, 2815, 1012, 2816, 14, 2817, 113, 11, 119, 939, 8, 30, 447, 1, 286, 60, 2, 2818, 5, 23, 173, 312, 45, 388, 32, 11, 62, 1, 1209, 80, 942, 659, 20, 134, 152, 393, 188, 32, 813, 61, 44, 2, 2819, 5, 31, 2, 874, 97, 662, 2820, 4, 30, 712, 19, 11, 239, 63, 3, 206, 2821, 14, 102, 6, 2822, 87, 33, 2823, 128, 270, 26, 2824, 4, 1293, 45, 49, 28, 147, 55, 119, 917, 115, 224, 65, 63, 55, 1294, 5, 82, 628, 479, 30, 860, 73, 3, 27, 70, 891, 14, 540, 51, 465, 6, 2825, 2826, 949, 1295, 12, 127, 2827, 342, 42, 55, 102, 6, 658, 10, 26, 131, 2828, 688, 194, 62, 302, 31, 7, 114, 56, 26, 167, 321, 259, 6, 2829, 1, 8, 2830, 75, 3, 27, 89, 168, 247, 75, 16, 2831, 43, 187, 8, 2832, 132, 4, 28, 2833, 20, 2834, 39, 2835, 1, 104, 103, 44, 2, 2836, 722, 31, 2, 1296, 5, 2837, 5, 9, 34, 3, 82, 2838, 12, 15, 3, 1242, 4, 601, 5, 2, 2839, 327, 1297, 2840, 325, 2841, 7, 210, 1, 11, 5, 2842, 2843, 1, 225, 2844, 203, 28, 148, 121, 57, 3, 320, 30, 125, 4, 1288, 7, 2845, 15, 2846, 481, 33, 1293, 40, 2847, 5, 2848, 4, 654, 50, 60, 2, 126, 849, 1, 561, 576, 18, 8, 6, 190, 4, 233, 6, 399, 46, 892, 3, 83, 1298, 4, 2849, 84, 13, 72, 867, 2850, 595, 13, 2851, 2852, 31, 2, 2853, 49, 3, 2854, 9, 14, 2855, 4, 110, 4, 3, 1, 2856, 30, 2857, 39, 19, 155, 2858, 4, 41, 15, 9, 32, 866, 1139, 1, 69, 22, 334, 17, 3, 57, 219, 3, 57, 53, 2859, 108, 296, 4, 68, 37, 1299, 10, 8, 2, 648, 58, 133, 3, 217, 229, 7, 396, 529, 62, 36, 163, 4, 16, 112, 1237, 13, 2860, 45, 236, 2861, 63, 8, 13, 118, 10, 131, 2862, 4, 11, 501, 9, 32, 16, 13, 180, 9, 29, 810, 30, 2863, 25, 9, 2864, 91, 450, 880, 2865, 625, 326, 318, 9, 166, 4, 891, 2866, 60, 2, 2867, 1, 89, 18, 341, 39, 32, 2868, 34, 247, 114, 248, 85, 206, 59, 53, 484, 937, 22, 334, 45, 2869, 17, 2870, 607, 66, 451, 121, 89, 6, 1300, 4, 6, 2871, 226, 22, 55, 321, 2872, 1, 49, 39, 99, 8, 18, 177, 16, 2873, 4, 31, 7, 357, 5, 166, 85, 49, 426, 101, 42, 685, 1229, 24, 1247, 41, 9, 691, 13, 125, 394, 48, 3, 27, 484, 2874, 30, 170, 38, 137, 1290, 16, 843, 98, 14, 980, 2875, 41, 11, 9, 816, 2, 2876, 1, 260, 25, 6, 72, 8, 2, 2877, 17, 173, 2878, 9, 257, 13, 456, 40, 10, 2879, 20, 6, 2880, 5, 13, 231, 182, 143, 149, 113, 2, 421, 671, 5, 43, 2881, 313, 8, 1098, 20, 6, 213, 303, 2882, 1, 14, 52, 148, 27, 602, 7, 153, 4, 2883, 70, 859, 4, 66, 41, 11, 2884, 18, 19, 3, 362, 12, 64, 3, 5, 12, 99, 16, 14, 1301, 10, 49, 45, 2885, 82, 304, 20, 31, 7, 2886, 349, 17, 58, 16, 63, 1, 42, 6, 724, 648, 1302, 3, 57, 459, 4, 151, 31, 2, 449, 4, 269, 13, 159, 1, 8, 2887, 1213, 46, 23, 1161, 65, 49, 34, 19, 45, 222, 1303, 1304, 28, 742, 17, 15, 6, 1266, 15, 3, 82, 49, 1265, 26, 2888, 10, 565, 193, 8, 6, 687, 4, 100, 20, 9, 74, 229, 12, 2889, 4, 13, 1296, 1, 2890, 112, 2891, 1, 127, 13, 343, 446, 63, 226, 375, 364, 22, 352, 11, 10, 513, 2892, 44, 2, 188, 5, 51, 25, 2893, 218, 53, 311, 4, 50, 98, 52, 664, 23, 2894, 29, 11, 1111, 20, 2895, 9, 29, 511, 8, 123, 281, 5, 2896, 8, 1130, 182, 143, 2897, 15, 41, 2898, 7, 36, 3, 257, 9, 27, 696, 234, 9, 32, 269, 513, 22, 638, 4, 872, 17, 88, 22, 55, 28, 118, 1257, 14, 2, 343, 2899, 85, 1291, 2900, 13, 348, 442, 2901, 15, 2902, 2903, 1, 614, 627, 17, 869, 95, 27, 9, 499, 6, 694, 329, 624, 97, 891, 368, 86, 153, 323, 2904, 2905, 53, 82, 9, 66, 2, 2906, 2907, 20, 30, 162, 250, 232, 149, 392, 1, 8, 87, 2908, 10, 2909, 4, 19, 67, 732, 1302, 16, 26, 15, 3, 57, 274, 61, 8, 410, 3, 41, 342, 178, 657, 48, 22, 21, 2910, 483, 4, 2, 2911, 75, 13, 132, 34, 3, 96, 157, 328, 29, 846, 17, 33, 80, 76, 2912, 466, 45, 67, 75, 604, 3, 177, 11, 48, 42, 127, 2, 90, 5, 264, 34, 293, 31, 92, 266, 16, 152, 22, 454, 7, 256, 8, 474, 2913, 42, 6, 156, 111, 2914, 18, 194, 3, 34, 26, 412, 136, 18, 17, 773, 500, 37, 8, 80, 632, 323, 6, 47, 196, 589, 28, 105, 9, 38, 59, 24, 2915, 10, 27, 136, 43, 93, 101, 65, 49, 23, 117, 200, 82, 646, 20, 2916, 44, 43, 2917, 1, 245, 28, 17, 157, 2, 2918, 492, 25, 127, 1305, 15, 1306, 15, 2, 503, 1307, 2919, 2920, 191, 41, 37, 15, 22, 690, 637, 1, 893, 4, 2921, 175, 20, 56, 4, 233, 23, 235, 4, 72, 24, 126, 75, 22, 305, 499, 50, 119, 797, 1, 8, 6, 2922, 64, 150, 122, 11, 242, 38, 26, 167, 11, 146, 454, 175, 15, 573, 2923, 1248, 2924, 1, 65, 3, 99, 15, 133, 3, 99, 2925, 506, 12, 77, 234, 2926, 60, 593, 2927, 20, 7, 147, 867, 11, 293, 43, 2928, 1, 59, 122, 105, 9, 4, 1308, 278, 1295, 1, 2929, 21, 2930, 4, 24, 5, 157, 22, 373, 45, 715, 1, 2, 1309, 157, 81, 92, 343, 15, 93, 54, 454, 8, 440, 26, 131, 220, 289, 839, 92, 763, 1310, 8, 50, 417, 10, 164, 116, 2931, 7, 452, 14, 28, 17, 2, 309, 1, 2932, 25, 1065, 8, 30, 180, 60, 6, 213, 2933, 3, 362, 12, 4, 23, 193, 1, 87, 2934, 111, 512, 28, 359, 1, 313, 23, 249, 8, 2935, 583, 54, 21, 7, 876, 1, 108, 213, 721, 4, 68, 35, 1311, 60, 2, 2936, 20, 52, 560, 1, 339, 38, 22, 79, 429, 12, 26, 1, 631, 1, 2937, 592, 139, 529, 893, 79, 56, 26, 301, 12, 274, 75, 2938, 373, 202, 6, 212, 2939, 197, 9, 96, 81, 6, 116, 702, 176, 2940, 79, 2941, 5, 137, 2942, 475, 1, 42, 9, 19, 2, 65, 126, 1270, 5, 2, 1042, 32, 19, 25, 19, 3, 11, 1035, 103, 4, 100, 420, 7, 235, 6, 877, 145, 96, 69, 3, 884, 1197, 89, 259, 2, 2943, 5, 2944, 1118, 53, 73, 341, 71, 6, 410, 16, 237, 5, 153, 2945, 37, 44, 2, 2946, 33, 2947, 1, 33, 7, 770, 5, 30, 2948, 6, 2949, 79, 11, 25, 152, 7, 36, 25, 2950, 15, 306, 25, 91, 608, 2951, 22, 310, 45, 179, 210, 121, 97, 231, 372, 70, 9, 29, 119, 2952, 23, 2953, 364, 149, 150, 1312, 539, 5, 2954, 53, 104, 37, 578, 8, 52, 2955, 2956, 22, 21, 11, 88, 1010, 5, 108, 276, 374, 183, 95, 368, 29, 9, 2957, 416, 241, 1313, 627, 60, 80, 29, 3, 27, 221, 14, 1276, 163, 195, 2958, 24, 97, 2959, 5, 109, 27, 191, 1314, 100, 12, 1, 4, 68, 7, 1126, 5, 927, 2960, 416, 2961, 489, 6, 433, 2962, 5, 13, 117, 1087, 1271, 84, 7, 141, 1315, 1, 235, 172, 4, 68, 35, 189, 90, 272, 1236, 12, 361, 2963, 4, 1287, 1078, 10, 55, 45, 514, 8, 2964, 612, 103, 5, 2965, 10, 1200, 43, 2966, 377, 746, 2967, 25, 79, 2968, 30, 147, 1, 2969, 2970, 55, 1294, 215, 2971, 492, 36, 306, 8, 2, 2972, 65, 2973, 144, 175, 4, 1316, 25, 2974, 863, 7, 36, 61, 89, 28, 613, 8, 30, 2975, 1, 2, 2976, 5, 92, 165, 122, 41, 7, 286, 63, 22, 305, 457, 28, 1317, 18, 242, 183, 168, 39, 29, 123, 93, 36, 95, 7, 36, 29, 26, 30, 543, 1, 2977, 47, 248, 618, 792, 214, 85, 201, 824, 22, 646, 90, 272, 42, 9, 32, 7, 36, 1, 9, 99, 6, 840, 295, 9, 19, 67, 2978, 37, 10, 370, 1, 955, 21, 7, 106, 864, 1, 11, 686, 1, 134, 2979, 60, 2980, 1277, 18, 103, 2, 223, 24, 21, 2, 737, 5, 296, 39, 34, 19, 543, 2981, 149, 6, 2982, 1041, 127, 7, 1123, 651, 11, 512, 37, 4, 35, 48, 584, 585, 607, 11, 253, 513, 1250, 2983, 84, 2, 2984, 235, 39, 34, 1318, 43, 822, 14, 28, 1, 105, 37, 752, 2985, 5, 7, 533, 2986, 62, 62, 738, 159, 2987, 15, 7, 408, 15, 22, 334, 49, 4, 71, 11, 15, 7, 2988, 55, 355, 15, 2989, 317, 34, 62, 590, 149, 10, 12, 653, 273, 18, 189, 105, 9, 24, 2990, 110, 49, 206, 202, 2, 2991, 51, 315, 2, 552, 5, 7, 242, 235, 84, 2, 1059, 31, 198, 2992, 23, 1134, 1, 81, 7, 118, 14, 102, 15, 604, 15, 3, 19, 2993, 159, 46, 18, 227, 3, 40, 1023, 4, 2, 2994, 5, 36, 15, 47, 2995, 103, 6, 159, 32, 19, 67, 5, 852, 4, 18, 576, 18, 6, 213, 526, 2996, 244, 43, 2997, 2998, 17, 137, 493, 136, 2, 116, 12, 2999, 1, 30, 1312, 3, 19, 333, 86, 1140, 516, 5, 3000, 93, 406, 33, 2, 344, 48, 22, 40, 3001, 1211, 17, 20, 2, 132, 97, 9, 77, 19, 18, 3002, 337, 2, 3003, 5, 23, 396, 3004, 4, 6, 1183, 14, 526, 1, 3005, 211, 13, 408, 43, 658, 17, 3, 130, 22, 34, 11, 275, 18, 46, 3006, 11, 81, 1254, 157, 1084, 7, 664, 122, 9, 58, 11, 311, 33, 262, 76, 20, 214, 14, 9, 1319, 765, 2, 639, 26, 131, 7, 3007, 625, 17, 3, 57, 13, 192, 27, 3, 8, 13, 873, 774, 70, 4, 59, 77, 16, 98, 5, 80, 303, 166, 3008, 15, 3, 49, 29, 94, 38, 3, 79, 155, 239, 55, 9, 45, 288, 15, 382, 25, 845, 415, 17, 178, 306, 266, 3009, 3, 130, 4, 885, 7, 348, 3010, 45, 759, 336, 3, 72, 45, 3011, 1195, 1167, 1, 87, 215, 3012, 34, 304, 4, 3013, 5, 222, 127, 3014, 11, 23, 3015, 276, 3016, 93, 36, 24, 73, 252, 361, 18, 4, 16, 7, 159, 1, 10, 54, 21, 1, 858, 152, 116, 818, 4, 1003, 203, 18, 3017, 3018, 113, 3019, 75, 2, 3020, 51, 315, 302, 546, 42, 1320, 3021, 5, 7, 145, 75, 65, 7, 170, 21, 164, 7, 36, 9, 77, 178, 6, 114, 1, 31, 52, 3022, 1321, 82, 567, 84, 43, 841, 150, 87, 3023, 1240, 744, 4, 89, 45, 497, 5, 1322, 45, 101, 47, 810, 38, 26, 3024, 6, 3025, 227, 85, 49, 462, 10, 3, 34, 68, 45, 404, 3026, 748, 76, 56, 322, 1, 70, 142, 4, 346, 18, 3027, 4, 13, 648, 8, 7, 371, 17, 612, 7, 384, 3028, 1323, 4, 3029, 54, 3030, 3031, 20, 3032, 8, 2, 850, 5, 7, 777, 3033, 149, 3034, 4, 9, 60, 13, 787, 342, 638, 3, 635, 206, 6, 3035, 1235, 3, 271, 35, 220, 22, 3036, 1, 3037, 3038, 20, 2, 461, 8, 199, 1, 42, 39, 3039, 208, 18, 1, 24, 857, 5, 1324, 3040, 140, 46, 80, 3041, 5, 2, 266, 31, 3042, 757, 18, 4, 851, 575, 5, 12, 1, 3, 57, 3043, 20, 12, 699, 3044, 853, 1, 106, 3045, 1, 718, 84, 2, 1005, 300, 631, 6, 1216, 7, 1325, 1145, 1, 393, 3046, 3047, 24, 21, 3048, 3049, 40, 24, 2, 708, 10, 29, 581, 7, 3050, 17, 4, 2, 1326, 21, 3051, 23, 296, 6, 659, 10, 40, 3052, 44, 466, 120, 3053, 3054, 44, 2, 3055, 76, 49, 542, 104, 103, 7, 145, 342, 73, 92, 140, 523, 11, 53, 64, 16, 45, 94, 8, 2, 3056, 230, 8, 419, 527, 132, 1, 2, 3057, 614, 54, 40, 4, 191, 2, 3058, 500, 5, 30, 379, 10, 724, 3059, 5, 831, 12, 21, 3060, 7, 268, 39, 32, 11, 3, 549, 3061, 3062, 41, 181, 1317, 80, 700, 65, 40, 11, 3063, 17, 134, 247, 3, 96, 69, 488, 1, 383, 689, 2, 65, 13, 830, 8, 7, 209, 69, 54, 111, 11, 35, 157, 22, 55, 3064, 13, 472, 33, 894, 8, 2, 393, 455, 318, 3065, 2, 223, 202, 2, 830, 3066, 74, 303, 238, 93, 1327, 15, 2, 650, 3067, 38, 26, 11, 1204, 15, 178, 1328, 144, 6, 235, 1, 1329, 203, 18, 31, 20, 176, 12, 40, 1, 158, 28, 3068, 20, 116, 225, 226, 42, 21, 113, 67, 129, 59, 19, 158, 37, 47, 887, 649, 405, 48, 19, 3, 44, 7, 236, 1330, 392, 166, 1202, 1, 173, 236, 3, 66, 13, 279, 38, 9, 96, 71, 53, 539, 287, 113, 3069, 48, 3, 57, 11, 3070, 1, 3071, 262, 1027, 1, 25, 7, 432, 380, 6, 3072, 32, 16, 102, 15, 846, 4, 89, 7, 414, 651, 53, 3073, 115, 9, 41, 547, 9, 3074, 2, 90, 20, 710, 3075, 2, 3076, 3077, 4, 9, 8, 343, 226, 1133, 2, 51, 21, 595, 38, 1232, 198, 43, 371, 10, 12, 577, 220, 7, 94, 1263, 8, 3078, 5, 108, 3079, 23, 3080, 40, 856, 90, 272, 409, 6, 3081, 1, 106, 256, 85, 1053, 21, 6, 116, 267, 3082, 3, 34, 11, 3083, 832, 838, 1, 245, 7, 868, 22, 55, 203, 12, 15, 152, 2, 978, 5, 2, 340, 3084, 17, 158, 3, 858, 25, 4, 24, 391, 46, 56, 8, 109, 1331, 1, 176, 3, 68, 894, 3085, 14, 23, 205, 1, 138, 953, 148, 1, 49, 152, 212, 3086, 83, 518, 103, 3087, 3088, 3089, 2, 3090, 1, 181, 89, 71, 88, 14, 30, 381, 3091, 33, 199, 7, 36, 254, 14, 71, 65, 5, 3092, 40, 194, 144, 1075, 3093, 1, 10, 29, 630, 1, 3094, 8, 336, 3095, 21, 3096, 1, 1314, 26, 167, 3097, 18, 17, 6, 3098, 189, 302, 19, 318, 61, 734, 9, 8, 52, 861, 4, 1113, 4, 68, 28, 104, 2, 236, 1186, 12, 127, 3099, 1, 14, 2, 534, 5, 230, 104, 12, 3100, 20, 548, 40, 146, 164, 3, 158, 48, 45, 498, 25, 332, 4, 2, 876, 100, 84, 35, 194, 46, 243, 329, 61, 488, 9, 189, 226, 3, 130, 10, 39, 40, 81, 6, 1332, 9, 32, 221, 1, 49, 4, 304, 7, 246, 7, 72, 1, 3101, 3102, 64, 27, 9, 681, 67, 464, 128, 270, 95, 301, 26, 275, 2, 87, 10, 3, 34, 74, 90, 5, 3103, 182, 143, 92, 3104, 3105, 1132, 59, 34, 511, 16, 15, 108, 345, 8, 712, 60, 28, 72, 54, 82, 11, 69, 714, 69, 54, 3106, 44, 2, 1225, 17, 38, 39, 3107, 5, 2, 3108, 729, 29, 349, 4, 105, 8, 10, 3109, 122, 25, 19, 515, 24, 1105, 15, 47, 124, 117, 862, 783, 112, 135, 60, 2, 1305, 6, 1144, 3110, 4, 16, 67, 75, 482, 8, 2, 1083, 154, 5, 503, 3, 19, 3111, 17, 44, 12, 1026, 95, 373, 1, 11, 25, 462, 607, 16, 237, 5, 3112, 98, 5, 24, 132, 291, 3, 27, 3113, 24, 47, 1333, 1, 80, 172, 204, 17, 102, 6, 200, 19, 17, 86, 438, 3114, 4, 62, 4, 43, 148, 17, 31, 14, 2, 165, 3115, 1, 22, 32, 16, 164, 6, 1038, 312, 9, 174, 1189, 25, 491, 5, 812, 32, 39, 172, 2, 726, 3116, 149, 184, 3117, 1, 122, 9, 126, 50, 11, 78, 71, 417, 197, 3, 34, 4, 3118, 50, 82, 3119, 26, 167, 237, 195, 67, 3, 40, 87, 1334, 4, 18, 49, 12, 126, 3, 2, 1217, 895, 418, 34, 19, 30, 230, 31, 3120, 14, 72, 69, 3, 40, 333, 8, 201, 537, 4, 1308, 4, 89, 42, 59, 19, 1, 8, 199, 64, 102, 215, 476, 10, 3121, 2, 957, 180, 1, 43, 324, 127, 3, 1335, 23, 1336, 1, 3122, 2, 622, 17, 78, 18, 13, 3123, 46, 70, 33, 24, 3, 19, 549, 12, 98, 5, 4, 775, 10, 100, 4, 267, 250, 416, 443, 6, 430, 5, 13, 125, 3124, 113, 94, 1, 10, 3, 19, 17, 13, 126, 3125, 48, 5, 3126, 24, 3, 19, 274, 259, 24, 3127, 7, 36, 635, 3128, 10, 3129, 3130, 3131, 545, 753, 204, 1337, 4, 4, 1275, 79, 741, 400, 7, 131, 26, 63, 655, 262, 230, 698, 131, 26, 240, 4, 1201, 12, 445, 5, 163, 45, 3, 314, 1, 135, 14, 98, 13, 835, 3, 34, 3132, 11, 13, 1338, 6, 411, 54, 1251, 23, 3133, 1, 28, 375, 1107, 220, 3, 77, 16, 164, 17, 6, 251, 3134, 21, 59, 77, 11, 19, 23, 3135, 8, 7, 3136, 10, 1339, 7, 230, 46, 1011, 14, 6, 114, 146, 15, 201, 1249, 1340, 8, 6, 1336, 660, 41, 11, 1341, 81, 15, 10, 1, 467, 234, 1, 725, 902, 12, 25, 5, 10, 2, 330, 60, 1342, 21, 3137, 176, 781, 1160, 32, 311, 17, 7, 3138, 28, 16, 228, 660, 95, 258, 6, 156, 91, 36, 392, 36, 3139, 148, 184, 1333, 48, 584, 585, 42, 3140, 896, 94, 1, 25, 705, 8, 31, 2, 3141, 3142, 17, 129, 15, 3, 57, 15, 81, 4, 3143, 6, 486, 5, 199, 14, 3144, 1208, 51, 879, 889, 51, 522, 819, 106, 171, 3, 105, 9, 1, 4, 363, 13, 72, 360, 30, 483, 21, 201, 871, 573, 6, 67, 1094, 5, 200, 1, 3145, 168, 22, 83, 44, 28, 3146, 1, 661, 15, 3147, 5, 50, 7, 3148, 5, 143, 3149, 42, 10, 280, 24, 754, 660, 140, 49, 3150, 1320, 3151, 4, 6, 3152, 1, 3153, 80, 3154, 772, 1, 911, 65, 1289, 22, 122, 16, 521, 93, 3155, 3156, 3, 57, 5, 30, 958, 1, 197, 22, 32, 11, 483, 50, 98, 5, 613, 194, 39, 19, 402, 3157, 20, 17, 113, 11, 333, 6, 309, 45, 885, 525, 3158, 1135, 3159, 4, 13, 147, 1, 24, 7, 3160, 29, 11, 238, 61, 253, 12, 63, 21, 7, 317, 1, 49, 3161, 7, 159, 17, 155, 3162, 3163, 1, 97, 312, 1, 1071, 40, 3, 3164, 75, 7, 192, 22, 15, 3, 883, 13, 3165, 8, 2, 3166, 3167, 15, 9, 19, 3168, 49, 14, 151, 15, 3, 3169, 2, 3170, 656, 5, 13, 419, 3171, 194, 128, 627, 878, 25, 262, 75, 7, 3172, 3173, 1168, 1, 129, 169, 778, 26, 131, 3174, 7, 36, 1, 3175, 225, 160, 418, 6, 544, 72, 1, 283, 413, 3176, 39, 27, 15, 54, 58, 11, 105, 2, 488, 3177, 26, 77, 16, 3178, 4, 7, 492, 345, 22, 55, 760, 18, 33, 634, 68, 24, 861, 11, 1327, 2, 3179, 5, 23, 743, 182, 143, 95, 58, 9, 32, 136, 253, 2, 1343, 5, 13, 605, 1, 411, 826, 81, 132, 91, 36, 17, 130, 13, 550, 1, 1, 78, 18, 263, 35, 14, 37, 1, 16, 5, 102, 6, 3180, 3181, 3182, 1, 3183, 4, 71, 15, 3, 19, 1089, 2, 97, 1, 3184, 86, 514, 10, 407, 121, 39, 72, 2, 101, 10, 3185, 71, 64, 20, 120, 896, 3186, 8, 2, 3187, 611, 4, 135, 15, 909, 84, 12, 316, 74, 2, 827, 5, 903, 58, 4, 3188, 35, 1258, 33, 872, 1, 3189, 17, 104, 23, 444, 8, 14, 3190, 54, 12, 40, 11, 3191, 15, 53, 654, 14, 37, 1, 3192, 84, 35, 3, 40, 6, 98, 7, 118, 32, 3, 3193, 7, 1267, 25, 381, 14, 3194, 6, 205, 1155, 357, 17, 46, 7, 200, 135, 65, 569, 12, 8, 30, 3195, 1, 3196, 20, 3197, 11, 3198, 12, 523, 64, 62, 112, 51, 879, 42, 732, 59, 29, 1156, 889, 30, 516, 4, 1191, 16, 377, 4, 1307, 20, 144, 2, 165, 374, 183, 26, 3199, 4, 952, 2, 3200, 5, 24, 847, 51, 169, 378, 4, 191, 3, 57, 45, 303, 75, 2, 3201, 20, 12, 545, 88, 7, 1185, 211, 59, 233, 92, 583, 8, 344, 61, 105, 7, 615, 14, 30, 906, 1, 24, 1214, 34, 19, 50, 63, 3202, 1326, 1, 3, 27, 253, 12, 1334, 1, 33, 795, 3, 177, 27, 3203, 45, 3204, 213, 8, 2, 148, 5, 35, 1, 305, 883, 64, 306, 17, 20, 3205, 7, 736, 21, 206, 14, 23, 3206, 205, 51, 5, 1244, 14, 18, 62, 38, 26, 1097, 81, 3207, 3208, 12, 127, 66, 18, 3, 130, 3, 34, 4, 793, 37, 176, 3, 352, 18, 1, 73, 59, 122, 16, 814, 3209, 402, 2, 1344, 5, 92, 174, 1, 3210, 4, 311, 60, 2, 165, 90, 85, 49, 106, 693, 1335, 18, 17, 4, 2, 1286, 3211, 21, 119, 633, 42, 73, 13, 1261, 96, 9, 31, 3212, 625, 405, 4, 3213, 65, 9, 70, 192, 425, 3214, 51, 17, 263, 35, 88, 68, 3215, 3216, 4, 244, 14, 174, 1, 3217, 34, 3, 66, 20, 71, 82, 59, 29, 134, 1, 3218, 3219, 6, 578, 3220, 339, 25, 26, 3221, 1, 3222, 3223, 108, 266, 1, 640, 3224, 87, 215, 235, 59, 893, 20, 28, 4, 16, 7, 1344, 61, 451, 1, 964, 11, 100, 4, 9, 10, 12, 15, 17, 8, 43, 892, 79, 31, 2, 3225, 14, 540, 4, 3226, 52, 3227, 60, 3228, 55, 83, 6, 100, 5, 7, 159, 184, 156, 20, 10, 486, 65, 5, 18, 10, 9, 346, 17, 46, 124, 117, 3229, 134, 1, 88, 5, 836, 19, 355, 23, 868, 1, 3230, 14, 35, 42, 110, 32, 210, 32, 16, 50, 85, 4, 3231, 13, 338, 248, 292, 62, 62, 4, 386, 175, 1045, 49, 897, 3, 4, 16, 164, 93, 406, 140, 33, 337, 53, 19, 12, 1337, 60, 882, 15, 53, 517, 44, 124, 3232, 505, 38, 3, 311, 61, 62, 91, 36, 227, 3233, 39, 29, 119, 404, 437, 86, 3, 83, 247, 182, 12, 11, 944, 111, 218, 18, 33, 2, 247, 9, 32, 41, 25, 1174, 202, 2, 187, 1, 7, 3234, 21, 11, 3235, 129, 115, 540, 134, 19, 341, 188, 1, 126, 10, 26, 591, 3236, 313, 18, 44, 139, 3237, 3238, 3239, 3240, 18, 227, 519, 3241, 25, 23, 3242, 1245, 267, 15, 39, 58, 3243, 9, 6, 430, 661, 5, 24, 118, 15, 54, 1008, 4, 602, 484, 11, 14, 6, 435, 327, 134, 8, 2, 3244, 615, 9, 41, 671, 684, 5, 1246, 31, 67, 75, 3, 27, 3245, 12, 25, 8, 652, 27, 16, 17, 3, 161, 9, 104, 12, 13, 3246, 485, 3, 96, 35, 251, 29, 59, 49, 314, 119, 4, 161, 2, 3247, 5, 199, 15, 94, 23, 1345, 3248, 3249, 208, 24, 325, 703, 623, 5, 43, 659, 15, 28, 1346, 29, 1347, 922, 55, 3250, 31, 7, 118, 1, 658, 15, 69, 22, 3251, 1, 56, 54, 31, 418, 563, 3252, 49, 1054, 3253, 142, 42, 21, 8, 1292, 3254, 3255, 6, 72, 4, 1231, 7, 36, 1, 33, 47, 118, 42, 27, 22, 70, 14, 35, 298, 450, 124, 117, 3256, 431, 3257, 79, 3, 261, 3258, 1, 11, 232, 20, 108, 87, 15, 13, 3259, 354, 58, 602, 46, 18, 56, 27, 3260, 659, 3261, 14, 31, 2, 820, 29, 137, 300, 4, 346, 134, 91, 406, 42, 32, 9, 10, 132, 161, 69, 54, 27, 70, 1, 42, 26, 167, 11, 128, 3, 89, 12, 31, 24, 17, 83, 6, 185, 1259, 6, 401, 88, 15, 207, 894, 153, 114, 248, 38, 12, 1348, 825, 7, 1007, 29, 3262, 134, 27, 234, 1, 346, 9, 3263, 139, 3264, 29, 164, 7, 36, 227, 10, 34, 73, 22, 890, 115, 39, 34, 16, 164, 44, 18, 656, 1, 3265, 1060, 1, 16, 25, 3266, 2, 235, 20, 12, 21, 2, 181, 3267, 74, 480, 3, 96, 9, 266, 2, 132, 114, 248, 85, 988, 2, 101, 14, 18, 12, 11, 46, 6, 641, 32, 16, 4, 104, 23, 3268, 4, 16, 25, 200, 31, 80, 179, 3269, 3270, 1253, 37, 8, 24, 1255, 1, 11, 88, 46, 30, 209, 1349, 24, 47, 279, 1, 3271, 1350, 8, 1064, 2, 3272, 592, 1, 10, 3, 314, 1024, 72, 10, 587, 84, 23, 636, 123, 61, 3, 62, 471, 409, 409, 56, 8, 2, 3273, 5, 24, 3274, 58, 84, 2, 676, 5, 76, 25, 10, 34, 70, 557, 39, 27, 1313, 74, 3275, 18, 85, 3276, 34, 11, 3277, 4, 2, 963, 621, 98, 246, 3278, 55, 22, 11, 1268, 28, 3279, 852, 1222, 374, 183, 116, 855, 48, 997, 3280, 3, 32, 3281, 502, 1319, 3, 244, 67, 1309, 197, 47, 4, 154, 436, 38, 11, 7, 36, 23, 125, 32, 68, 13, 384, 620, 2, 3282, 5, 28, 682, 3283, 25, 295, 3, 73, 56, 46, 13, 47, 249, 44, 3284, 50, 31, 2, 1170, 5, 661, 3, 70, 14, 6, 3285, 1, 44, 571, 144, 6, 3286, 85, 12, 3287, 10, 133, 3288, 24, 469, 3289, 1061, 1, 50, 10, 646, 12, 3290, 49, 20, 7, 376, 110, 567, 8, 337, 2, 401, 46, 85, 3291, 15, 13, 550, 1, 3292, 3, 34, 3293, 60, 50, 38, 24, 135, 166, 95, 12, 489, 28, 329, 42, 40, 2, 165, 660, 22, 801, 28, 156, 1, 25, 152, 23, 505, 787, 4, 254, 115, 7, 3294, 3295, 5, 13, 125, 15, 38, 570, 21, 1328, 5, 634, 42, 548, 1, 2, 456, 3296, 18, 53, 5, 278, 3297, 1, 3298, 16, 3299, 20, 7, 3300, 15, 3, 1181, 4, 2, 458, 345, 837, 82, 3301, 17, 593, 10, 3302, 21, 189, 107, 34, 16, 524, 4, 551, 25, 152, 7, 241, 501, 6, 347, 1330, 7, 118, 55, 288, 3303, 88, 3, 19, 3304, 25, 3, 57, 25, 94, 652, 104, 71, 2, 438, 3305, 1, 2, 3306, 880, 87, 10, 111, 70, 107, 17, 7, 47, 328, 150, 25, 3307, 3308, 8, 6, 3309, 436, 326, 85, 807, 9, 48, 24, 3310, 29, 53, 67, 72, 14, 1351, 1, 770, 3311, 1, 11, 197, 2, 622, 3, 1301, 5, 222, 115, 13, 147, 895, 12, 21, 8, 1062, 1, 116, 3312, 3313, 29, 67, 75, 67, 75, 67, 5, 13, 340, 1068, 508, 9, 44, 2, 3314, 176, 9, 16, 3315, 3, 41, 11, 271, 13, 193, 291, 162, 5, 651, 8, 7, 348, 835, 1, 3, 57, 239, 24, 21, 7, 217, 84, 28, 268, 1310, 10, 29, 3316, 69, 2, 340, 1226, 3317, 86, 3318, 103, 652, 22, 40, 693, 23, 1351, 69, 3, 82, 42, 55, 1157, 3, 372, 47, 226, 3319, 35, 358, 361, 18, 162, 3320, 1311, 12, 3321, 71, 93, 1080, 4, 3322, 69, 108, 376, 21, 17, 15, 3323, 3324, 65, 3325, 1243, 1, 148, 20, 207, 117, 1346, 10, 9, 8, 798, 128, 3326, 4, 3327, 85, 152, 2, 216, 5, 342, 352, 18, 69, 3, 57, 1125, 2, 435, 9, 82, 1316, 12, 20, 94, 1, 6, 1120, 72, 55, 3328, 1101, 92, 7, 3329, 3, 73, 156, 394, 904, 95, 7, 36, 91, 1272, 95, 48, 39, 29, 4, 66, 175, 10, 3330, 15, 2, 665, 256, 5, 13, 185, 3331, 3332, 9, 105, 18, 10, 779, 3333, 48, 3334, 3335, 6, 3336, 74, 2, 526, 3337, 21, 3338, 17, 3, 3339, 3340, 3341, 3342, 93, 107, 21, 6, 62, 53, 3343, 809, 91, 3344, 470, 166, 572, 10, 119, 291, 308, 3, 130, 295, 48, 887, 287, 1, 108, 401, 5, 1352, 15, 3, 122, 41, 20, 1018, 64, 38, 26, 3345, 16, 25, 360, 26, 167, 3346, 56, 242, 180, 55, 6, 3347, 755, 590, 9, 77, 547, 9, 7, 36, 1, 10, 32, 3348, 23, 4, 319, 37, 5, 87, 25, 1348, 17, 302, 506, 48, 1000, 1001, 13, 228, 1, 13, 642, 195, 239, 113, 418, 20, 3349, 638, 4, 3350, 331, 3, 155, 3351, 776, 128, 42, 511, 2, 1015, 5, 7, 1283, 26, 598, 62, 91, 36, 255, 53, 42, 206, 12, 142, 3352, 3353, 5, 30, 1149, 3354, 26, 131, 237, 5, 207, 979, 8, 137, 3355, 312, 5, 3356, 26, 562, 62, 46, 63, 32, 3, 1338, 14, 150, 3357, 20, 31, 1, 1349, 332, 419, 587, 42, 55, 718, 129, 25, 40, 70, 4, 70, 268, 2, 330, 51, 465, 3, 130, 42, 3358, 21, 888, 510, 93, 128, 198, 37, 4, 2, 393, 1325, 1, 310, 3, 73, 42, 110, 56, 240, 12, 217, 1, 176, 1117, 50, 61, 3359, 2, 3360, 5, 12, 3, 1274, 37, 3361, 81, 6, 3362, 447, 92, 29, 3363, 4, 35, 17, 80, 265, 3364, 5, 482, 1, 12, 21, 403, 4, 16, 349, 31, 52, 1095, 848, 121, 22, 3365, 71, 60, 30, 509, 844, 49, 33, 586, 3366, 20, 6, 101, 647, 24, 47, 242, 90, 5, 163, 61, 3367, 35, 13, 151, 834, 98, 2, 447, 1304, 3368, 325, 5, 6, 1323, 109, 38, 7, 3369, 107, 21, 45, 1142, 295, 4, 28, 851, 3370, 25, 3371, 68, 3372, 25, 1353, 5, 13, 3373, 157, 150, 3374, 1, 173, 24, 21, 6, 294, 3375, 3376, 29, 53, 164, 745, 13, 317, 6, 640, 42, 532, 26, 3377, 28, 117, 516, 3378, 68, 6, 393, 1180, 4, 218, 43, 3379, 1354, 5, 30, 297, 24, 981, 5, 3380, 1136, 67, 75, 92, 991, 29, 11, 14, 94, 561, 62, 80, 974, 3381, 149, 149, 1, 265, 84, 43, 3382, 165, 30, 626, 186, 1239, 97, 3383, 3384, 28, 408, 3385, 229, 6, 504, 3386, 3, 34, 579, 22, 3387, 3388, 94, 10, 41, 3, 191, 12, 40, 119, 3389, 2, 1036, 5, 35, 38, 3390, 41, 198, 3391, 3392, 24, 464, 46, 2, 3393, 1, 609, 24, 94, 604, 61, 41, 30, 170, 10, 133, 416, 15, 37, 60, 3394, 672, 1, 21, 12, 407, 1, 1343, 33, 2, 279, 5, 24, 3395, 5, 31, 2, 312, 3396, 3, 273, 37, 130, 50, 20, 6, 51, 238, 3, 57, 2, 3397, 1207, 731, 3, 40, 208, 107, 832, 12, 1315, 24, 294, 403, 10, 102, 6, 782, 12, 40, 6, 385, 60, 10, 285, 15, 3, 72, 15, 59, 367, 176, 118, 311, 1, 23, 148, 111, 815, 1085, 1345, 4, 3398, 2, 3399, 196, 17, 12, 32, 11, 19, 3400, 39, 122, 66, 35, 10, 897, 1339, 7, 1354, 43, 433, 309, 73, 56, 14, 578, 797, 3, 57, 686, 24, 1119, 10, 142, 21, 4, 948, 490, 1260, 14, 7, 1340, 32, 3, 11, 105, 9, 1350, 18, 3, 57, 189, 870, 24, 21, 1352, 1, 1115, 11, 14, 6, 3401, 5, 3402, 322, 38, 13, 432, 32, 16, 289, 64, 3, 57, 23, 606, 10, 9, 19, 3403, 7, 3404, 572, 107, 855, 619, 1, 2, 1196, 5, 474, 3405, 396, 2, 413, 10, 105, 9, 42, 40, 22, 215, 8, 2, 1228, 920, 1, 12, 21, 3406, 23, 3407, 394, 38, 26, 3408, 44, 30, 1321, 1, 44, 7, 456, 1, 1285, 37, 1299, 44, 24, 3409, 13, 1184, 15, 6, 3410, 831, 15, 59, 321, 56, 42, 21, 353, 4, 2, 3411, 573, 3412, 7, 209, 120, 158, 11, 3413, 10, 8, 7, 47, 218, 252, 35, 20, 23, 3414, 1322, 38, 26, 301, 70, 364, 16, 843, 23, 3415, 55, 1143, 2, 3416, 8, 10, 888, 3417, 516, 23, 3418, 3419, 3420, 112, 72, 3421, 3422, 2, 351, 77, 1332, 2, 148, 139, 580, 1281, 3423, 31, 2, 476, 10, 3424, 119, 279, 14, 141, 3425, 1, 443, 4, 16, 3426, 14, 110, 14, 28, 3427, 800, 8, 23, 187, 10, 79, 28, 555, 1, 220, 412, 4, 50, 103, 1, 3428, 60, 2, 527, 1298, 76, 1, 222, 14, 14, 124, 193, 8, 657, 1, 54, 387, 14, 3429, 3, 27, 275, 2, 200, 56, 4, 139, 365, 21, 11, 7, 860, 673, 1, 3430, 110, 115, 24, 132, 3, 19, 158, 772, 16, 22, 1300, 74, 42, 3431, 312, 15, 3432, 354, 5, 30, 263, 12, 21, 25, 212, 410, 10, 1341, 8, 10, 1147, 229, 10, 622, 1, 172, 92, 3433, 460, 2, 190, 1, 1069, 3434, 897, 412, 26, 104, 6, 1324, 3435, 197, 17, 95, 56, 39, 293, 2, 640, 10, 9, 950, 4, 100, 1, 73, 3, 761, 71, 4, 68, 289, 514, 1342, 38, 13, 116, 3436, 16, 6, 196, 54, 21, 11, 418, 749, 545, 1297, 33, 7, 209, 3, 58, 191, 415, 34, 39, 19, 3437, 136, 35, 3438, 247, 186, 66, 227, 48, 3, 3439, 9, 8, 182, 143, 26, 301, 3440, 9, 38, 3441, 111, 66, 42, 380, 242, 3442, 1, 1329, 1, 96, 18, 140, 3443, 157, 22, 58, 253, 517, 8, 313, 8, 12, 122, 16, 3444, 857, 3445, 279, 90, 5, 163, 233, 35, 409, 3, 27, 816, 218, 8, 2, 570, 5, 23, 582, 331, 3446, 38, 54, 41, 73, 12, 21, 2, 29, 63, 69, 771, 4, 16, 8, 23, 123, 3447, 1, 8, 3448, 3449, 203, 509, 49, 59, 19, 755, 142, 48, 95, 56, 183, 167, 26, 219, 1224, 17, 3, 19, 31, 1273, 80, 67, 3450, 103, 91, 730, 214, 1355, 1, 25, 643, 20, 6, 3451, 267, 91, 406, 53, 1303, 6, 399, 5, 108, 101, 4, 136, 7, 125, 1355, 3452, 60, 35, 74, 3453, 223, 64, 304, 30, 231, 30, 1110, 83, 224, 808, 43, 620, 47, 3454, 13, 180, 1, 7, 348, 211, 5, 260, 1, 601, 30, 794, 3455, 92, 802, 370, 40, 670, 8, 3456, 6, 823, 313, 61, 100, 42, 199, 1318, 331, 359, 8, 2, 475, 3, 411, 9, 12, 21, 6, 3457, 27, 70, 53, 1, 100, 14, 260, 123, 575, 166, 181, 13, 3458, 14, 592, 1, 162, 208, 24, 264, 1146, 103, 2, 617, 1131, 480, 185, 1219, 12, 21, 6, 219, 580, 3459, 17, 449, 3, 66, 2, 865, 5, 23, 94, 3460, 14, 1353, 3461, 123, 1, 3462, 1, 3463, 3464, 6, 3465, 493, 39, 89, 610, 86, 3466, 3467, 3468, 477, 7, 678, 3469, 1, 2, 51, 88, 97, 3470, 29, 1347, 3471, 3, 27, 68, 50, 271, 7, 3472, 523, 64, 896, 13, 347, 649, 6, 3473, 5, 3474, 114, 63, 82, 22, 221, 4, 50, 54, 27, 16, 17, 11, 81, 6, 1079, 5, 246, 76, 3, 34, 11, 100, 51, 169, 3475, 95, 48, 3, 155, 168, 23, 497, 3, 11, 19, 239, 15, 3, 34, 69, 22, 3476, 12, 99, 11, 16, 1306, 22, 10, 310, 155, 3477, 1, 429, 20, 43, 1108, 1, 121, 82, 17, 16, 10, 591, 19, 109, 4, 109, 4, 199, 4, 100, 250, 232, 382, 908, 3, 27, 546, 33, 80, 179, 181, 135, 768, 8, 3478, 3479, 3, 32, 269, 37, 479, 61, 41, 490, 15, 101, 39, 82, 124, 151, 70, 6, 47, 10, 661, 19, 237, 317, 33, 18, 93, 243, 42, 5, 181, 34, 11, 36, 250, 63, 88, 22, 380, 7, 185, 16, 219, 121, 3, 265, 142, 3480, 3481, 214, 6, 356, 434, 5, 643, 236, 39, 41, 1179, 13, 1151, 5, 145, 65, 1331, 4, 105, 33, 52, 47, 225, 39, 19, 8, 126, 8, 37, 3, 32, 19, 7, 3482, 992, 3483, 46, 485, 136, 37, 8, 24, 514, 1137, 18, 599, 5, 139, 892, 61, 411, 9, 51, 138, 3, 27, 130, 28, 262, 138, 3484, 30, 14, 13, 657, 79, 11, 3485, 320, 2, 824, 3, 57, 3486, 140, 15, 3, 73, 3487, 60, 337, 128, 2, 126, 167, 26, 146, 515, 14, 24, 101, 85, 3488, 6, 3489, 230, 32, 3490, 946, 11, 3, 69, 39, 41, 66, 85, 88, 3, 72, 142, 688, 507, 3491, 838, 6, 209, 8, 102, 3492, 196, 3493, 3494, 828, 30, 791, 64, 42, 158, 407, 18, 49, 6, 877, 347, 58, 19, 146, 589, 33, 52, 148, 8, 308, 1, 3, 186, 70, 4, 30, 729, 1, 3495, 1, 258, 115, 30, 209, 10, 3496, 2, 344, 1, 541, 54, 1187, 8, 6, 213, 3497, 20, 188, 150, 116, 22, 3498, 2, 443, 3499, 1, 53, 19, 31, 2, 3500, 8, 890, 90, 3501, 7, 36, 79, 17, 30, 110, 1, 1046, 8, 6, 654, 9, 96, 10, 157, 23, 3502, 1, 3503, 150, 3504, 13, 159, 1, 23, 280, 3505, 340, 552, 10, 54, 647, 109, 4, 100, 14, 3506, 895, 9, 3507, 61, 89, 7, 173, 268, 129]]\n"
          ]
        }
      ]
    },
    {
      "cell_type": "markdown",
      "source": [
        "# 3. Stop-words Removal"
      ],
      "metadata": {
        "id": "auwTMOTpSMG2"
      }
    },
    {
      "cell_type": "code",
      "source": [
        "import nltk\n",
        "from nltk.corpus import stopwords\n",
        "nltk.download('stopwords')\n",
        "\n",
        "sw = stopwords.words('english')\n",
        "\n",
        "nostopwords_text = [\n",
        "    word for word in word_tokenizer_text if not word in sw\n",
        "]\n",
        "\n",
        "with open(\"Shakespeare_Normalized_Tokenized_StopWord.txt\", \"w\") as f_out:\n",
        "    for token in tokenized_text:\n",
        "        f_out.write(token + \"\\n\")\n",
        "\n",
        "print(nostopwords_text[:500])"
      ],
      "metadata": {
        "colab": {
          "base_uri": "https://localhost:8080/"
        },
        "id": "YyomlcFaSMex",
        "outputId": "07ed1fb0-6138-4bd4-8a54-202f6d8b6ae2"
      },
      "execution_count": null,
      "outputs": [
        {
          "output_type": "stream",
          "name": "stdout",
          "text": [
            "['poor', 'contempt', 'claimd', 'thou', 'slept', 'faithful', 'may', 'contrive', 'father', 'defeated', 'queen', 'flesh', 'broke', 'puttance', 'expedition', 'house', 'ever', 'lament', 'stomach', 'butly', 'fury', 'knowing', 'everything', 'grew', 'daily', 'ever', 'great', 'strength', 'thought', 'bright', 'buds', 'mine', 'biondello', 'marry', 'may', 'pray', 'patience', 'king', 'lear', 'instant', 'common', 'maid', 'may', 'less', 'brave', 'gentleman', 'joiner', 'finds', 'us', 'wax', 'owe', 'full', 'presence', 'fooder', 'staves', 'remorsed', 'bridals', 'man', 'grace', 'every', 'business', 'tongue', 'thinking', 'contends', 'hath', 'respected', 'thee', 'biron', 'left', 'thee', 'ill', 'die', 'blessed', 'reasonable', 'nature', 'honour', 'bosom', 'safe', 'others', 'speedybirth', 'bill', 'forestem', 'richard', 'heart', 'questiond', 'enough', 'partier', 'forth', 'obsers', 'dpunishd', 'hate', 'restraints', 'would', 'got', 'partly', 'autolycus', 'hath', 'sat', 'love', 'within', 'man', 'foul', 'prayers', 'much', 'thus', 'thee', 'ever', 'thought', 'make', 'wise', 'exclaim', 'sure', 'say', 'well', 'like', 'dotage', 'fixed', 'cease', 'let', 'mine', 'eyes', 'may', 'straight', 'sole', 'sword', 'conveyard', 'dustconfounded', 'land', 'command', 'puissant', 'griefs', 'dead', 'till', 'shall', 'fail', 'sister', 'true', 'good', 'see', 'hath', 'heard', 'midwife', 'loud', 'service', 'thy', 'sweetly', 'daughter', 'got', 'single', 'strange', 'words', 'pent', 'steed', 'stay', 'us', 'hath', 'brought', 'milthiness', 'guiderius', 'lord', 'shall', 'part', 'well', 'shall', 'hands', 'let', 'us', 'taken', 'thou', 'weights', 'return', 'mine', 'ring', 'ere', 'dangerous', 'good', 'way', 'swear', 'bears', 'kin', 'islands', 'sisters', 'speech', 'would', 'deny', 'force', 'grant', 'abhorson', 'thou', 'art', 'earth', 'villain', 'reserves', 'keeping', 'talbot', 'king', 'henry', 'viii', 'lead', 'kent', 'yet', 'ease', 'truly', 'numbers', 'talk', 'death', 'name', 'hot', 'years', 'far', 'good', 'general', 'make', 'buried', 'vacus', 'arrest', 'timon', 'stay', 'sere', 'hath', 'dangerous', 'grace', 'sail', 'breath', 'knees', 'broke', 'deeds', 'would', 'thy', 'husband', 'alack', 'speak', 'pluck', 'men', 'thy', 'abroad', 'doth', 'go', 'cassius', 'desire', 'calld', 'ballant', 'cassius', 'bardolph', 'tost', 'take', 'madder', 'duke', 'york', 'would', 'ready', 'advice', 'say', 'chaste', 'second', 'neris', 'blessed', 'france', 'thy', 'speech', 'know', 'antipholus', 'ephesus', 'outlive', 'lady', 'philosophy', 'gentlemen', 'upon', 'wrongs', 'despised', 'sit', 'thee', 'duke', 'gloucesters', 'name', 'look', 'thee', 'thee', 'wear', 'noblemans', 'bandible', 'pardon', 'thousand', 'embure', 'hath', 'contemnd', 'uneven', 'day', 'bend', 'unkind', 'post', 'ajax', 'mattle', 'strict', 'cuttances', 'cut', 'slept', 'fellow', 'said', 'found', 'lordship', 'hope', 'mark', 'antony', 'done', 'would', 'sose', 'minute', 'way', 'ingrateful', 'brook', 'marcellus', 'tell', 'us', 'break', 'hear', 'every', 'shore', 'deny', 'thee', 'sir', 'must', 'bear', 'run', 'ill', 'put', 'dangerous', 'happy', 'judgments', 'fort', 'wretch', 'qualities', 'death', 'together', 'take', 'sword', 'demetrius', 'come', 'go', 'thy', 'wreck', 'aumerle', 'know', 'valiant', 'world', 'fear', 'make', 'cause', 'bristing', 'sorry', 'behold', 'friend', 'deed', 'threw', 'boy', 'king', 'idar', 'willoughby', 'wouldst', 'thou', 'speak', 'gower', 'poor', 'queen', 'leave', 'along', 'capulet', 'good', 'sir', 'make', 'pen', 'meeding', 'trouble', 'provide', 'breast', 'use', 'wearing', 'behind', 'old', 'looks', 'man', 'begin', 'city', 'cases', 'art', 'held', 'go', 'valentine', 'sir', 'state', 'tell', 'never', 'falln', 'caesar', 'second', 'murderer', 'lord', 'virtuous', 'scotland', 'good', 'chamber', 'shepherd', 'second', 'murderer', 'like', 'let', 'go', 'norfolk', 'well', 'come', 'thy', 'sweet', 'brother', 'helena', 'entreatable', 'rutlands', 'island', 'beauty', 'hearts', 'fixed', 'seagood', 'wife', 'since', 'one', 'robbd', 'ready', 'bull', 'done', 'tonight', 'shall', 'wife', 'guards', 'conistering', 'faction', 'bassanio', 'come', 'hope', 'friar', 'farewell', 'knew', 'bloody', 'thereof', 'must', 'undo', 'wrong', 'thee', 'pluck', 'sighs', 'empty', 'love', 'second', 'gentleman', 'france', 'thersitania', 'would', 'kill', 'solemnity', 'know', 'beseech', 'fear', 'please', 'two', 'hear', 'sir', 'countess', 'master', 'may', 'potent', 'ancient', 'face', 'owed', 'came', 'love', 'set', 'brookgast', 'thyself', 'eat', 'excellent', 'time', 'malvolio', 'say', 'good', 'sir', 'john', 'fair', 'emilia', 'dead', 'malvolio', 'still', 'eer', 'good', 'bloody', 'difference', 'like', 'thee', 'fought', 'line', 'master', 'thou', 'bearst']\n"
          ]
        },
        {
          "output_type": "stream",
          "name": "stderr",
          "text": [
            "[nltk_data] Downloading package stopwords to /root/nltk_data...\n",
            "[nltk_data]   Package stopwords is already up-to-date!\n"
          ]
        }
      ]
    },
    {
      "cell_type": "markdown",
      "source": [
        "# 4. Text Lemmatization"
      ],
      "metadata": {
        "id": "ZR78ns3_ZQXp"
      }
    },
    {
      "cell_type": "code",
      "source": [
        "from nltk.stem import WordNetLemmatizer\n",
        "nltk.download('wordnet')\n",
        "\n",
        "lemmatizer = WordNetLemmatizer()\n",
        "\n",
        "lemmatized_text = [lemmatizer.lemmatize(word) for word in nostopwords_text]\n",
        "\n",
        "with open(\"Shakespeare_Normalized_Tokenized_StopWord_Lemmatized.txt\", \"w\") as f_out:\n",
        "    for token in tokenized_text:\n",
        "        f_out.write(token + \"\\n\")\n",
        "\n",
        "print(lemmatized_text[:500])\n",
        "lemmatized_text = globals()['lemmatized_text']"
      ],
      "metadata": {
        "colab": {
          "base_uri": "https://localhost:8080/"
        },
        "id": "d5ZpSDPdZQk0",
        "outputId": "2f09a935-d7b6-455d-a026-72870bd85407"
      },
      "execution_count": null,
      "outputs": [
        {
          "output_type": "stream",
          "name": "stdout",
          "text": [
            "['poor', 'contempt', 'claimd', 'thou', 'slept', 'faithful', 'may', 'contrive', 'father', 'defeated', 'queen', 'flesh', 'broke', 'puttance', 'expedition', 'house', 'ever', 'lament', 'stomach', 'butly', 'fury', 'knowing', 'everything', 'grew', 'daily', 'ever', 'great', 'strength', 'thought', 'bright', 'bud', 'mine', 'biondello', 'marry', 'may', 'pray', 'patience', 'king', 'lear', 'instant', 'common', 'maid', 'may', 'le', 'brave', 'gentleman', 'joiner', 'find', 'u', 'wax', 'owe', 'full', 'presence', 'fooder', 'stave', 'remorsed', 'bridal', 'man', 'grace', 'every', 'business', 'tongue', 'thinking', 'contends', 'hath', 'respected', 'thee', 'biron', 'left', 'thee', 'ill', 'die', 'blessed', 'reasonable', 'nature', 'honour', 'bosom', 'safe', 'others', 'speedybirth', 'bill', 'forestem', 'richard', 'heart', 'questiond', 'enough', 'partier', 'forth', 'obsers', 'dpunishd', 'hate', 'restraint', 'would', 'got', 'partly', 'autolycus', 'hath', 'sat', 'love', 'within', 'man', 'foul', 'prayer', 'much', 'thus', 'thee', 'ever', 'thought', 'make', 'wise', 'exclaim', 'sure', 'say', 'well', 'like', 'dotage', 'fixed', 'cease', 'let', 'mine', 'eye', 'may', 'straight', 'sole', 'sword', 'conveyard', 'dustconfounded', 'land', 'command', 'puissant', 'grief', 'dead', 'till', 'shall', 'fail', 'sister', 'true', 'good', 'see', 'hath', 'heard', 'midwife', 'loud', 'service', 'thy', 'sweetly', 'daughter', 'got', 'single', 'strange', 'word', 'pent', 'steed', 'stay', 'u', 'hath', 'brought', 'milthiness', 'guiderius', 'lord', 'shall', 'part', 'well', 'shall', 'hand', 'let', 'u', 'taken', 'thou', 'weight', 'return', 'mine', 'ring', 'ere', 'dangerous', 'good', 'way', 'swear', 'bear', 'kin', 'island', 'sister', 'speech', 'would', 'deny', 'force', 'grant', 'abhorson', 'thou', 'art', 'earth', 'villain', 'reserve', 'keeping', 'talbot', 'king', 'henry', 'viii', 'lead', 'kent', 'yet', 'ease', 'truly', 'number', 'talk', 'death', 'name', 'hot', 'year', 'far', 'good', 'general', 'make', 'buried', 'vacus', 'arrest', 'timon', 'stay', 'sere', 'hath', 'dangerous', 'grace', 'sail', 'breath', 'knee', 'broke', 'deed', 'would', 'thy', 'husband', 'alack', 'speak', 'pluck', 'men', 'thy', 'abroad', 'doth', 'go', 'cassius', 'desire', 'calld', 'ballant', 'cassius', 'bardolph', 'tost', 'take', 'madder', 'duke', 'york', 'would', 'ready', 'advice', 'say', 'chaste', 'second', 'neris', 'blessed', 'france', 'thy', 'speech', 'know', 'antipholus', 'ephesus', 'outlive', 'lady', 'philosophy', 'gentleman', 'upon', 'wrong', 'despised', 'sit', 'thee', 'duke', 'gloucester', 'name', 'look', 'thee', 'thee', 'wear', 'nobleman', 'bandible', 'pardon', 'thousand', 'embure', 'hath', 'contemnd', 'uneven', 'day', 'bend', 'unkind', 'post', 'ajax', 'mattle', 'strict', 'cuttances', 'cut', 'slept', 'fellow', 'said', 'found', 'lordship', 'hope', 'mark', 'antony', 'done', 'would', 'sose', 'minute', 'way', 'ingrateful', 'brook', 'marcellus', 'tell', 'u', 'break', 'hear', 'every', 'shore', 'deny', 'thee', 'sir', 'must', 'bear', 'run', 'ill', 'put', 'dangerous', 'happy', 'judgment', 'fort', 'wretch', 'quality', 'death', 'together', 'take', 'sword', 'demetrius', 'come', 'go', 'thy', 'wreck', 'aumerle', 'know', 'valiant', 'world', 'fear', 'make', 'cause', 'bristing', 'sorry', 'behold', 'friend', 'deed', 'threw', 'boy', 'king', 'idar', 'willoughby', 'wouldst', 'thou', 'speak', 'gower', 'poor', 'queen', 'leave', 'along', 'capulet', 'good', 'sir', 'make', 'pen', 'meeding', 'trouble', 'provide', 'breast', 'use', 'wearing', 'behind', 'old', 'look', 'man', 'begin', 'city', 'case', 'art', 'held', 'go', 'valentine', 'sir', 'state', 'tell', 'never', 'falln', 'caesar', 'second', 'murderer', 'lord', 'virtuous', 'scotland', 'good', 'chamber', 'shepherd', 'second', 'murderer', 'like', 'let', 'go', 'norfolk', 'well', 'come', 'thy', 'sweet', 'brother', 'helena', 'entreatable', 'rutland', 'island', 'beauty', 'heart', 'fixed', 'seagood', 'wife', 'since', 'one', 'robbd', 'ready', 'bull', 'done', 'tonight', 'shall', 'wife', 'guard', 'conistering', 'faction', 'bassanio', 'come', 'hope', 'friar', 'farewell', 'knew', 'bloody', 'thereof', 'must', 'undo', 'wrong', 'thee', 'pluck', 'sigh', 'empty', 'love', 'second', 'gentleman', 'france', 'thersitania', 'would', 'kill', 'solemnity', 'know', 'beseech', 'fear', 'please', 'two', 'hear', 'sir', 'countess', 'master', 'may', 'potent', 'ancient', 'face', 'owed', 'came', 'love', 'set', 'brookgast', 'thyself', 'eat', 'excellent', 'time', 'malvolio', 'say', 'good', 'sir', 'john', 'fair', 'emilia', 'dead', 'malvolio', 'still', 'eer', 'good', 'bloody', 'difference', 'like', 'thee', 'fought', 'line', 'master', 'thou', 'bearst']\n"
          ]
        },
        {
          "output_type": "stream",
          "name": "stderr",
          "text": [
            "[nltk_data] Downloading package wordnet to /root/nltk_data...\n",
            "[nltk_data]   Package wordnet is already up-to-date!\n"
          ]
        }
      ]
    },
    {
      "cell_type": "markdown",
      "source": [
        "# 5. Text Stemming"
      ],
      "metadata": {
        "id": "P1dabV_canJW"
      }
    },
    {
      "cell_type": "markdown",
      "source": [
        "# Porter Stemmer"
      ],
      "metadata": {
        "id": "6cePo1p3B1Ks"
      }
    },
    {
      "cell_type": "code",
      "source": [
        "from nltk.stem.porter import PorterStemmer\n",
        "\n",
        "with open(\"Shakespeare_Normalized_Tokenized_StopWord_Lemmatized.txt\", \"r\") as f:\n",
        "    text = f.read()\n",
        "\n",
        "stemmer = PorterStemmer()\n",
        "\n",
        "stemmed_porter_text = [stemmer.stem(word) for word in nostopwords_text]\n",
        "\n",
        "with open(\"Shakespeare_Normalized_Tokenized_StopWord_Lemmatized_Stemming01\", \"w\") as f_out:\n",
        "    for token in tokenized_text:\n",
        "        f_out.write(token + \"\\n\")\n",
        "\n",
        "\n",
        "print(stemmed_porter_text[:500])\n",
        "stemmed_porter_text = globals()['stemmed_porter_text']"
      ],
      "metadata": {
        "id": "_gT-YHCoanfp",
        "colab": {
          "base_uri": "https://localhost:8080/"
        },
        "outputId": "cd741f05-43f0-4900-a56a-5b73c76f10dd"
      },
      "execution_count": null,
      "outputs": [
        {
          "output_type": "stream",
          "name": "stdout",
          "text": [
            "['poor', 'contempt', 'claimd', 'thou', 'slept', 'faith', 'may', 'contriv', 'father', 'defeat', 'queen', 'flesh', 'broke', 'puttanc', 'expedit', 'hous', 'ever', 'lament', 'stomach', 'butli', 'furi', 'know', 'everyth', 'grew', 'daili', 'ever', 'great', 'strength', 'thought', 'bright', 'bud', 'mine', 'biondello', 'marri', 'may', 'pray', 'patienc', 'king', 'lear', 'instant', 'common', 'maid', 'may', 'less', 'brave', 'gentleman', 'joiner', 'find', 'us', 'wax', 'owe', 'full', 'presenc', 'fooder', 'stave', 'remors', 'bridal', 'man', 'grace', 'everi', 'busi', 'tongu', 'think', 'contend', 'hath', 'respect', 'thee', 'biron', 'left', 'thee', 'ill', 'die', 'bless', 'reason', 'natur', 'honour', 'bosom', 'safe', 'other', 'speedybirth', 'bill', 'forestem', 'richard', 'heart', 'questiond', 'enough', 'partier', 'forth', 'obser', 'dpunishd', 'hate', 'restraint', 'would', 'got', 'partli', 'autolycu', 'hath', 'sat', 'love', 'within', 'man', 'foul', 'prayer', 'much', 'thu', 'thee', 'ever', 'thought', 'make', 'wise', 'exclaim', 'sure', 'say', 'well', 'like', 'dotag', 'fix', 'ceas', 'let', 'mine', 'eye', 'may', 'straight', 'sole', 'sword', 'conveyard', 'dustconfound', 'land', 'command', 'puissant', 'grief', 'dead', 'till', 'shall', 'fail', 'sister', 'true', 'good', 'see', 'hath', 'heard', 'midwif', 'loud', 'servic', 'thi', 'sweetli', 'daughter', 'got', 'singl', 'strang', 'word', 'pent', 'steed', 'stay', 'us', 'hath', 'brought', 'milthi', 'guideriu', 'lord', 'shall', 'part', 'well', 'shall', 'hand', 'let', 'us', 'taken', 'thou', 'weight', 'return', 'mine', 'ring', 'ere', 'danger', 'good', 'way', 'swear', 'bear', 'kin', 'island', 'sister', 'speech', 'would', 'deni', 'forc', 'grant', 'abhorson', 'thou', 'art', 'earth', 'villain', 'reserv', 'keep', 'talbot', 'king', 'henri', 'viii', 'lead', 'kent', 'yet', 'eas', 'truli', 'number', 'talk', 'death', 'name', 'hot', 'year', 'far', 'good', 'gener', 'make', 'buri', 'vacu', 'arrest', 'timon', 'stay', 'sere', 'hath', 'danger', 'grace', 'sail', 'breath', 'knee', 'broke', 'deed', 'would', 'thi', 'husband', 'alack', 'speak', 'pluck', 'men', 'thi', 'abroad', 'doth', 'go', 'cassiu', 'desir', 'calld', 'ballant', 'cassiu', 'bardolph', 'tost', 'take', 'madder', 'duke', 'york', 'would', 'readi', 'advic', 'say', 'chast', 'second', 'neri', 'bless', 'franc', 'thi', 'speech', 'know', 'antipholu', 'ephesu', 'outliv', 'ladi', 'philosophi', 'gentlemen', 'upon', 'wrong', 'despis', 'sit', 'thee', 'duke', 'gloucest', 'name', 'look', 'thee', 'thee', 'wear', 'nobleman', 'bandibl', 'pardon', 'thousand', 'embur', 'hath', 'contemnd', 'uneven', 'day', 'bend', 'unkind', 'post', 'ajax', 'mattl', 'strict', 'cuttanc', 'cut', 'slept', 'fellow', 'said', 'found', 'lordship', 'hope', 'mark', 'antoni', 'done', 'would', 'sose', 'minut', 'way', 'ingrat', 'brook', 'marcellu', 'tell', 'us', 'break', 'hear', 'everi', 'shore', 'deni', 'thee', 'sir', 'must', 'bear', 'run', 'ill', 'put', 'danger', 'happi', 'judgment', 'fort', 'wretch', 'qualiti', 'death', 'togeth', 'take', 'sword', 'demetriu', 'come', 'go', 'thi', 'wreck', 'aumerl', 'know', 'valiant', 'world', 'fear', 'make', 'caus', 'brist', 'sorri', 'behold', 'friend', 'deed', 'threw', 'boy', 'king', 'idar', 'willoughbi', 'wouldst', 'thou', 'speak', 'gower', 'poor', 'queen', 'leav', 'along', 'capulet', 'good', 'sir', 'make', 'pen', 'meed', 'troubl', 'provid', 'breast', 'use', 'wear', 'behind', 'old', 'look', 'man', 'begin', 'citi', 'case', 'art', 'held', 'go', 'valentin', 'sir', 'state', 'tell', 'never', 'falln', 'caesar', 'second', 'murder', 'lord', 'virtuou', 'scotland', 'good', 'chamber', 'shepherd', 'second', 'murder', 'like', 'let', 'go', 'norfolk', 'well', 'come', 'thi', 'sweet', 'brother', 'helena', 'entreat', 'rutland', 'island', 'beauti', 'heart', 'fix', 'seagood', 'wife', 'sinc', 'one', 'robbd', 'readi', 'bull', 'done', 'tonight', 'shall', 'wife', 'guard', 'conist', 'faction', 'bassanio', 'come', 'hope', 'friar', 'farewel', 'knew', 'bloodi', 'thereof', 'must', 'undo', 'wrong', 'thee', 'pluck', 'sigh', 'empti', 'love', 'second', 'gentleman', 'franc', 'thersitania', 'would', 'kill', 'solemn', 'know', 'beseech', 'fear', 'pleas', 'two', 'hear', 'sir', 'countess', 'master', 'may', 'potent', 'ancient', 'face', 'owe', 'came', 'love', 'set', 'brookgast', 'thyself', 'eat', 'excel', 'time', 'malvolio', 'say', 'good', 'sir', 'john', 'fair', 'emilia', 'dead', 'malvolio', 'still', 'eer', 'good', 'bloodi', 'differ', 'like', 'thee', 'fought', 'line', 'master', 'thou', 'bearst']\n"
          ]
        }
      ]
    },
    {
      "cell_type": "markdown",
      "source": [
        "# Snowball Stemmer"
      ],
      "metadata": {
        "id": "Kev4HHvGBz8w"
      }
    },
    {
      "cell_type": "code",
      "source": [
        "from nltk.stem.snowball import SnowballStemmer\n",
        "\n",
        "with open(\"Shakespeare_Normalized_Tokenized_StopWord_Lemmatized.txt\", \"r\") as f:\n",
        "    text = f.read()\n",
        "\n",
        "stemmer = SnowballStemmer('english')\n",
        "\n",
        "stemmed_snowball_text = [stemmer.stem(word) for word in nostopwords_text]\n",
        "\n",
        "with open(\"Shakespeare_Normalized_Tokenized_StopWord_Lemmatized_Stemming02\", \"w\") as f_out:\n",
        "    for token in tokenized_text:\n",
        "        f_out.write(token + \"\\n\")\n",
        "\n",
        "print(stemmed_snowball_text[:500])\n",
        "stemmed_snowball_text = globals()['stemmed_snowball_text']"
      ],
      "metadata": {
        "colab": {
          "base_uri": "https://localhost:8080/"
        },
        "id": "il82JSi5B0Fg",
        "outputId": "a48c5f2d-2cbc-464f-d70a-67aedc6fd563"
      },
      "execution_count": null,
      "outputs": [
        {
          "output_type": "stream",
          "name": "stdout",
          "text": [
            "['poor', 'contempt', 'claimd', 'thou', 'slept', 'faith', 'may', 'contriv', 'father', 'defeat', 'queen', 'flesh', 'broke', 'puttanc', 'expedit', 'hous', 'ever', 'lament', 'stomach', 'but', 'furi', 'know', 'everyth', 'grew', 'daili', 'ever', 'great', 'strength', 'thought', 'bright', 'bud', 'mine', 'biondello', 'marri', 'may', 'pray', 'patienc', 'king', 'lear', 'instant', 'common', 'maid', 'may', 'less', 'brave', 'gentleman', 'joiner', 'find', 'us', 'wax', 'owe', 'full', 'presenc', 'fooder', 'stave', 'remors', 'bridal', 'man', 'grace', 'everi', 'busi', 'tongu', 'think', 'contend', 'hath', 'respect', 'thee', 'biron', 'left', 'thee', 'ill', 'die', 'bless', 'reason', 'natur', 'honour', 'bosom', 'safe', 'other', 'speedybirth', 'bill', 'forestem', 'richard', 'heart', 'questiond', 'enough', 'partier', 'forth', 'obser', 'dpunishd', 'hate', 'restraint', 'would', 'got', 'part', 'autolycus', 'hath', 'sat', 'love', 'within', 'man', 'foul', 'prayer', 'much', 'thus', 'thee', 'ever', 'thought', 'make', 'wise', 'exclaim', 'sure', 'say', 'well', 'like', 'dotag', 'fix', 'ceas', 'let', 'mine', 'eye', 'may', 'straight', 'sole', 'sword', 'conveyard', 'dustconfound', 'land', 'command', 'puissant', 'grief', 'dead', 'till', 'shall', 'fail', 'sister', 'true', 'good', 'see', 'hath', 'heard', 'midwif', 'loud', 'servic', 'thi', 'sweet', 'daughter', 'got', 'singl', 'strang', 'word', 'pent', 'steed', 'stay', 'us', 'hath', 'brought', 'milthi', 'guiderius', 'lord', 'shall', 'part', 'well', 'shall', 'hand', 'let', 'us', 'taken', 'thou', 'weight', 'return', 'mine', 'ring', 'ere', 'danger', 'good', 'way', 'swear', 'bear', 'kin', 'island', 'sister', 'speech', 'would', 'deni', 'forc', 'grant', 'abhorson', 'thou', 'art', 'earth', 'villain', 'reserv', 'keep', 'talbot', 'king', 'henri', 'viii', 'lead', 'kent', 'yet', 'eas', 'truli', 'number', 'talk', 'death', 'name', 'hot', 'year', 'far', 'good', 'general', 'make', 'buri', 'vacus', 'arrest', 'timon', 'stay', 'sere', 'hath', 'danger', 'grace', 'sail', 'breath', 'knee', 'broke', 'deed', 'would', 'thi', 'husband', 'alack', 'speak', 'pluck', 'men', 'thi', 'abroad', 'doth', 'go', 'cassius', 'desir', 'calld', 'ballant', 'cassius', 'bardolph', 'tost', 'take', 'madder', 'duke', 'york', 'would', 'readi', 'advic', 'say', 'chast', 'second', 'neri', 'bless', 'franc', 'thi', 'speech', 'know', 'antipholus', 'ephesus', 'outliv', 'ladi', 'philosophi', 'gentlemen', 'upon', 'wrong', 'despis', 'sit', 'thee', 'duke', 'gloucest', 'name', 'look', 'thee', 'thee', 'wear', 'nobleman', 'bandibl', 'pardon', 'thousand', 'embur', 'hath', 'contemnd', 'uneven', 'day', 'bend', 'unkind', 'post', 'ajax', 'mattl', 'strict', 'cuttanc', 'cut', 'slept', 'fellow', 'said', 'found', 'lordship', 'hope', 'mark', 'antoni', 'done', 'would', 'sose', 'minut', 'way', 'ingrat', 'brook', 'marcellus', 'tell', 'us', 'break', 'hear', 'everi', 'shore', 'deni', 'thee', 'sir', 'must', 'bear', 'run', 'ill', 'put', 'danger', 'happi', 'judgment', 'fort', 'wretch', 'qualiti', 'death', 'togeth', 'take', 'sword', 'demetrius', 'come', 'go', 'thi', 'wreck', 'aumerl', 'know', 'valiant', 'world', 'fear', 'make', 'caus', 'brist', 'sorri', 'behold', 'friend', 'deed', 'threw', 'boy', 'king', 'idar', 'willoughbi', 'wouldst', 'thou', 'speak', 'gower', 'poor', 'queen', 'leav', 'along', 'capulet', 'good', 'sir', 'make', 'pen', 'meed', 'troubl', 'provid', 'breast', 'use', 'wear', 'behind', 'old', 'look', 'man', 'begin', 'citi', 'case', 'art', 'held', 'go', 'valentin', 'sir', 'state', 'tell', 'never', 'falln', 'caesar', 'second', 'murder', 'lord', 'virtuous', 'scotland', 'good', 'chamber', 'shepherd', 'second', 'murder', 'like', 'let', 'go', 'norfolk', 'well', 'come', 'thi', 'sweet', 'brother', 'helena', 'entreat', 'rutland', 'island', 'beauti', 'heart', 'fix', 'seagood', 'wife', 'sinc', 'one', 'robbd', 'readi', 'bull', 'done', 'tonight', 'shall', 'wife', 'guard', 'conist', 'faction', 'bassanio', 'come', 'hope', 'friar', 'farewel', 'knew', 'bloodi', 'thereof', 'must', 'undo', 'wrong', 'thee', 'pluck', 'sigh', 'empti', 'love', 'second', 'gentleman', 'franc', 'thersitania', 'would', 'kill', 'solemn', 'know', 'beseech', 'fear', 'pleas', 'two', 'hear', 'sir', 'countess', 'master', 'may', 'potent', 'ancient', 'face', 'owe', 'came', 'love', 'set', 'brookgast', 'thyself', 'eat', 'excel', 'time', 'malvolio', 'say', 'good', 'sir', 'john', 'fair', 'emilia', 'dead', 'malvolio', 'still', 'eer', 'good', 'bloodi', 'differ', 'like', 'thee', 'fought', 'line', 'master', 'thou', 'bearst']\n"
          ]
        }
      ]
    },
    {
      "cell_type": "markdown",
      "source": [
        "# 6. Análise do Vocabulário"
      ],
      "metadata": {
        "id": "hy2UjSSWmvX0"
      }
    },
    {
      "cell_type": "code",
      "source": [
        "from collections import Counter\n",
        "import csv\n",
        "\n",
        "def save_to_csv(file_name, token_info):\n",
        "    with open(file_name, \"w\", newline=\"\", encoding=\"utf-8\") as csvfile:\n",
        "        writer = csv.writer(csvfile)\n",
        "        writer.writerow([\"Token\", \"Ocorrências\", \"Tamanho em Caracteres\"])\n",
        "        for token, info in token_info.items():\n",
        "            writer.writerow([token, info[\"ocorrências\"], info[\"tamanho\"]])\n",
        "\n",
        "def calculate_token_info(tokens):\n",
        "    token_counter = Counter(tokens)\n",
        "    token_length = {token: len(token) for token in token_counter.keys()}\n",
        "    token_info = {token: {\"ocorrências\": count, \"tamanho\": length} for token, count, length in zip(token_counter.keys(), token_counter.values(), token_length.values())}\n",
        "    return token_info\n",
        "\n",
        "lemmatized_token_info = calculate_token_info(lemmatized_text)\n",
        "save_to_csv(\"Shakespeare_Vocabulary_Lemmatized.csv\", lemmatized_token_info)\n",
        "\n",
        "stemmed_porter_token_info = calculate_token_info(stemmed_porter_text)\n",
        "save_to_csv(\"Shakespeare_Vocabulary_Porter.csv\", stemmed_porter_token_info)\n",
        "\n",
        "stemmed_snowball_token_info = calculate_token_info(stemmed_snowball_text)\n",
        "save_to_csv(\"Shakespeare_Vocabulary_Snowball.csv\", stemmed_snowball_token_info)\n",
        "\n",
        "def calculate_comparison_metrics(token_info):\n",
        "    total_tokens = len(token_info)\n",
        "    total_occurrences = sum(info[\"ocorrências\"] for info in token_info.values())\n",
        "    total_characters = sum(info[\"tamanho\"] * info[\"ocorrências\"] for info in token_info.values())\n",
        "    average_occurrences = total_occurrences / total_tokens\n",
        "    average_length = total_characters / total_occurrences\n",
        "    return total_tokens, average_occurrences, average_length\n",
        "\n",
        "lemmatized_metrics = calculate_comparison_metrics(lemmatized_token_info)\n",
        "porter_metrics = calculate_comparison_metrics(stemmed_porter_token_info)\n",
        "snowball_metrics = calculate_comparison_metrics(stemmed_snowball_token_info)\n",
        "\n",
        "with open(\"Shakespeare_Vocabulary_Analysis.txt\", \"w\", encoding=\"utf-8\") as f:\n",
        "    f.write(\"Análise Comparativa do Vocabulário:\\n\\n\")\n",
        "    f.write(\"Lematizador:\\n\")\n",
        "    f.write(f\"Tamanho do Vocabulário: {lemmatized_metrics[0]}\\n\")\n",
        "    f.write(f\"Número Médio de Ocorrências: {lemmatized_metrics[1]}\\n\")\n",
        "    f.write(f\"Tamanho Médio dos Tokens: {lemmatized_metrics[2]}\\n\\n\")\n",
        "    f.write(\"Stemmer (Porter):\\n\")\n",
        "    f.write(f\"Tamanho do Vocabulário: {porter_metrics[0]}\\n\")\n",
        "    f.write(f\"Número Médio de Ocorrências: {porter_metrics[1]}\\n\")\n",
        "    f.write(f\"Tamanho Médio dos Tokens: {porter_metrics[2]}\\n\\n\")\n",
        "    f.write(\"Stemmer (Snowball):\\n\")\n",
        "    f.write(f\"Tamanho do Vocabulário: {snowball_metrics[0]}\\n\")\n",
        "    f.write(f\"Número Médio de Ocorrências: {snowball_metrics[1]}\\n\")\n",
        "    f.write(f\"Tamanho Médio dos Tokens: {snowball_metrics[2]}\\n\")\n"
      ],
      "metadata": {
        "id": "QkgUnt0YmwS3",
        "colab": {
          "base_uri": "https://localhost:8080/"
        },
        "outputId": "f18455c7-db4f-47ba-98f6-789e8cf5c9ae"
      },
      "execution_count": null,
      "outputs": [
        {
          "output_type": "stream",
          "name": "stdout",
          "text": [
            "Documento final comparativo gerado.\n"
          ]
        }
      ]
    },
    {
      "cell_type": "code",
      "source": [],
      "metadata": {
        "id": "ynj6RkasQT9N"
      },
      "execution_count": null,
      "outputs": []
    }
  ]
}